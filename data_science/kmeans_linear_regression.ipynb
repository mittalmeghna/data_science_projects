{
 "cells": [
  {
   "cell_type": "markdown",
   "metadata": {},
   "source": [
    "# Basic ML PROJECT - Simplilearn\n",
    "In this notebook, we will learn work on two different problems using supervised and unsupervised learning models to predict future information. \n"
   ]
  },
  {
   "cell_type": "markdown",
   "metadata": {},
   "source": [
    "## *Some Notes*: \n",
    "- *ML Workflow*    \n",
    "\n",
    "\n",
    "Define Objective -> Prepare data -> Collect Data -> select Algo -> Train Model -> Test Model -> Predict\n",
    "\n",
    "- *Types of Machine Learning*    \n",
    "\n",
    "\n",
    "* Supervised Learning: Machine learning model learns from the past input data  and makes future prediction as output. \n",
    "* Unsupervised Learning: Machine learning model uses unlabeled input data and allows the algorithm to act on that information without guidance. \n",
    "* Reinforcement Learning: Teaching the machine to think for itself based on its past action reward. \n",
    "\n",
    "\n",
    "- *Types of Supervised Learning*    \n",
    "\n",
    "\n",
    "* Classification   \n",
    "    *Decision Trees     \n",
    "    *Support Vector Machine    \n",
    "    \n",
    "   \n",
    "* Regression  \n",
    "  *Linear Regression  \n",
    "  *Polynomial Regression     \n",
    "  \n",
    "  \n",
    "- *Types of Unsurpervised Learning*  \n",
    "\n",
    "\n",
    "* Clustering: Clustering is used for analyzing and grouping data which does not include pre-labeled class or even a class attribute at all.   \n",
    "   * K-means\n",
    "   * Heirarchical Clustering\n",
    "   * Hidden Markov model  \n",
    "   \n",
    "   \n",
    "* Association: Discovers the probability of the co-occurence of items in a collection.\n",
    "    * Apriori algorithm\n",
    "    * FP-Growth  \n",
    "    \n",
    "    \n",
    "- *Reinforcement Learning algorithm*  \n",
    "\n",
    "    *Q-learning  \n",
    "    *Difference(TD)  \n",
    "    *Deep Adverserial Networks\n",
    "    \n",
    "   \n",
    "\n"
   ]
  },
  {
   "cell_type": "markdown",
   "metadata": {},
   "source": [
    "# Supervised Learning: Linear regression Model"
   ]
  },
  {
   "cell_type": "markdown",
   "metadata": {},
   "source": [
    "## Step 1: Frame the problem\n",
    "In this problem, we are looking for a way to predict price of the house based on the size of the house. \n"
   ]
  },
  {
   "cell_type": "markdown",
   "metadata": {},
   "source": [
    "## Step 2 and 3: Obtain and Analyze the Data"
   ]
  },
  {
   "cell_type": "code",
   "execution_count": 36,
   "metadata": {},
   "outputs": [
    {
     "name": "stdout",
     "output_type": "stream",
     "text": [
      "[1400, 1600, 1700, 1875, 1100, 1550, 2350, 2450, 1425, 1700]\n",
      "[[1400]\n",
      " [1600]\n",
      " [1700]\n",
      " [1875]\n",
      " [1100]\n",
      " [1550]\n",
      " [2350]\n",
      " [2450]\n",
      " [1425]\n",
      " [1700]]\n"
     ]
    }
   ],
   "source": [
    "# Importing numpy, matplotlib and sklearn libraries\n",
    "import matplotlib.pyplot as plt\n",
    "%matplotlib inline\n",
    "import numpy as np\n",
    "\n",
    "# importing datasets from scikit-learn\n",
    "from sklearn import datasets, linear_model\n",
    "    \n",
    "# load the datasets\n",
    "house_price = [245, 312, 279, 308, 199, 219, 405, 324, 319, 255]\n",
    "size = [1400, 1600, 1700, 1875, 1100, 1550, 2350, 2450, 1425, 1700]\n",
    "print(size)\n",
    "# Reshape the input to the regression\n",
    "\n",
    "size2 = np.array(size).reshape((-1,1))\n",
    "\n",
    "print(size2)"
   ]
  },
  {
   "cell_type": "markdown",
   "metadata": {},
   "source": [
    "## Step 5: Find a Model "
   ]
  },
  {
   "cell_type": "code",
   "execution_count": 41,
   "metadata": {},
   "outputs": [
    {
     "name": "stdout",
     "output_type": "stream",
     "text": [
      "Coefficients: \n",
      " [0.10976774]\n",
      "Intercepts: \n",
      " 98.24832962138083\n"
     ]
    }
   ],
   "source": [
    "# By using fit model in linear regression, user can fit the data fdrequently and quickly\n",
    "from sklearn.linear_model import LinearRegression\n",
    "\n",
    "regr = linear_model.LinearRegression()\n",
    "regr.fit(size2, house_price)\n",
    "print(\"Coefficients: \\n\", regr.coef_)\n",
    "print(\"Intercepts: \\n\", regr.intercept_)"
   ]
  },
  {
   "cell_type": "markdown",
   "metadata": {},
   "source": [
    "## Step 6: Evaluation"
   ]
  },
  {
   "cell_type": "code",
   "execution_count": 52,
   "metadata": {},
   "outputs": [
    {
     "name": "stdout",
     "output_type": "stream",
     "text": [
      "[251.92316258]\n",
      "[251.92316258]\n"
     ]
    }
   ],
   "source": [
    "# predict price for new house using above linear model\n",
    "size_new = 1400\n",
    "print(regr.predict([[size_new]]))\n",
    "\n",
    "# Alternative way to predict price for new house using above linear model\n",
    "price = (size_new*regr.coef_) + regr.intercept_\n",
    "print(price)\n",
    "\n",
    "\n",
    "#Formula obtained for the Trained Model\n",
    "def graph(formula, x_range):\n",
    "    x = np.array(x_range)\n",
    "    y = eval(formula)\n",
    "    plt.plot(x, y)\n",
    "\n",
    "    "
   ]
  },
  {
   "cell_type": "markdown",
   "metadata": {},
   "source": [
    "## Step 7: Predict on New Cases"
   ]
  },
  {
   "cell_type": "code",
   "execution_count": 58,
   "metadata": {},
   "outputs": [
    {
     "data": {
      "image/png": "[encoded data removed]",
      "text/plain": [
       "<Figure size 432x288 with 1 Axes>"
      ]
     },
     "metadata": {
      "needs_background": "light"
     },
     "output_type": "display_data"
    }
   ],
   "source": [
    "#Plotting the prediction line\n",
    "graph('regr.coef_*x + regr.intercept_', range(1000, 2700))\n",
    "plt.scatter(size, house_price, color = 'black')\n",
    "plt.ylabel('house_price')\n",
    "plt.xlabel('size of house')\n",
    "plt.show()\n"
   ]
  },
  {
   "cell_type": "markdown",
   "metadata": {},
   "source": [
    "## Unsupervised Learning\n",
    "\n",
    "### K-Means Demo"
   ]
  },
  {
   "cell_type": "markdown",
   "metadata": {},
   "source": [
    "## Step 1: Frame the problem\n",
    "\n",
    "A hotel chain wants to establish its new delivery centers across a city in the most optimized way.\n",
    "\n",
    "Possible challenges:\n",
    "1. To analyze the areas from where the food is being delivered frequently.\n",
    "2. To figure out the optimum number of hotels required to cover the area.\n",
    "3. To figure out the optimal hotel locations to minimize the distance between hotel and delivery points.\n",
    "\n",
    "\n"
   ]
  },
  {
   "cell_type": "markdown",
   "metadata": {},
   "source": [
    "## Step 2: Obtain the data\n",
    "\n"
   ]
  },
  {
   "cell_type": "code",
   "execution_count": 78,
   "metadata": {},
   "outputs": [
    {
     "data": {
      "image/png": "[encoded data removed]",
      "text/plain": [
       "<Figure size 432x288 with 1 Axes>"
      ]
     },
     "metadata": {},
     "output_type": "display_data"
    }
   ],
   "source": [
    "import numpy as np\n",
    "import matplotlib.pyplot as plt\n",
    "from matplotlib import style\n",
    "style.use(\"ggplot\")\n",
    "import sklearn \n",
    "from sklearn.cluster import KMeans\n",
    "\n",
    "#Plotting and visualizing our data before feeding it into the Machine Learning Algorithm\n",
    "x = [1, 5, 1.5, 8, 1, 9] \n",
    "y = [2, 8, 1.8, 8, 0.6, 11]\n",
    "plt.scatter(x, y)\n",
    "plt.show()"
   ]
  },
  {
   "cell_type": "markdown",
   "metadata": {},
   "source": [
    "## Step 3: Analyze the data"
   ]
  },
  {
   "cell_type": "code",
   "execution_count": 86,
   "metadata": {},
   "outputs": [],
   "source": [
    "#Converting our data to a Numpy Array\n",
    "\n",
    "X = np.array([[1,2], [5, 8], [1.5, 1.8],[8, 8], [1, 0.6], [9, 11]])\n",
    "Y = np.array([y])"
   ]
  },
  {
   "cell_type": "markdown",
   "metadata": {},
   "source": [
    "## Step 5: Model Selection\n"
   ]
  },
  {
   "cell_type": "code",
   "execution_count": 87,
   "metadata": {},
   "outputs": [
    {
     "data": {
      "text/plain": [
       "KMeans(algorithm='auto', copy_x=True, init='k-means++', max_iter=300,\n",
       "    n_clusters=2, n_init=10, n_jobs=None, precompute_distances='auto',\n",
       "    random_state=None, tol=0.0001, verbose=0)"
      ]
     },
     "execution_count": 87,
     "metadata": {},
     "output_type": "execute_result"
    }
   ],
   "source": [
    "# We initialize K-means algorithm with the required parameter and we use .fit to fit the data\n",
    "kmeans = KMeans(n_clusters = 2)\n",
    "kmeans.fit(X)"
   ]
  },
  {
   "cell_type": "code",
   "execution_count": 88,
   "metadata": {},
   "outputs": [
    {
     "name": "stdout",
     "output_type": "stream",
     "text": [
      "[[7.33333333 9.        ]\n",
      " [1.16666667 1.46666667]]\n",
      "[1 0 1 0 1 0]\n"
     ]
    }
   ],
   "source": [
    "# Getting the values of centroids and labels based on the fitment\n",
    "centroids = kmeans.cluster_centers_\n",
    "labels = kmeans.labels_\n",
    "print(centroids)\n",
    "print(labels)\n",
    "\n",
    "\n",
    "    "
   ]
  },
  {
   "cell_type": "code",
   "execution_count": 91,
   "metadata": {},
   "outputs": [
    {
     "name": "stdout",
     "output_type": "stream",
     "text": [
      "coordinate: [1. 2.] label 1\n",
      "coordinate: [5. 8.] label 0\n",
      "coordinate: [1.5 1.8] label 1\n",
      "coordinate: [8. 8.] label 0\n",
      "coordinate: [1.  0.6] label 1\n",
      "coordinate: [ 9. 11.] label 0\n"
     ]
    },
    {
     "data": {
      "image/png": "[encoded data removed]",
      "text/plain": [
       "<Figure size 432x288 with 1 Axes>"
      ]
     },
     "metadata": {},
     "output_type": "display_data"
    }
   ],
   "source": [
    "#Plotting and visualizing output\n",
    "colors =[\"g.\", \"r.\", \"c.\", \"y.\"]\n",
    "for i in range(len(X)):\n",
    "    print(\"coordinate:\", X[i], \"label\", labels[i])\n",
    "    plt.plot(X[i][0], X[i][1], colors[labels[i]], markersize = 10)\n",
    "plt.scatter(centroids[:,0], centroids[:,1], marker =\"x\", s = 150, linewidths = 5, zorder = 10)\n",
    "plt.show()"
   ]
  },
  {
   "cell_type": "code",
   "execution_count": null,
   "metadata": {},
   "outputs": [],
   "source": []
  }
 ],
 "metadata": {
  "kernelspec": {
   "display_name": "Python 3",
   "language": "python",
   "name": "python3"
  },
  "language_info": {
   "codemirror_mode": {
    "name": "ipython",
    "version": 3
   },
   "file_extension": ".py",
   "mimetype": "text/x-python",
   "name": "python",
   "nbconvert_exporter": "python",
   "pygments_lexer": "ipython3",
   "version": "3.7.1"
  }
 },
 "nbformat": 4,
 "nbformat_minor": 2
}
