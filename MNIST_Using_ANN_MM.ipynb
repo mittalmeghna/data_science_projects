{
  "nbformat": 4,
  "nbformat_minor": 0,
  "metadata": {
    "colab": {
      "name": "MNIST_Using_ANN_MM.ipynb",
      "version": "0.3.2",
      "provenance": [],
      "collapsed_sections": [],
      "include_colab_link": true
    },
    "kernelspec": {
      "display_name": "Python 3",
      "language": "python",
      "name": "python3"
    },
    "accelerator": "GPU"
  },
  "cells": [
    {
      "cell_type": "markdown",
      "metadata": {
        "id": "view-in-github",
        "colab_type": "text"
      },
      "source": [
        "<a href=\"https://colab.research.google.com/github/mittalmeghna/projects/blob/master/MNIST_Using_ANN_MM.ipynb\" target=\"_parent\"><img src=\"https://colab.research.google.com/assets/colab-badge.svg\" alt=\"Open In Colab\"/></a>"
      ]
    },
    {
      "cell_type": "markdown",
      "metadata": {
        "id": "6miluHQwHaMP",
        "colab_type": "text"
      },
      "source": [
        "# MNIST - Classification"
      ]
    },
    {
      "cell_type": "markdown",
      "metadata": {
        "id": "s7-cQEBYHaMR",
        "colab_type": "text"
      },
      "source": [
        "<center><img src=\"https://www.dropbox.com/s/i37mgynkrf1d3vb/supervised_flow_chart.png?raw=1\" height=300px width=1000px></img></center>"
      ]
    },
    {
      "cell_type": "markdown",
      "metadata": {
        "id": "KBIpjEBDHaMS",
        "colab_type": "text"
      },
      "source": [
        "# 01 : Frame the Problem"
      ]
    },
    {
      "cell_type": "markdown",
      "metadata": {
        "id": "F8-rKIDaHaMS",
        "colab_type": "text"
      },
      "source": [
        "We need to build a classifier using the MNIST dataset, which is a set of 70,000 small images of digits handwritten by high school students and employees of the US Census Bureau. Each image is labeled with the digit it represents. This set has been studied so much that it is often called the “Hello World” of Machine Learning. \n",
        "\n",
        "Whenever people come up with a new classification algorithm, they are curious to see how it will perform on MNIST. Whenever someone learns Machine Learning, sooner or later they tackle MNIST. \n",
        "\n",
        "Each image is labeled with the digit it represents. Each digit is represented by 28 x 28, each cell representing pixel depth."
      ]
    },
    {
      "cell_type": "markdown",
      "metadata": {
        "id": "c7oRxXGbHaMT",
        "colab_type": "text"
      },
      "source": [
        "# 02 : Obtaining the Data"
      ]
    },
    {
      "cell_type": "markdown",
      "metadata": {
        "id": "A6CfGVYUHaMT",
        "colab_type": "text"
      },
      "source": [
        "### Import the Libraries"
      ]
    },
    {
      "cell_type": "code",
      "metadata": {
        "id": "gAuLWxDlHaMV",
        "colab_type": "code",
        "outputId": "52522075-8028-4150-b26a-c6f6028463fd",
        "colab": {
          "base_uri": "https://localhost:8080/",
          "height": 35
        }
      },
      "source": [
        "\n",
        "import keras\n",
        "from keras.datasets import mnist\n",
        "from keras.models import Sequential\n",
        "from keras.layers import Dense, Dropout, Flatten\n",
        "from keras.layers import Conv2D, MaxPooling2D\n",
        "from keras import backend as K\n",
        "import matplotlib.pyplot as plt\n",
        "from keras.utils import np_utils"
      ],
      "execution_count": 0,
      "outputs": [
        {
          "output_type": "stream",
          "text": [
            "Using TensorFlow backend.\n"
          ],
          "name": "stderr"
        }
      ]
    },
    {
      "cell_type": "markdown",
      "metadata": {
        "id": "qryO41rAuWEh",
        "colab_type": "text"
      },
      "source": [
        "### Initialize the necessary variables"
      ]
    },
    {
      "cell_type": "code",
      "metadata": {
        "id": "0zHH1kMEuR1d",
        "colab_type": "code",
        "colab": {}
      },
      "source": [
        "batch_size = 128\n",
        "num_classes = 10\n",
        "epochs = 12\n",
        "\n",
        "# input image dimensions\n",
        "img_rows, img_cols = 28, 28"
      ],
      "execution_count": 0,
      "outputs": []
    },
    {
      "cell_type": "markdown",
      "metadata": {
        "id": "qZ8p8dseHaMY",
        "colab_type": "text"
      },
      "source": [
        "### Reading the image data from Keras"
      ]
    },
    {
      "cell_type": "code",
      "metadata": {
        "id": "gAXrrk2dHaMZ",
        "colab_type": "code",
        "colab": {}
      },
      "source": [
        "(x_train, y_train), (x_test, y_test) = mnist.load_data()"
      ],
      "execution_count": 0,
      "outputs": []
    },
    {
      "cell_type": "markdown",
      "metadata": {
        "id": "EgKftEGbHaMp",
        "colab_type": "text"
      },
      "source": [
        "# 03 : Analyze Data"
      ]
    },
    {
      "cell_type": "markdown",
      "metadata": {
        "id": "E82AjK9SHaMq",
        "colab_type": "text"
      },
      "source": [
        "Prepare the Features and Target variables.\n",
        "To analyze what is the shape of the feature set."
      ]
    },
    {
      "cell_type": "code",
      "metadata": {
        "id": "QvA35OFpuhiC",
        "colab_type": "code",
        "outputId": "388daf1d-9b9c-4603-f12d-bee0daa18856",
        "colab": {
          "base_uri": "https://localhost:8080/",
          "height": 269
        }
      },
      "source": [
        "plt.subplot(221)\n",
        "plt.imshow(x_train[0], cmap=plt.get_cmap('gray'))\n",
        "plt.subplot(222)\n",
        "plt.imshow(x_train[1], cmap=plt.get_cmap('gray'))\n",
        "plt.subplot(223)\n",
        "plt.imshow(x_train[2], cmap=plt.get_cmap('gray'))\n",
        "plt.subplot(224)\n",
        "plt.imshow(x_train[3], cmap=plt.get_cmap('gray'))\n",
        "# show the plot\n",
        "plt.show()"
      ],
      "execution_count": 0,
      "outputs": [
        {
          "output_type": "display_data",
          "data": {
            "image/png": "[encoded data removed]",
            "text/plain": [
              "<Figure size 432x288 with 4 Axes>"
            ]
          },
          "metadata": {
            "tags": []
          }
        }
      ]
    },
    {
      "cell_type": "markdown",
      "metadata": {
        "id": "XHxKLkemHaMr",
        "colab_type": "text"
      },
      "source": [
        "Visualizing a random digit using the Matplotlib Library"
      ]
    },
    {
      "cell_type": "markdown",
      "metadata": {
        "id": "2JhFTfXnHaMy",
        "colab_type": "text"
      },
      "source": [
        "# 04 : Feature Engineering"
      ]
    },
    {
      "cell_type": "markdown",
      "metadata": {
        "id": "ztLVyxSnHaMy",
        "colab_type": "text"
      },
      "source": [
        "MNIST data is divided as follows:  \n",
        "- Train Data - First 60000 rows  \n",
        "- Test Data - Last 10000 rows  "
      ]
    },
    {
      "cell_type": "code",
      "metadata": {
        "id": "_Wq7FtYpHaMf",
        "colab_type": "code",
        "colab": {}
      },
      "source": [
        "# Reshaping the image to the size of the image i.e, 28 x 28\n",
        "\n",
        "num_pixels = x_train.shape[1] * x_train.shape[2]\n",
        "x_train = x_train.reshape(x_train.shape[0], num_pixels).astype('float32')\n",
        "x_test = x_test.reshape(x_test.shape[0], num_pixels).astype('float32')"
      ],
      "execution_count": 0,
      "outputs": []
    },
    {
      "cell_type": "code",
      "metadata": {
        "id": "dnslSUnKHaMk",
        "colab_type": "code",
        "colab": {}
      },
      "source": [
        "# Normalizing the pixel data\n",
        "\n",
        "x_train /= 255\n",
        "x_test /= 255"
      ],
      "execution_count": 0,
      "outputs": []
    },
    {
      "cell_type": "code",
      "metadata": {
        "id": "eaZBr2I7HaMm",
        "colab_type": "code",
        "outputId": "e476b16b-88df-48c8-a3af-2b2905814959",
        "colab": {
          "base_uri": "https://localhost:8080/",
          "height": 69
        }
      },
      "source": [
        "print('x_train shape:', x_train.shape)\n",
        "print(x_train.shape[0], 'train samples')\n",
        "print(x_test.shape[0], 'test samples')\n"
      ],
      "execution_count": 0,
      "outputs": [
        {
          "output_type": "stream",
          "text": [
            "x_train shape: (60000, 784)\n",
            "60000 train samples\n",
            "10000 test samples\n"
          ],
          "name": "stdout"
        }
      ]
    },
    {
      "cell_type": "code",
      "metadata": {
        "id": "nVUYY2CvwF8-",
        "colab_type": "code",
        "colab": {}
      },
      "source": [
        "# one hot encode outputs\n",
        "y_train = np_utils.to_categorical(y_train)\n",
        "y_test = np_utils.to_categorical(y_test)\n",
        "num_classes = y_test.shape[1]"
      ],
      "execution_count": 0,
      "outputs": []
    },
    {
      "cell_type": "code",
      "metadata": {
        "id": "ebaCBlCYTwZb",
        "colab_type": "code",
        "outputId": "adad7bd5-b205-4c7d-b31a-56d589767ad8",
        "colab": {
          "base_uri": "https://localhost:8080/",
          "height": 35
        }
      },
      "source": [
        "num_classes"
      ],
      "execution_count": 0,
      "outputs": [
        {
          "output_type": "execute_result",
          "data": {
            "text/plain": [
              "10"
            ]
          },
          "metadata": {
            "tags": []
          },
          "execution_count": 9
        }
      ]
    },
    {
      "cell_type": "markdown",
      "metadata": {
        "id": "4wW8IjBwHaM3",
        "colab_type": "text"
      },
      "source": [
        "# 05 : Model Selection"
      ]
    },
    {
      "cell_type": "markdown",
      "metadata": {
        "id": "56yQfocjHaM5",
        "colab_type": "text"
      },
      "source": [
        "### Create the Baseline Model"
      ]
    },
    {
      "cell_type": "markdown",
      "metadata": {
        "id": "JAd20-sZHaM5",
        "colab_type": "text"
      },
      "source": [
        "Create the baseline model using seqeuential and dense from Keras module."
      ]
    },
    {
      "cell_type": "code",
      "metadata": {
        "id": "MS_VSSn_yHNT",
        "colab_type": "code",
        "outputId": "bea82e75-fd93-46d8-f747-fe77beebe42d",
        "colab": {
          "base_uri": "https://localhost:8080/",
          "height": 35
        }
      },
      "source": [
        "x_train.shape"
      ],
      "execution_count": 0,
      "outputs": [
        {
          "output_type": "execute_result",
          "data": {
            "text/plain": [
              "(60000, 784)"
            ]
          },
          "metadata": {
            "tags": []
          },
          "execution_count": 10
        }
      ]
    },
    {
      "cell_type": "code",
      "metadata": {
        "id": "_XTCUzuXD7i_",
        "colab_type": "code",
        "colab": {}
      },
      "source": [
        "from keras.layers import Conv2D\n",
        "from keras.layers import MaxPooling2D\n",
        "from keras.layers import Flatten"
      ],
      "execution_count": 0,
      "outputs": []
    },
    {
      "cell_type": "code",
      "metadata": {
        "id": "_4EmSHllHaM6",
        "colab_type": "code",
        "outputId": "7dbb8719-f28b-40d1-d991-3c427448590f",
        "colab": {
          "base_uri": "https://localhost:8080/",
          "height": 89
        }
      },
      "source": [
        "from keras.layers.core import Dense, Dropout, Activation\n",
        "\n",
        "model = Sequential()\n",
        "model.add(Dense(512, input_shape=(784,)))\n",
        "model.add(Activation('relu'))                            \n",
        "\n",
        "model.add(Dense(512))\n",
        "model.add(Activation('relu'))\n",
        "\n",
        "model.add(Dense(10))\n",
        "model.add(Activation('softmax'))"
      ],
      "execution_count": 0,
      "outputs": [
        {
          "output_type": "stream",
          "text": [
            "WARNING:tensorflow:From /usr/local/lib/python3.6/dist-packages/tensorflow/python/framework/op_def_library.py:263: colocate_with (from tensorflow.python.framework.ops) is deprecated and will be removed in a future version.\n",
            "Instructions for updating:\n",
            "Colocations handled automatically by placer.\n"
          ],
          "name": "stdout"
        }
      ]
    },
    {
      "cell_type": "code",
      "metadata": {
        "id": "N9EsMhVwVLG2",
        "colab_type": "code",
        "outputId": "38a39e2a-bc9a-424f-c9fd-972ed2b55af0",
        "colab": {
          "base_uri": "https://localhost:8080/",
          "height": 347
        }
      },
      "source": [
        "model.compile(loss='categorical_crossentropy', metrics=['accuracy'], optimizer='adam')\n",
        "model.summary()"
      ],
      "execution_count": 0,
      "outputs": [
        {
          "output_type": "stream",
          "text": [
            "_________________________________________________________________\n",
            "Layer (type)                 Output Shape              Param #   \n",
            "=================================================================\n",
            "dense_1 (Dense)              (None, 512)               401920    \n",
            "_________________________________________________________________\n",
            "activation_1 (Activation)    (None, 512)               0         \n",
            "_________________________________________________________________\n",
            "dense_2 (Dense)              (None, 512)               262656    \n",
            "_________________________________________________________________\n",
            "activation_2 (Activation)    (None, 512)               0         \n",
            "_________________________________________________________________\n",
            "dense_3 (Dense)              (None, 10)                5130      \n",
            "_________________________________________________________________\n",
            "activation_3 (Activation)    (None, 10)                0         \n",
            "=================================================================\n",
            "Total params: 669,706\n",
            "Trainable params: 669,706\n",
            "Non-trainable params: 0\n",
            "_________________________________________________________________\n"
          ],
          "name": "stdout"
        }
      ]
    },
    {
      "cell_type": "code",
      "metadata": {
        "id": "xobb03UrVd11",
        "colab_type": "code",
        "outputId": "445ab88b-4134-4ee7-8682-d331ac04cbf5",
        "colab": {
          "base_uri": "https://localhost:8080/",
          "height": 35
        }
      },
      "source": [
        "x_train.shape"
      ],
      "execution_count": 0,
      "outputs": [
        {
          "output_type": "execute_result",
          "data": {
            "text/plain": [
              "(60000, 784)"
            ]
          },
          "metadata": {
            "tags": []
          },
          "execution_count": 14
        }
      ]
    },
    {
      "cell_type": "code",
      "metadata": {
        "id": "GlLCt2auVgDs",
        "colab_type": "code",
        "outputId": "f24da82f-6063-4312-e252-22133bc58eeb",
        "colab": {
          "base_uri": "https://localhost:8080/",
          "height": 35
        }
      },
      "source": [
        "y_train.shape"
      ],
      "execution_count": 0,
      "outputs": [
        {
          "output_type": "execute_result",
          "data": {
            "text/plain": [
              "(60000, 10)"
            ]
          },
          "metadata": {
            "tags": []
          },
          "execution_count": 15
        }
      ]
    },
    {
      "cell_type": "code",
      "metadata": {
        "id": "Rdt5JxBIHaM9",
        "colab_type": "code",
        "outputId": "d9c7eab4-1b39-4593-dbc4-ca08ab8d2021",
        "colab": {
          "base_uri": "https://localhost:8080/",
          "height": 471
        }
      },
      "source": [
        "# build the model\n",
        "# Fit the model\n",
        "model.fit(x_train, y_train, validation_data=(x_test, y_test), epochs=10, batch_size=200, verbose=2)\n"
      ],
      "execution_count": 0,
      "outputs": [
        {
          "output_type": "stream",
          "text": [
            "WARNING:tensorflow:From /usr/local/lib/python3.6/dist-packages/tensorflow/python/ops/math_ops.py:3066: to_int32 (from tensorflow.python.ops.math_ops) is deprecated and will be removed in a future version.\n",
            "Instructions for updating:\n",
            "Use tf.cast instead.\n",
            "Train on 60000 samples, validate on 10000 samples\n",
            "Epoch 1/10\n",
            " - 2s - loss: 0.2472 - acc: 0.9291 - val_loss: 0.1093 - val_acc: 0.9670\n",
            "Epoch 2/10\n",
            " - 1s - loss: 0.0851 - acc: 0.9739 - val_loss: 0.0835 - val_acc: 0.9742\n",
            "Epoch 3/10\n",
            " - 1s - loss: 0.0530 - acc: 0.9835 - val_loss: 0.0631 - val_acc: 0.9798\n",
            "Epoch 4/10\n",
            " - 1s - loss: 0.0363 - acc: 0.9889 - val_loss: 0.0692 - val_acc: 0.9776\n",
            "Epoch 5/10\n",
            " - 1s - loss: 0.0255 - acc: 0.9921 - val_loss: 0.0856 - val_acc: 0.9753\n",
            "Epoch 6/10\n",
            " - 1s - loss: 0.0237 - acc: 0.9917 - val_loss: 0.0700 - val_acc: 0.9787\n",
            "Epoch 7/10\n",
            " - 1s - loss: 0.0175 - acc: 0.9942 - val_loss: 0.0791 - val_acc: 0.9801\n",
            "Epoch 8/10\n",
            " - 1s - loss: 0.0131 - acc: 0.9959 - val_loss: 0.0692 - val_acc: 0.9815\n",
            "Epoch 9/10\n",
            " - 1s - loss: 0.0148 - acc: 0.9948 - val_loss: 0.0817 - val_acc: 0.9802\n",
            "Epoch 10/10\n",
            " - 1s - loss: 0.0123 - acc: 0.9955 - val_loss: 0.0780 - val_acc: 0.9812\n"
          ],
          "name": "stdout"
        },
        {
          "output_type": "execute_result",
          "data": {
            "text/plain": [
              "<keras.callbacks.History at 0x7f88dfe54160>"
            ]
          },
          "metadata": {
            "tags": []
          },
          "execution_count": 16
        }
      ]
    },
    {
      "cell_type": "code",
      "metadata": {
        "id": "u41-r39oVFP6",
        "colab_type": "code",
        "outputId": "3a215dec-46a0-44aa-bf98-d74fa2b6ce68",
        "colab": {
          "base_uri": "https://localhost:8080/",
          "height": 35
        }
      },
      "source": [
        "# Final evaluation of the model\n",
        "scores = model.evaluate(x_test, y_test, verbose=2)\n",
        "print(\"Baseline Error: %.2f%%\" % (100-scores[1]*100))"
      ],
      "execution_count": 0,
      "outputs": [
        {
          "output_type": "stream",
          "text": [
            "Baseline Error: 1.88%\n"
          ],
          "name": "stdout"
        }
      ]
    },
    {
      "cell_type": "code",
      "metadata": {
        "id": "-cDkZB5H624d",
        "colab_type": "code",
        "outputId": "26cddb25-b6ac-45e3-f9e7-db21998a528f",
        "colab": {
          "base_uri": "https://localhost:8080/",
          "height": 35
        }
      },
      "source": [
        "print('Test accuracy:', scores[1])"
      ],
      "execution_count": 0,
      "outputs": [
        {
          "output_type": "stream",
          "text": [
            "Test accuracy: 0.9812\n"
          ],
          "name": "stdout"
        }
      ]
    },
    {
      "cell_type": "code",
      "metadata": {
        "id": "fDm4UAEjWVhB",
        "colab_type": "code",
        "outputId": "ccec9a93-43c8-49e5-e1be-08999026e736",
        "colab": {
          "base_uri": "https://localhost:8080/",
          "height": 35
        }
      },
      "source": [
        "scores"
      ],
      "execution_count": 0,
      "outputs": [
        {
          "output_type": "execute_result",
          "data": {
            "text/plain": [
              "[0.07802253419304116, 0.9812]"
            ]
          },
          "metadata": {
            "tags": []
          },
          "execution_count": 19
        }
      ]
    },
    {
      "cell_type": "markdown",
      "metadata": {
        "id": "OQ1xEehi7LEh",
        "colab_type": "text"
      },
      "source": [
        "<center><h1>The End</h1></center>"
      ]
    }
  ]
}