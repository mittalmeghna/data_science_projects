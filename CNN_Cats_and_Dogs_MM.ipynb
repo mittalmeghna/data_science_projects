{
  "nbformat": 4,
  "nbformat_minor": 0,
  "metadata": {
    "colab": {
      "name": "CNN_Cats_and_Dogs_MM.ipynb",
      "version": "0.3.2",
      "provenance": [],
      "collapsed_sections": [],
      "include_colab_link": true
    },
    "kernelspec": {
      "name": "python3",
      "display_name": "Python 3"
    },
    "accelerator": "GPU"
  },
  "cells": [
    {
      "cell_type": "markdown",
      "metadata": {
        "id": "view-in-github",
        "colab_type": "text"
      },
      "source": [
        "<a href=\"https://colab.research.google.com/github/mittalmeghna/projects/blob/master/CNN_Cats_and_Dogs_MM.ipynb\" target=\"_parent\"><img src=\"https://colab.research.google.com/assets/colab-badge.svg\" alt=\"Open In Colab\"/></a>"
      ]
    },
    {
      "cell_type": "markdown",
      "metadata": {
        "id": "KBIpjEBDHaMS",
        "colab_type": "text"
      },
      "source": [
        "# 01 : Frame the Problem\n",
        "\n",
        "Identify the cat or dog from the set of images in the given dataset."
      ]
    },
    {
      "cell_type": "code",
      "metadata": {
        "id": "w6v-8GwxyS7m",
        "colab_type": "code",
        "outputId": "39695ecb-7cea-4460-8cd5-b8d65df78fae",
        "colab": {
          "base_uri": "https://localhost:8080/",
          "height": 35
        }
      },
      "source": [
        "from keras.models import Sequential\n",
        "from keras.layers import Conv2D\n",
        "from keras.layers import MaxPooling2D\n",
        "from keras.layers import Flatten\n",
        "from keras.layers import Dense"
      ],
      "execution_count": 0,
      "outputs": [
        {
          "output_type": "stream",
          "text": [
            "Using TensorFlow backend.\n"
          ],
          "name": "stderr"
        }
      ]
    },
    {
      "cell_type": "code",
      "metadata": {
        "id": "CJ7xfKi8brHf",
        "colab_type": "code",
        "outputId": "80d68854-c465-4910-c3d2-d9a042516430",
        "colab": {
          "base_uri": "https://localhost:8080/",
          "height": 555
        }
      },
      "source": [
        "from tensorflow.python.client import device_lib\n",
        "print(device_lib.list_local_devices())"
      ],
      "execution_count": 0,
      "outputs": [
        {
          "output_type": "stream",
          "text": [
            "[name: \"/device:CPU:0\"\n",
            "device_type: \"CPU\"\n",
            "memory_limit: 268435456\n",
            "locality {\n",
            "}\n",
            "incarnation: 15330971349913910016\n",
            ", name: \"/device:XLA_CPU:0\"\n",
            "device_type: \"XLA_CPU\"\n",
            "memory_limit: 17179869184\n",
            "locality {\n",
            "}\n",
            "incarnation: 6358190334806337211\n",
            "physical_device_desc: \"device: XLA_CPU device\"\n",
            ", name: \"/device:XLA_GPU:0\"\n",
            "device_type: \"XLA_GPU\"\n",
            "memory_limit: 17179869184\n",
            "locality {\n",
            "}\n",
            "incarnation: 17621689800145644223\n",
            "physical_device_desc: \"device: XLA_GPU device\"\n",
            ", name: \"/device:GPU:0\"\n",
            "device_type: \"GPU\"\n",
            "memory_limit: 14234881229\n",
            "locality {\n",
            "  bus_id: 1\n",
            "  links {\n",
            "  }\n",
            "}\n",
            "incarnation: 1780222543743563916\n",
            "physical_device_desc: \"device: 0, name: Tesla T4, pci bus id: 0000:00:04.0, compute capability: 7.5\"\n",
            "]\n"
          ],
          "name": "stdout"
        }
      ]
    },
    {
      "cell_type": "markdown",
      "metadata": {
        "id": "c7oRxXGbHaMT",
        "colab_type": "text"
      },
      "source": [
        "# 02 : Obtaining the Data"
      ]
    },
    {
      "cell_type": "code",
      "metadata": {
        "id": "S5Mzrytp64X_",
        "colab_type": "code",
        "outputId": "3aaca431-1c57-4213-833f-e4e2cc9f1e20",
        "colab": {
          "base_uri": "https://localhost:8080/",
          "height": 520
        }
      },
      "source": [
        "ls -l"
      ],
      "execution_count": 0,
      "outputs": [
        {
          "output_type": "stream",
          "text": [
            "total 1333728\n",
            "-rw-r--r-- 1 root root    522241 May  5 19:39 0\n",
            "drwxr-xr-x 5 root root      4096 Jun  6  2018 \u001b[0m\u001b[01;34mdataset\u001b[0m/\n",
            "-rw-r--r-- 1 root root 227353580 May  5 19:01 dataset.zip\n",
            "-rw-r--r-- 1 root root 227353580 May  5 19:08 dataset.zip.1\n",
            "-rw-r--r-- 1 root root 227353580 May  5 19:11 dataset.zip.2\n",
            "-rw-r--r-- 1 root root 227353580 May  5 19:13 dataset.zip.3\n",
            "-rw-r--r-- 1 root root 227353580 May  5 19:19 dataset.zip.4\n",
            "-rw-r--r-- 1 root root 227353580 May  5 19:39 dataset.zip.5\n",
            "-rw-r--r-- 1 root root    352640 May  5 17:02 fn.save\n",
            "drwxrwxr-x 3 root root      4096 Aug  9  2018 \u001b[01;34m__MACOSX\u001b[0m/\n",
            "-rw-r--r-- 1 root root     28629 May  5 16:50 production.csv\n",
            "-rw-r--r-- 1 root root     28629 May  5 16:51 production.csv.1\n",
            "-rw-r--r-- 1 root root     28629 May  5 16:53 production.csv.2\n",
            "-rw-r--r-- 1 root root     28629 May  5 16:54 production.csv.3\n",
            "-rw-r--r-- 1 root root     28629 May  5 16:54 production.csv.4\n",
            "-rw-r--r-- 1 root root     28629 May  5 16:59 production.csv.5\n",
            "-rw-r--r-- 1 root root     28629 May  5 17:02 production.csv.6\n",
            "drwxr-xr-x 1 root root      4096 Apr 29 16:32 \u001b[01;34msample_data\u001b[0m/\n",
            "-rw-r--r-- 1 root root     23988 May  5 19:30 test_image.jpeg\n",
            "-rw-r--r-- 1 root root     23988 May  5 19:42 test_image.jpeg.1\n",
            "-rw-r--r-- 1 root root     23988 May  5 19:43 test_image.jpeg.2\n",
            "-rw-r--r-- 1 root root     60302 May  5 16:50 titanic.csv\n",
            "-rw-r--r-- 1 root root     60302 May  5 16:51 titanic.csv.1\n",
            "-rw-r--r-- 1 root root     60302 May  5 16:53 titanic.csv.2\n",
            "-rw-r--r-- 1 root root     60302 May  5 16:54 titanic.csv.3\n",
            "-rw-r--r-- 1 root root     60302 May  5 16:54 titanic.csv.4\n",
            "-rw-r--r-- 1 root root     60302 May  5 16:59 titanic.csv.5\n",
            "-rw-r--r-- 1 root root     60302 May  5 17:02 titanic.csv.6\n"
          ],
          "name": "stdout"
        }
      ]
    },
    {
      "cell_type": "code",
      "metadata": {
        "id": "N2eN-waRyXKZ",
        "colab_type": "code",
        "outputId": "b81b7eca-fe1c-431c-c632-1f9200f19799",
        "colab": {
          "base_uri": "https://localhost:8080/",
          "height": 453
        }
      },
      "source": [
        "!wget https://www.dropbox.com/s/avul1qk8eeaqebo/dataset.zip"
      ],
      "execution_count": 0,
      "outputs": [
        {
          "output_type": "stream",
          "text": [
            "--2019-05-05 19:49:17--  https://www.dropbox.com/s/avul1qk8eeaqebo/dataset.zip\n",
            "Resolving www.dropbox.com (www.dropbox.com)... 162.125.3.1, 2620:100:601b:1::a27d:801\n",
            "Connecting to www.dropbox.com (www.dropbox.com)|162.125.3.1|:443... connected.\n",
            "HTTP request sent, awaiting response... 301 Moved Permanently\n",
            "Location: /s/raw/avul1qk8eeaqebo/dataset.zip [following]\n",
            "--2019-05-05 19:49:17--  https://www.dropbox.com/s/raw/avul1qk8eeaqebo/dataset.zip\n",
            "Reusing existing connection to www.dropbox.com:443.\n",
            "HTTP request sent, awaiting response... 302 Found\n",
            "Location: https://uc52a6b7a65becdc84cb0fa074cf.dl.dropboxusercontent.com/cd/0/inline/AgXMln10DVxZCNBRUeMYkFS7B6TYGiMp4idYd8lZHi0SlUrSRDPqpvlQPg8-LvLHTDXfvzfGek6zjJe9rr9FENca0TsBjr_YT_UCJ5V5Bw9ZLw/file# [following]\n",
            "--2019-05-05 19:49:17--  https://uc52a6b7a65becdc84cb0fa074cf.dl.dropboxusercontent.com/cd/0/inline/AgXMln10DVxZCNBRUeMYkFS7B6TYGiMp4idYd8lZHi0SlUrSRDPqpvlQPg8-LvLHTDXfvzfGek6zjJe9rr9FENca0TsBjr_YT_UCJ5V5Bw9ZLw/file\n",
            "Resolving uc52a6b7a65becdc84cb0fa074cf.dl.dropboxusercontent.com (uc52a6b7a65becdc84cb0fa074cf.dl.dropboxusercontent.com)... 162.125.8.6, 2620:100:601b:6::a27d:806\n",
            "Connecting to uc52a6b7a65becdc84cb0fa074cf.dl.dropboxusercontent.com (uc52a6b7a65becdc84cb0fa074cf.dl.dropboxusercontent.com)|162.125.8.6|:443... connected.\n",
            "HTTP request sent, awaiting response... 302 FOUND\n",
            "Location: /cd/0/inline2/AgWM2JxRfLlTZNKN0eMTU3Jq_YfdWuogdqIEDJJXIp43ew9Opztw-o1rpbNNDNTLjsIcTIX3TLJ6Pxepr0lOyczeAqxEoSHiJQWi1gqoGl1yC4_CmUGTebzacGrTfY1TWNBjmrSvjf5LVuBdJz7URRG_TBGT8kYMrCVkz6t5Gf2nL_NwehqwfLB2I6HtPU_ISnLNleJcFyidzoFM4Ep_zp0jYVBkzCpr8A-0_7Aj7eMQT5IDkJVHRjfXLOGHe3tDSzGco1ZCdeGJThSSt66OVDW0BFkqUzhaVcDPJ_5Ft_D5w2eRDkAoc7Vx96CU8c-kfQKQgQZcgXarRs3UKXZxPmBo/file [following]\n",
            "--2019-05-05 19:49:18--  https://uc52a6b7a65becdc84cb0fa074cf.dl.dropboxusercontent.com/cd/0/inline2/AgWM2JxRfLlTZNKN0eMTU3Jq_YfdWuogdqIEDJJXIp43ew9Opztw-o1rpbNNDNTLjsIcTIX3TLJ6Pxepr0lOyczeAqxEoSHiJQWi1gqoGl1yC4_CmUGTebzacGrTfY1TWNBjmrSvjf5LVuBdJz7URRG_TBGT8kYMrCVkz6t5Gf2nL_NwehqwfLB2I6HtPU_ISnLNleJcFyidzoFM4Ep_zp0jYVBkzCpr8A-0_7Aj7eMQT5IDkJVHRjfXLOGHe3tDSzGco1ZCdeGJThSSt66OVDW0BFkqUzhaVcDPJ_5Ft_D5w2eRDkAoc7Vx96CU8c-kfQKQgQZcgXarRs3UKXZxPmBo/file\n",
            "Reusing existing connection to uc52a6b7a65becdc84cb0fa074cf.dl.dropboxusercontent.com:443.\n",
            "HTTP request sent, awaiting response... 200 OK\n",
            "Length: 227353580 (217M) [application/zip]\n",
            "Saving to: ‘dataset.zip.6’\n",
            "\n",
            "dataset.zip.6       100%[===================>] 216.82M  40.7MB/s    in 5.3s    \n",
            "\n",
            "2019-05-05 19:49:24 (40.7 MB/s) - ‘dataset.zip.6’ saved [227353580/227353580]\n",
            "\n"
          ],
          "name": "stdout"
        }
      ]
    },
    {
      "cell_type": "code",
      "metadata": {
        "id": "3KxMfH42pWWR",
        "colab_type": "code",
        "outputId": "0d6c9584-27ec-4a99-d819-93b6c978662c",
        "colab": {
          "base_uri": "https://localhost:8080/",
          "height": 35
        }
      },
      "source": [
        "cat wget-log.1 # "
      ],
      "execution_count": 0,
      "outputs": [
        {
          "output_type": "stream",
          "text": [
            "cat: wget-log.1: No such file or directory\n"
          ],
          "name": "stdout"
        }
      ]
    },
    {
      "cell_type": "code",
      "metadata": {
        "id": "1gbdlYboyi4W",
        "colab_type": "code",
        "outputId": "1c29fa3b-6cca-4ad5-a30d-5c4ea06ab646",
        "colab": {
          "base_uri": "https://localhost:8080/",
          "height": 537
        }
      },
      "source": [
        "ls -l"
      ],
      "execution_count": 0,
      "outputs": [
        {
          "output_type": "stream",
          "text": [
            "total 1555756\n",
            "-rw-r--r-- 1 root root    522241 May  5 19:39 0\n",
            "drwxr-xr-x 5 root root      4096 Jun  6  2018 \u001b[0m\u001b[01;34mdataset\u001b[0m/\n",
            "-rw-r--r-- 1 root root 227353580 May  5 19:01 dataset.zip\n",
            "-rw-r--r-- 1 root root 227353580 May  5 19:08 dataset.zip.1\n",
            "-rw-r--r-- 1 root root 227353580 May  5 19:11 dataset.zip.2\n",
            "-rw-r--r-- 1 root root 227353580 May  5 19:13 dataset.zip.3\n",
            "-rw-r--r-- 1 root root 227353580 May  5 19:19 dataset.zip.4\n",
            "-rw-r--r-- 1 root root 227353580 May  5 19:39 dataset.zip.5\n",
            "-rw-r--r-- 1 root root 227353580 May  5 19:49 dataset.zip.6\n",
            "-rw-r--r-- 1 root root    352640 May  5 17:02 fn.save\n",
            "drwxrwxr-x 3 root root      4096 Aug  9  2018 \u001b[01;34m__MACOSX\u001b[0m/\n",
            "-rw-r--r-- 1 root root     28629 May  5 16:50 production.csv\n",
            "-rw-r--r-- 1 root root     28629 May  5 16:51 production.csv.1\n",
            "-rw-r--r-- 1 root root     28629 May  5 16:53 production.csv.2\n",
            "-rw-r--r-- 1 root root     28629 May  5 16:54 production.csv.3\n",
            "-rw-r--r-- 1 root root     28629 May  5 16:54 production.csv.4\n",
            "-rw-r--r-- 1 root root     28629 May  5 16:59 production.csv.5\n",
            "-rw-r--r-- 1 root root     28629 May  5 17:02 production.csv.6\n",
            "drwxr-xr-x 1 root root      4096 Apr 29 16:32 \u001b[01;34msample_data\u001b[0m/\n",
            "-rw-r--r-- 1 root root     23988 May  5 19:30 test_image.jpeg\n",
            "-rw-r--r-- 1 root root     23988 May  5 19:42 test_image.jpeg.1\n",
            "-rw-r--r-- 1 root root     23988 May  5 19:43 test_image.jpeg.2\n",
            "-rw-r--r-- 1 root root     60302 May  5 16:50 titanic.csv\n",
            "-rw-r--r-- 1 root root     60302 May  5 16:51 titanic.csv.1\n",
            "-rw-r--r-- 1 root root     60302 May  5 16:53 titanic.csv.2\n",
            "-rw-r--r-- 1 root root     60302 May  5 16:54 titanic.csv.3\n",
            "-rw-r--r-- 1 root root     60302 May  5 16:54 titanic.csv.4\n",
            "-rw-r--r-- 1 root root     60302 May  5 16:59 titanic.csv.5\n",
            "-rw-r--r-- 1 root root     60302 May  5 17:02 titanic.csv.6\n"
          ],
          "name": "stdout"
        }
      ]
    },
    {
      "cell_type": "markdown",
      "metadata": {
        "id": "YmYDwM71ogT2",
        "colab_type": "text"
      },
      "source": [
        ""
      ]
    },
    {
      "cell_type": "code",
      "metadata": {
        "id": "TicydoyRqDqj",
        "colab_type": "code",
        "outputId": "791a74b5-6221-48a9-b29c-5402f0ba51fb",
        "colab": {
          "base_uri": "https://localhost:8080/",
          "height": 35
        }
      },
      "source": [
        "!unzip dataset.zip >> 0 # What does it do?"
      ],
      "execution_count": 0,
      "outputs": [
        {
          "output_type": "stream",
          "text": [
            "replace dataset/single_prediction/Icon? [y]es, [n]o, [A]ll, [N]one, [r]ename: N\n"
          ],
          "name": "stdout"
        }
      ]
    },
    {
      "cell_type": "code",
      "metadata": {
        "id": "XxXen4aryic8",
        "colab_type": "code",
        "outputId": "188e7a0a-9439-4bb2-9e8f-2024f8ec3d27",
        "colab": {
          "base_uri": "https://localhost:8080/",
          "height": 537
        }
      },
      "source": [
        "!ls -l"
      ],
      "execution_count": 0,
      "outputs": [
        {
          "output_type": "stream",
          "text": [
            "total 1555756\n",
            "-rw-r--r-- 1 root root    522263 May  5 19:49 0\n",
            "drwxr-xr-x 5 root root      4096 Jun  6  2018 dataset\n",
            "-rw-r--r-- 1 root root 227353580 May  5 19:01 dataset.zip\n",
            "-rw-r--r-- 1 root root 227353580 May  5 19:08 dataset.zip.1\n",
            "-rw-r--r-- 1 root root 227353580 May  5 19:11 dataset.zip.2\n",
            "-rw-r--r-- 1 root root 227353580 May  5 19:13 dataset.zip.3\n",
            "-rw-r--r-- 1 root root 227353580 May  5 19:19 dataset.zip.4\n",
            "-rw-r--r-- 1 root root 227353580 May  5 19:39 dataset.zip.5\n",
            "-rw-r--r-- 1 root root 227353580 May  5 19:49 dataset.zip.6\n",
            "-rw-r--r-- 1 root root    352640 May  5 17:02 fn.save\n",
            "drwxrwxr-x 3 root root      4096 Aug  9  2018 __MACOSX\n",
            "-rw-r--r-- 1 root root     28629 May  5 16:50 production.csv\n",
            "-rw-r--r-- 1 root root     28629 May  5 16:51 production.csv.1\n",
            "-rw-r--r-- 1 root root     28629 May  5 16:53 production.csv.2\n",
            "-rw-r--r-- 1 root root     28629 May  5 16:54 production.csv.3\n",
            "-rw-r--r-- 1 root root     28629 May  5 16:54 production.csv.4\n",
            "-rw-r--r-- 1 root root     28629 May  5 16:59 production.csv.5\n",
            "-rw-r--r-- 1 root root     28629 May  5 17:02 production.csv.6\n",
            "drwxr-xr-x 1 root root      4096 Apr 29 16:32 sample_data\n",
            "-rw-r--r-- 1 root root     23988 May  5 19:30 test_image.jpeg\n",
            "-rw-r--r-- 1 root root     23988 May  5 19:42 test_image.jpeg.1\n",
            "-rw-r--r-- 1 root root     23988 May  5 19:43 test_image.jpeg.2\n",
            "-rw-r--r-- 1 root root     60302 May  5 16:50 titanic.csv\n",
            "-rw-r--r-- 1 root root     60302 May  5 16:51 titanic.csv.1\n",
            "-rw-r--r-- 1 root root     60302 May  5 16:53 titanic.csv.2\n",
            "-rw-r--r-- 1 root root     60302 May  5 16:54 titanic.csv.3\n",
            "-rw-r--r-- 1 root root     60302 May  5 16:54 titanic.csv.4\n",
            "-rw-r--r-- 1 root root     60302 May  5 16:59 titanic.csv.5\n",
            "-rw-r--r-- 1 root root     60302 May  5 17:02 titanic.csv.6\n"
          ],
          "name": "stdout"
        }
      ]
    },
    {
      "cell_type": "markdown",
      "metadata": {
        "colab_type": "text",
        "id": "00wtzURRsGhm"
      },
      "source": [
        "# 04 : Feature Engineering"
      ]
    },
    {
      "cell_type": "code",
      "metadata": {
        "id": "ibyyAFN_yS8X",
        "colab_type": "code",
        "colab": {}
      },
      "source": [
        "from keras.preprocessing.image import ImageDataGenerator"
      ],
      "execution_count": 0,
      "outputs": []
    },
    {
      "cell_type": "code",
      "metadata": {
        "id": "18_0bOw-yS8b",
        "colab_type": "code",
        "colab": {}
      },
      "source": [
        "train_datagen = ImageDataGenerator(rescale = 1./255,\n",
        "                                   shear_range = 0.2,\n",
        "                                   zoom_range = 0.2,\n",
        "                                   horizontal_flip = True)"
      ],
      "execution_count": 0,
      "outputs": []
    },
    {
      "cell_type": "code",
      "metadata": {
        "id": "1a4zJgzAyS8d",
        "colab_type": "code",
        "colab": {}
      },
      "source": [
        "test_datagen = ImageDataGenerator(rescale = 1./255)"
      ],
      "execution_count": 0,
      "outputs": []
    },
    {
      "cell_type": "code",
      "metadata": {
        "id": "r27CJS5H_l8J",
        "colab_type": "code",
        "outputId": "404b7e9f-1c08-4cc1-fada-84185ce69fee",
        "colab": {
          "base_uri": "https://localhost:8080/",
          "height": 537
        }
      },
      "source": [
        "ls -l "
      ],
      "execution_count": 0,
      "outputs": [
        {
          "output_type": "stream",
          "text": [
            "total 1555756\n",
            "-rw-r--r-- 1 root root    522263 May  5 19:49 0\n",
            "drwxr-xr-x 5 root root      4096 Jun  6  2018 \u001b[0m\u001b[01;34mdataset\u001b[0m/\n",
            "-rw-r--r-- 1 root root 227353580 May  5 19:01 dataset.zip\n",
            "-rw-r--r-- 1 root root 227353580 May  5 19:08 dataset.zip.1\n",
            "-rw-r--r-- 1 root root 227353580 May  5 19:11 dataset.zip.2\n",
            "-rw-r--r-- 1 root root 227353580 May  5 19:13 dataset.zip.3\n",
            "-rw-r--r-- 1 root root 227353580 May  5 19:19 dataset.zip.4\n",
            "-rw-r--r-- 1 root root 227353580 May  5 19:39 dataset.zip.5\n",
            "-rw-r--r-- 1 root root 227353580 May  5 19:49 dataset.zip.6\n",
            "-rw-r--r-- 1 root root    352640 May  5 17:02 fn.save\n",
            "drwxrwxr-x 3 root root      4096 Aug  9  2018 \u001b[01;34m__MACOSX\u001b[0m/\n",
            "-rw-r--r-- 1 root root     28629 May  5 16:50 production.csv\n",
            "-rw-r--r-- 1 root root     28629 May  5 16:51 production.csv.1\n",
            "-rw-r--r-- 1 root root     28629 May  5 16:53 production.csv.2\n",
            "-rw-r--r-- 1 root root     28629 May  5 16:54 production.csv.3\n",
            "-rw-r--r-- 1 root root     28629 May  5 16:54 production.csv.4\n",
            "-rw-r--r-- 1 root root     28629 May  5 16:59 production.csv.5\n",
            "-rw-r--r-- 1 root root     28629 May  5 17:02 production.csv.6\n",
            "drwxr-xr-x 1 root root      4096 Apr 29 16:32 \u001b[01;34msample_data\u001b[0m/\n",
            "-rw-r--r-- 1 root root     23988 May  5 19:30 test_image.jpeg\n",
            "-rw-r--r-- 1 root root     23988 May  5 19:42 test_image.jpeg.1\n",
            "-rw-r--r-- 1 root root     23988 May  5 19:43 test_image.jpeg.2\n",
            "-rw-r--r-- 1 root root     60302 May  5 16:50 titanic.csv\n",
            "-rw-r--r-- 1 root root     60302 May  5 16:51 titanic.csv.1\n",
            "-rw-r--r-- 1 root root     60302 May  5 16:53 titanic.csv.2\n",
            "-rw-r--r-- 1 root root     60302 May  5 16:54 titanic.csv.3\n",
            "-rw-r--r-- 1 root root     60302 May  5 16:54 titanic.csv.4\n",
            "-rw-r--r-- 1 root root     60302 May  5 16:59 titanic.csv.5\n",
            "-rw-r--r-- 1 root root     60302 May  5 17:02 titanic.csv.6\n"
          ],
          "name": "stdout"
        }
      ]
    },
    {
      "cell_type": "code",
      "metadata": {
        "id": "jnzTkrO9_tI5",
        "colab_type": "code",
        "outputId": "c1d57c50-a285-45dd-f841-fd199c354107",
        "colab": {
          "base_uri": "https://localhost:8080/",
          "height": 35
        }
      },
      "source": [
        "cd dataset/\n"
      ],
      "execution_count": 0,
      "outputs": [
        {
          "output_type": "stream",
          "text": [
            "/content/dataset\n"
          ],
          "name": "stdout"
        }
      ]
    },
    {
      "cell_type": "code",
      "metadata": {
        "id": "AhCXNE1z_xmg",
        "colab_type": "code",
        "outputId": "22058464-082c-4aff-d34e-742bf5841253",
        "colab": {
          "base_uri": "https://localhost:8080/",
          "height": 104
        }
      },
      "source": [
        "ls -l"
      ],
      "execution_count": 0,
      "outputs": [
        {
          "output_type": "stream",
          "text": [
            "total 12\n",
            "-rw-r--r-- 1 root root    0 Jun  6  2018 Icon\n",
            "drwxr-xr-x 2 root root 4096 Jun  7  2018 \u001b[0m\u001b[01;34msingle_prediction\u001b[0m/\n",
            "drwxr-xr-x 4 root root 4096 Jun  6  2018 \u001b[01;34mtest_set\u001b[0m/\n",
            "drwxr-xr-x 4 root root 4096 Jun  6  2018 \u001b[01;34mtraining_set\u001b[0m/\n"
          ],
          "name": "stdout"
        }
      ]
    },
    {
      "cell_type": "code",
      "metadata": {
        "id": "ArInNuEK_3vF",
        "colab_type": "code",
        "outputId": "33571c7a-327a-410f-db38-ec698f63db78",
        "colab": {
          "base_uri": "https://localhost:8080/",
          "height": 35
        }
      },
      "source": [
        "cd training_set"
      ],
      "execution_count": 0,
      "outputs": [
        {
          "output_type": "stream",
          "text": [
            "/content/dataset/training_set\n"
          ],
          "name": "stdout"
        }
      ]
    },
    {
      "cell_type": "code",
      "metadata": {
        "id": "NrLY7MTV_7Ve",
        "colab_type": "code",
        "outputId": "b20f2eaf-b1b1-4ee3-c946-8ee276680101",
        "colab": {
          "base_uri": "https://localhost:8080/",
          "height": 87
        }
      },
      "source": [
        "ls -l"
      ],
      "execution_count": 0,
      "outputs": [
        {
          "output_type": "stream",
          "text": [
            "total 256\n",
            "drwxr-xr-x 2 root root 126976 Aug  9  2018 \u001b[0m\u001b[01;34mcats\u001b[0m/\n",
            "drwxr-xr-x 2 root root 135168 Aug  9  2018 \u001b[01;34mdogs\u001b[0m/\n",
            "-rw-r--r-- 1 root root      0 Jun  6  2018 Icon\n"
          ],
          "name": "stdout"
        }
      ]
    },
    {
      "cell_type": "code",
      "metadata": {
        "id": "E_6lh_veAHxp",
        "colab_type": "code",
        "outputId": "921d3c9e-e70c-4e48-bed6-937857c22441",
        "colab": {
          "base_uri": "https://localhost:8080/",
          "height": 35
        }
      },
      "source": [
        "cd cats"
      ],
      "execution_count": 0,
      "outputs": [
        {
          "output_type": "stream",
          "text": [
            "/content/dataset/training_set/cats\n"
          ],
          "name": "stdout"
        }
      ]
    },
    {
      "cell_type": "code",
      "metadata": {
        "id": "MhaskYJLAbjw",
        "colab_type": "code",
        "outputId": "d40ca4ce-e776-4a1a-f2aa-3c6d258e1614",
        "colab": {
          "base_uri": "https://localhost:8080/",
          "height": 13641
        }
      },
      "source": [
        "ls"
      ],
      "execution_count": 0,
      "outputs": [
        {
          "output_type": "stream",
          "text": [
            "cat.1000.jpg  cat.171.jpg   cat.2447.jpg  cat.3170.jpg  cat.3888.jpg\n",
            "cat.1001.jpg  cat.1720.jpg  cat.2448.jpg  cat.3171.jpg  cat.3889.jpg\n",
            "cat.1002.jpg  cat.1722.jpg  cat.2449.jpg  cat.3172.jpg  cat.388.jpg\n",
            "cat.1003.jpg  cat.1723.jpg  cat.244.jpg   cat.3173.jpg  cat.3890.jpg\n",
            "cat.1004.jpg  cat.1724.jpg  cat.2450.jpg  cat.3174.jpg  cat.3891.jpg\n",
            "cat.1005.jpg  cat.1725.jpg  cat.2451.jpg  cat.3175.jpg  cat.3892.jpg\n",
            "cat.1006.jpg  cat.1726.jpg  cat.2452.jpg  cat.3176.jpg  cat.3893.jpg\n",
            "cat.1007.jpg  cat.1727.jpg  cat.2453.jpg  cat.3177.jpg  cat.3894.jpg\n",
            "cat.1008.jpg  cat.1728.jpg  cat.2454.jpg  cat.3178.jpg  cat.3895.jpg\n",
            "cat.1009.jpg  cat.1729.jpg  cat.2455.jpg  cat.3179.jpg  cat.3896.jpg\n",
            "cat.100.jpg   cat.172.jpg   cat.2456.jpg  cat.317.jpg   cat.3897.jpg\n",
            "cat.1010.jpg  cat.1730.jpg  cat.2457.jpg  cat.3180.jpg  cat.3898.jpg\n",
            "cat.1011.jpg  cat.1731.jpg  cat.2458.jpg  cat.3181.jpg  cat.3899.jpg\n",
            "cat.1012.jpg  cat.1732.jpg  cat.2459.jpg  cat.3182.jpg  cat.389.jpg\n",
            "cat.1013.jpg  cat.1733.jpg  cat.245.jpg   cat.3183.jpg  cat.38.jpg\n",
            "cat.1014.jpg  cat.1734.jpg  cat.2460.jpg  cat.3184.jpg  cat.3900.jpg\n",
            "cat.1015.jpg  cat.1735.jpg  cat.2461.jpg  cat.3185.jpg  cat.3901.jpg\n",
            "cat.1016.jpg  cat.1736.jpg  cat.2462.jpg  cat.3186.jpg  cat.3902.jpg\n",
            "cat.1017.jpg  cat.1737.jpg  cat.2463.jpg  cat.3187.jpg  cat.3903.jpg\n",
            "cat.1018.jpg  cat.1738.jpg  cat.2464.jpg  cat.3188.jpg  cat.3904.jpg\n",
            "cat.1019.jpg  cat.1739.jpg  cat.2465.jpg  cat.3189.jpg  cat.3905.jpg\n",
            "cat.101.jpg   cat.173.jpg   cat.2466.jpg  cat.3190.jpg  cat.3906.jpg\n",
            "cat.1020.jpg  cat.1740.jpg  cat.2467.jpg  cat.3191.jpg  cat.3907.jpg\n",
            "cat.1021.jpg  cat.1741.jpg  cat.2468.jpg  cat.3192.jpg  cat.3908.jpg\n",
            "cat.1022.jpg  cat.1742.jpg  cat.2469.jpg  cat.3193.jpg  cat.3909.jpg\n",
            "cat.1023.jpg  cat.1743.jpg  cat.2470.jpg  cat.3194.jpg  cat.390.jpg\n",
            "cat.1024.jpg  cat.1744.jpg  cat.2471.jpg  cat.3195.jpg  cat.3910.jpg\n",
            "cat.1025.jpg  cat.1745.jpg  cat.2472.jpg  cat.3196.jpg  cat.3911.jpg\n",
            "cat.1026.jpg  cat.1746.jpg  cat.2473.jpg  cat.3197.jpg  cat.3912.jpg\n",
            "cat.1027.jpg  cat.1747.jpg  cat.2474.jpg  cat.3198.jpg  cat.3913.jpg\n",
            "cat.1028.jpg  cat.1748.jpg  cat.2475.jpg  cat.3199.jpg  cat.3914.jpg\n",
            "cat.1029.jpg  cat.1749.jpg  cat.2476.jpg  cat.319.jpg   cat.3915.jpg\n",
            "cat.102.jpg   cat.174.jpg   cat.2477.jpg  cat.31.jpg    cat.3916.jpg\n",
            "cat.1030.jpg  cat.1750.jpg  cat.2478.jpg  cat.3200.jpg  cat.3917.jpg\n",
            "cat.1031.jpg  cat.1751.jpg  cat.2479.jpg  cat.3201.jpg  cat.3918.jpg\n",
            "cat.1032.jpg  cat.1752.jpg  cat.247.jpg   cat.3202.jpg  cat.3919.jpg\n",
            "cat.1033.jpg  cat.1753.jpg  cat.2480.jpg  cat.3203.jpg  cat.391.jpg\n",
            "cat.1034.jpg  cat.1754.jpg  cat.2481.jpg  cat.3204.jpg  cat.3920.jpg\n",
            "cat.1035.jpg  cat.1755.jpg  cat.2482.jpg  cat.3205.jpg  cat.3921.jpg\n",
            "cat.1036.jpg  cat.1756.jpg  cat.2483.jpg  cat.3206.jpg  cat.3922.jpg\n",
            "cat.1037.jpg  cat.1757.jpg  cat.2484.jpg  cat.3207.jpg  cat.3923.jpg\n",
            "cat.1038.jpg  cat.1759.jpg  cat.2485.jpg  cat.3208.jpg  cat.3924.jpg\n",
            "cat.1039.jpg  cat.175.jpg   cat.2486.jpg  cat.3209.jpg  cat.3925.jpg\n",
            "cat.103.jpg   cat.1760.jpg  cat.2487.jpg  cat.320.jpg   cat.3926.jpg\n",
            "cat.1040.jpg  cat.1762.jpg  cat.2488.jpg  cat.3210.jpg  cat.3927.jpg\n",
            "cat.1041.jpg  cat.1763.jpg  cat.2489.jpg  cat.3211.jpg  cat.3928.jpg\n",
            "cat.1042.jpg  cat.1764.jpg  cat.248.jpg   cat.3212.jpg  cat.3929.jpg\n",
            "cat.1043.jpg  cat.1765.jpg  cat.2490.jpg  cat.3214.jpg  cat.392.jpg\n",
            "cat.1044.jpg  cat.1766.jpg  cat.2491.jpg  cat.3215.jpg  cat.3930.jpg\n",
            "cat.1045.jpg  cat.1767.jpg  cat.2492.jpg  cat.3216.jpg  cat.3931.jpg\n",
            "cat.1046.jpg  cat.1768.jpg  cat.2493.jpg  cat.3217.jpg  cat.3932.jpg\n",
            "cat.1047.jpg  cat.1769.jpg  cat.2494.jpg  cat.3218.jpg  cat.3933.jpg\n",
            "cat.1048.jpg  cat.176.jpg   cat.2495.jpg  cat.3219.jpg  cat.3934.jpg\n",
            "cat.1049.jpg  cat.1770.jpg  cat.2496.jpg  cat.321.jpg   cat.3935.jpg\n",
            "cat.104.jpg   cat.1771.jpg  cat.2497.jpg  cat.3220.jpg  cat.3936.jpg\n",
            "cat.1050.jpg  cat.1772.jpg  cat.2498.jpg  cat.3221.jpg  cat.3937.jpg\n",
            "cat.1051.jpg  cat.1774.jpg  cat.2499.jpg  cat.3222.jpg  cat.3938.jpg\n",
            "cat.1052.jpg  cat.1775.jpg  cat.249.jpg   cat.3223.jpg  cat.3939.jpg\n",
            "cat.1053.jpg  cat.1776.jpg  cat.24.jpg    cat.3224.jpg  cat.393.jpg\n",
            "cat.1054.jpg  cat.1777.jpg  cat.2500.jpg  cat.3225.jpg  cat.3940.jpg\n",
            "cat.1055.jpg  cat.1778.jpg  cat.2501.jpg  cat.3226.jpg  cat.3941.jpg\n",
            "cat.1056.jpg  cat.1779.jpg  cat.2502.jpg  cat.3227.jpg  cat.3942.jpg\n",
            "cat.1057.jpg  cat.177.jpg   cat.2503.jpg  cat.3228.jpg  cat.3943.jpg\n",
            "cat.1058.jpg  cat.1780.jpg  cat.2504.jpg  cat.3229.jpg  cat.3944.jpg\n",
            "cat.1059.jpg  cat.1781.jpg  cat.2505.jpg  cat.322.jpg   cat.3945.jpg\n",
            "cat.105.jpg   cat.1782.jpg  cat.2506.jpg  cat.3230.jpg  cat.3946.jpg\n",
            "cat.1060.jpg  cat.1783.jpg  cat.2507.jpg  cat.3231.jpg  cat.3947.jpg\n",
            "cat.1061.jpg  cat.1784.jpg  cat.2508.jpg  cat.3232.jpg  cat.3948.jpg\n",
            "cat.1062.jpg  cat.1785.jpg  cat.2509.jpg  cat.3233.jpg  cat.3949.jpg\n",
            "cat.1063.jpg  cat.1786.jpg  cat.250.jpg   cat.3234.jpg  cat.394.jpg\n",
            "cat.1064.jpg  cat.1787.jpg  cat.2510.jpg  cat.3235.jpg  cat.3950.jpg\n",
            "cat.1065.jpg  cat.1788.jpg  cat.2511.jpg  cat.3236.jpg  cat.3951.jpg\n",
            "cat.1066.jpg  cat.1789.jpg  cat.2512.jpg  cat.3237.jpg  cat.3952.jpg\n",
            "cat.1067.jpg  cat.178.jpg   cat.2513.jpg  cat.3238.jpg  cat.3953.jpg\n",
            "cat.1068.jpg  cat.1790.jpg  cat.2514.jpg  cat.3239.jpg  cat.3954.jpg\n",
            "cat.1069.jpg  cat.1791.jpg  cat.2515.jpg  cat.323.jpg   cat.3955.jpg\n",
            "cat.106.jpg   cat.1792.jpg  cat.2516.jpg  cat.3240.jpg  cat.3956.jpg\n",
            "cat.1070.jpg  cat.1793.jpg  cat.2517.jpg  cat.3241.jpg  cat.3957.jpg\n",
            "cat.1071.jpg  cat.1794.jpg  cat.2518.jpg  cat.3242.jpg  cat.3958.jpg\n",
            "cat.1072.jpg  cat.1795.jpg  cat.2519.jpg  cat.3243.jpg  cat.3959.jpg\n",
            "cat.1073.jpg  cat.1796.jpg  cat.251.jpg   cat.3244.jpg  cat.395.jpg\n",
            "cat.1074.jpg  cat.1797.jpg  cat.2520.jpg  cat.3245.jpg  cat.3960.jpg\n",
            "cat.1075.jpg  cat.1798.jpg  cat.2521.jpg  cat.3246.jpg  cat.3961.jpg\n",
            "cat.1076.jpg  cat.1799.jpg  cat.2522.jpg  cat.3247.jpg  cat.3962.jpg\n",
            "cat.1077.jpg  cat.179.jpg   cat.2523.jpg  cat.3248.jpg  cat.3963.jpg\n",
            "cat.1078.jpg  cat.17.jpg    cat.2524.jpg  cat.3249.jpg  cat.3964.jpg\n",
            "cat.1079.jpg  cat.1800.jpg  cat.2525.jpg  cat.324.jpg   cat.3965.jpg\n",
            "cat.107.jpg   cat.1801.jpg  cat.2526.jpg  cat.3250.jpg  cat.3966.jpg\n",
            "cat.1080.jpg  cat.1802.jpg  cat.2527.jpg  cat.3251.jpg  cat.3967.jpg\n",
            "cat.1081.jpg  cat.1803.jpg  cat.2528.jpg  cat.3252.jpg  cat.3968.jpg\n",
            "cat.1082.jpg  cat.1804.jpg  cat.2529.jpg  cat.3253.jpg  cat.3969.jpg\n",
            "cat.1083.jpg  cat.1805.jpg  cat.252.jpg   cat.3254.jpg  cat.396.jpg\n",
            "cat.1084.jpg  cat.1806.jpg  cat.2530.jpg  cat.3255.jpg  cat.3970.jpg\n",
            "cat.1085.jpg  cat.1807.jpg  cat.2531.jpg  cat.3256.jpg  cat.3971.jpg\n",
            "cat.1086.jpg  cat.1808.jpg  cat.2532.jpg  cat.3257.jpg  cat.3972.jpg\n",
            "cat.1087.jpg  cat.1809.jpg  cat.2533.jpg  cat.3258.jpg  cat.3973.jpg\n",
            "cat.1088.jpg  cat.180.jpg   cat.2534.jpg  cat.3259.jpg  cat.3974.jpg\n",
            "cat.1089.jpg  cat.1810.jpg  cat.2535.jpg  cat.325.jpg   cat.3975.jpg\n",
            "cat.108.jpg   cat.1811.jpg  cat.2536.jpg  cat.3260.jpg  cat.3976.jpg\n",
            "cat.1090.jpg  cat.1812.jpg  cat.2537.jpg  cat.3261.jpg  cat.3977.jpg\n",
            "cat.1091.jpg  cat.1813.jpg  cat.2538.jpg  cat.3262.jpg  cat.3978.jpg\n",
            "cat.1092.jpg  cat.1814.jpg  cat.2539.jpg  cat.3263.jpg  cat.3979.jpg\n",
            "cat.1093.jpg  cat.1815.jpg  cat.253.jpg   cat.3264.jpg  cat.397.jpg\n",
            "cat.1094.jpg  cat.1816.jpg  cat.2540.jpg  cat.3265.jpg  cat.3980.jpg\n",
            "cat.1095.jpg  cat.1817.jpg  cat.2541.jpg  cat.3266.jpg  cat.3982.jpg\n",
            "cat.1096.jpg  cat.1818.jpg  cat.2542.jpg  cat.3267.jpg  cat.3983.jpg\n",
            "cat.1097.jpg  cat.1819.jpg  cat.2544.jpg  cat.3268.jpg  cat.3984.jpg\n",
            "cat.1098.jpg  cat.181.jpg   cat.2545.jpg  cat.3269.jpg  cat.3985.jpg\n",
            "cat.1099.jpg  cat.1820.jpg  cat.2546.jpg  cat.326.jpg   cat.3986.jpg\n",
            "cat.109.jpg   cat.1821.jpg  cat.2547.jpg  cat.3270.jpg  cat.3987.jpg\n",
            "cat.10.jpg    cat.1822.jpg  cat.2548.jpg  cat.3271.jpg  cat.3988.jpg\n",
            "cat.1100.jpg  cat.1823.jpg  cat.2549.jpg  cat.3272.jpg  cat.3989.jpg\n",
            "cat.1101.jpg  cat.1824.jpg  cat.254.jpg   cat.3273.jpg  cat.398.jpg\n",
            "cat.1103.jpg  cat.1825.jpg  cat.2550.jpg  cat.3274.jpg  cat.3990.jpg\n",
            "cat.1104.jpg  cat.1826.jpg  cat.2551.jpg  cat.3275.jpg  cat.3991.jpg\n",
            "cat.1105.jpg  cat.1827.jpg  cat.2552.jpg  cat.3276.jpg  cat.3992.jpg\n",
            "cat.1106.jpg  cat.1828.jpg  cat.2553.jpg  cat.3277.jpg  cat.3993.jpg\n",
            "cat.1107.jpg  cat.1829.jpg  cat.2554.jpg  cat.3278.jpg  cat.3994.jpg\n",
            "cat.1108.jpg  cat.182.jpg   cat.2555.jpg  cat.3279.jpg  cat.3995.jpg\n",
            "cat.1109.jpg  cat.1830.jpg  cat.2556.jpg  cat.327.jpg   cat.3996.jpg\n",
            "cat.110.jpg   cat.1831.jpg  cat.2557.jpg  cat.3280.jpg  cat.3997.jpg\n",
            "cat.1110.jpg  cat.1832.jpg  cat.2558.jpg  cat.3281.jpg  cat.3998.jpg\n",
            "cat.1111.jpg  cat.1833.jpg  cat.2559.jpg  cat.3282.jpg  cat.3999.jpg\n",
            "cat.1113.jpg  cat.1834.jpg  cat.255.jpg   cat.3283.jpg  cat.399.jpg\n",
            "cat.1114.jpg  cat.1835.jpg  cat.2560.jpg  cat.3284.jpg  cat.39.jpg\n",
            "cat.1115.jpg  cat.1836.jpg  cat.2561.jpg  cat.3285.jpg  cat.3.jpg\n",
            "cat.1116.jpg  cat.1837.jpg  cat.2562.jpg  cat.3286.jpg  cat.4000.jpg\n",
            "cat.1117.jpg  cat.1838.jpg  cat.2563.jpg  cat.3287.jpg  cat.400.jpg\n",
            "cat.1118.jpg  cat.1839.jpg  cat.2564.jpg  cat.3288.jpg  cat.401.jpg\n",
            "cat.1119.jpg  cat.183.jpg   cat.2565.jpg  cat.3289.jpg  cat.402.jpg\n",
            "cat.111.jpg   cat.1840.jpg  cat.2566.jpg  cat.328.jpg   cat.403.jpg\n",
            "cat.1120.jpg  cat.1841.jpg  cat.2567.jpg  cat.3290.jpg  cat.404.jpg\n",
            "cat.1121.jpg  cat.1842.jpg  cat.2568.jpg  cat.3291.jpg  cat.405.jpg\n",
            "cat.1122.jpg  cat.1843.jpg  cat.256.jpg   cat.3292.jpg  cat.406.jpg\n",
            "cat.1123.jpg  cat.1844.jpg  cat.2570.jpg  cat.3293.jpg  cat.407.jpg\n",
            "cat.1124.jpg  cat.1845.jpg  cat.2571.jpg  cat.3294.jpg  cat.408.jpg\n",
            "cat.1125.jpg  cat.1846.jpg  cat.2572.jpg  cat.3295.jpg  cat.409.jpg\n",
            "cat.1126.jpg  cat.1847.jpg  cat.2573.jpg  cat.3296.jpg  cat.40.jpg\n",
            "cat.1127.jpg  cat.1849.jpg  cat.2574.jpg  cat.3297.jpg  cat.410.jpg\n",
            "cat.1128.jpg  cat.184.jpg   cat.2575.jpg  cat.3298.jpg  cat.412.jpg\n",
            "cat.1129.jpg  cat.1850.jpg  cat.2576.jpg  cat.3299.jpg  cat.413.jpg\n",
            "cat.112.jpg   cat.1851.jpg  cat.2577.jpg  cat.329.jpg   cat.414.jpg\n",
            "cat.1130.jpg  cat.1852.jpg  cat.2578.jpg  cat.32.jpg    cat.415.jpg\n",
            "cat.1131.jpg  cat.1853.jpg  cat.2579.jpg  cat.3300.jpg  cat.416.jpg\n",
            "cat.1132.jpg  cat.1854.jpg  cat.257.jpg   cat.3301.jpg  cat.417.jpg\n",
            "cat.1133.jpg  cat.1855.jpg  cat.2580.jpg  cat.3302.jpg  cat.418.jpg\n",
            "cat.1134.jpg  cat.1856.jpg  cat.2581.jpg  cat.3303.jpg  cat.419.jpg\n",
            "cat.1135.jpg  cat.1857.jpg  cat.2582.jpg  cat.3304.jpg  cat.41.jpg\n",
            "cat.1136.jpg  cat.1858.jpg  cat.2583.jpg  cat.3305.jpg  cat.420.jpg\n",
            "cat.1137.jpg  cat.1859.jpg  cat.2584.jpg  cat.3306.jpg  cat.421.jpg\n",
            "cat.1138.jpg  cat.185.jpg   cat.2585.jpg  cat.3307.jpg  cat.422.jpg\n",
            "cat.1139.jpg  cat.1860.jpg  cat.2586.jpg  cat.3308.jpg  cat.423.jpg\n",
            "cat.113.jpg   cat.1861.jpg  cat.2587.jpg  cat.3309.jpg  cat.424.jpg\n",
            "cat.1140.jpg  cat.1862.jpg  cat.2588.jpg  cat.330.jpg   cat.425.jpg\n",
            "cat.1141.jpg  cat.1863.jpg  cat.2589.jpg  cat.3310.jpg  cat.426.jpg\n",
            "cat.1142.jpg  cat.1864.jpg  cat.258.jpg   cat.3311.jpg  cat.427.jpg\n",
            "cat.1143.jpg  cat.1865.jpg  cat.2590.jpg  cat.3312.jpg  cat.428.jpg\n",
            "cat.1144.jpg  cat.1866.jpg  cat.2592.jpg  cat.3313.jpg  cat.429.jpg\n",
            "cat.1145.jpg  cat.1867.jpg  cat.2593.jpg  cat.3314.jpg  cat.42.jpg\n",
            "cat.1146.jpg  cat.1869.jpg  cat.2594.jpg  cat.3315.jpg  cat.430.jpg\n",
            "cat.1147.jpg  cat.186.jpg   cat.2595.jpg  cat.3316.jpg  cat.431.jpg\n",
            "cat.1148.jpg  cat.1870.jpg  cat.2596.jpg  cat.3317.jpg  cat.432.jpg\n",
            "cat.1149.jpg  cat.1871.jpg  cat.2597.jpg  cat.3318.jpg  cat.433.jpg\n",
            "cat.114.jpg   cat.1872.jpg  cat.2598.jpg  cat.3319.jpg  cat.434.jpg\n",
            "cat.1150.jpg  cat.1873.jpg  cat.2599.jpg  cat.331.jpg   cat.435.jpg\n",
            "cat.1151.jpg  cat.1874.jpg  cat.259.jpg   cat.3320.jpg  cat.436.jpg\n",
            "cat.1152.jpg  cat.1875.jpg  cat.25.jpg    cat.3321.jpg  cat.437.jpg\n",
            "cat.1153.jpg  cat.1876.jpg  cat.2600.jpg  cat.3322.jpg  cat.438.jpg\n",
            "cat.1154.jpg  cat.1878.jpg  cat.2601.jpg  cat.3323.jpg  cat.439.jpg\n",
            "cat.1155.jpg  cat.1879.jpg  cat.2602.jpg  cat.3324.jpg  cat.43.jpg\n",
            "cat.1156.jpg  cat.187.jpg   cat.2603.jpg  cat.3325.jpg  cat.440.jpg\n",
            "cat.1157.jpg  cat.1880.jpg  cat.2604.jpg  cat.3326.jpg  cat.441.jpg\n",
            "cat.1158.jpg  cat.1881.jpg  cat.2605.jpg  cat.3327.jpg  cat.442.jpg\n",
            "cat.1159.jpg  cat.1882.jpg  cat.2606.jpg  cat.3328.jpg  cat.443.jpg\n",
            "cat.115.jpg   cat.1883.jpg  cat.2607.jpg  cat.3329.jpg  cat.444.jpg\n",
            "cat.1160.jpg  cat.1884.jpg  cat.2608.jpg  cat.332.jpg   cat.445.jpg\n",
            "cat.1161.jpg  cat.1885.jpg  cat.2609.jpg  cat.3330.jpg  cat.446.jpg\n",
            "cat.1162.jpg  cat.1886.jpg  cat.260.jpg   cat.3331.jpg  cat.447.jpg\n",
            "cat.1163.jpg  cat.1887.jpg  cat.2610.jpg  cat.3332.jpg  cat.448.jpg\n",
            "cat.1164.jpg  cat.1888.jpg  cat.2611.jpg  cat.3333.jpg  cat.449.jpg\n",
            "cat.1165.jpg  cat.1889.jpg  cat.2612.jpg  cat.3334.jpg  cat.44.jpg\n",
            "cat.1166.jpg  cat.188.jpg   cat.2613.jpg  cat.3335.jpg  cat.450.jpg\n",
            "cat.1167.jpg  cat.1890.jpg  cat.2614.jpg  cat.3336.jpg  cat.451.jpg\n",
            "cat.1168.jpg  cat.1891.jpg  cat.2615.jpg  cat.3337.jpg  cat.452.jpg\n",
            "cat.1169.jpg  cat.1892.jpg  cat.2616.jpg  cat.3338.jpg  cat.453.jpg\n",
            "cat.116.jpg   cat.1893.jpg  cat.2617.jpg  cat.3339.jpg  cat.454.jpg\n",
            "cat.1170.jpg  cat.1894.jpg  cat.2618.jpg  cat.333.jpg   cat.455.jpg\n",
            "cat.1171.jpg  cat.1895.jpg  cat.261.jpg   cat.3340.jpg  cat.456.jpg\n",
            "cat.1172.jpg  cat.1896.jpg  cat.2620.jpg  cat.3341.jpg  cat.457.jpg\n",
            "cat.1173.jpg  cat.1897.jpg  cat.2621.jpg  cat.3342.jpg  cat.458.jpg\n",
            "cat.1174.jpg  cat.1898.jpg  cat.2622.jpg  cat.3343.jpg  cat.459.jpg\n",
            "cat.1175.jpg  cat.1899.jpg  cat.2623.jpg  cat.3344.jpg  cat.45.jpg\n",
            "cat.1176.jpg  cat.18.jpg    cat.2624.jpg  cat.3345.jpg  cat.460.jpg\n",
            "cat.1177.jpg  cat.1900.jpg  cat.2625.jpg  cat.3346.jpg  cat.461.jpg\n",
            "cat.1178.jpg  cat.1901.jpg  cat.2626.jpg  cat.3347.jpg  cat.462.jpg\n",
            "cat.1179.jpg  cat.1902.jpg  cat.2627.jpg  cat.3348.jpg  cat.463.jpg\n",
            "cat.117.jpg   cat.1903.jpg  cat.2628.jpg  cat.3349.jpg  cat.464.jpg\n",
            "cat.1180.jpg  cat.1904.jpg  cat.2629.jpg  cat.334.jpg   cat.465.jpg\n",
            "cat.1181.jpg  cat.1905.jpg  cat.262.jpg   cat.3350.jpg  cat.466.jpg\n",
            "cat.1182.jpg  cat.1906.jpg  cat.2630.jpg  cat.3351.jpg  cat.467.jpg\n",
            "cat.1183.jpg  cat.1907.jpg  cat.2631.jpg  cat.3352.jpg  cat.468.jpg\n",
            "cat.1184.jpg  cat.1908.jpg  cat.2632.jpg  cat.3353.jpg  cat.469.jpg\n",
            "cat.1185.jpg  cat.1909.jpg  cat.2633.jpg  cat.3354.jpg  cat.46.jpg\n",
            "cat.1186.jpg  cat.190.jpg   cat.2634.jpg  cat.3355.jpg  cat.470.jpg\n",
            "cat.1187.jpg  cat.1910.jpg  cat.2635.jpg  cat.3356.jpg  cat.471.jpg\n",
            "cat.1188.jpg  cat.1911.jpg  cat.2636.jpg  cat.3357.jpg  cat.472.jpg\n",
            "cat.1189.jpg  cat.1912.jpg  cat.2637.jpg  cat.3358.jpg  cat.473.jpg\n",
            "cat.118.jpg   cat.1913.jpg  cat.2638.jpg  cat.3359.jpg  cat.474.jpg\n",
            "cat.1190.jpg  cat.1914.jpg  cat.2639.jpg  cat.335.jpg   cat.475.jpg\n",
            "cat.1191.jpg  cat.1915.jpg  cat.263.jpg   cat.3360.jpg  cat.476.jpg\n",
            "cat.1192.jpg  cat.1916.jpg  cat.2640.jpg  cat.3361.jpg  cat.477.jpg\n",
            "cat.1193.jpg  cat.1917.jpg  cat.2641.jpg  cat.3362.jpg  cat.478.jpg\n",
            "cat.1194.jpg  cat.1918.jpg  cat.2642.jpg  cat.3363.jpg  cat.479.jpg\n",
            "cat.1195.jpg  cat.1919.jpg  cat.2643.jpg  cat.3364.jpg  cat.47.jpg\n",
            "cat.1196.jpg  cat.191.jpg   cat.2644.jpg  cat.3365.jpg  cat.480.jpg\n",
            "cat.1197.jpg  cat.1920.jpg  cat.2645.jpg  cat.3366.jpg  cat.481.jpg\n",
            "cat.1198.jpg  cat.1921.jpg  cat.2646.jpg  cat.3367.jpg  cat.482.jpg\n",
            "cat.1199.jpg  cat.1922.jpg  cat.2647.jpg  cat.3368.jpg  cat.483.jpg\n",
            "cat.119.jpg   cat.1923.jpg  cat.2648.jpg  cat.3369.jpg  cat.484.jpg\n",
            "cat.11.jpg    cat.1924.jpg  cat.2649.jpg  cat.336.jpg   cat.485.jpg\n",
            "cat.1200.jpg  cat.1925.jpg  cat.264.jpg   cat.3370.jpg  cat.486.jpg\n",
            "cat.1201.jpg  cat.1926.jpg  cat.2650.jpg  cat.3371.jpg  cat.487.jpg\n",
            "cat.1202.jpg  cat.1927.jpg  cat.2651.jpg  cat.3372.jpg  cat.488.jpg\n",
            "cat.1203.jpg  cat.1928.jpg  cat.2652.jpg  cat.3373.jpg  cat.489.jpg\n",
            "cat.1204.jpg  cat.1929.jpg  cat.2653.jpg  cat.3374.jpg  cat.48.jpg\n",
            "cat.1205.jpg  cat.192.jpg   cat.2654.jpg  cat.3375.jpg  cat.490.jpg\n",
            "cat.1206.jpg  cat.1930.jpg  cat.2655.jpg  cat.3376.jpg  cat.491.jpg\n",
            "cat.1207.jpg  cat.1931.jpg  cat.2656.jpg  cat.3377.jpg  cat.492.jpg\n",
            "cat.1208.jpg  cat.1932.jpg  cat.2657.jpg  cat.3378.jpg  cat.493.jpg\n",
            "cat.1209.jpg  cat.1933.jpg  cat.2658.jpg  cat.3379.jpg  cat.494.jpg\n",
            "cat.120.jpg   cat.1934.jpg  cat.2659.jpg  cat.337.jpg   cat.495.jpg\n",
            "cat.1210.jpg  cat.1935.jpg  cat.265.jpg   cat.3380.jpg  cat.496.jpg\n",
            "cat.1211.jpg  cat.1936.jpg  cat.2660.jpg  cat.3381.jpg  cat.497.jpg\n",
            "cat.1212.jpg  cat.1937.jpg  cat.2661.jpg  cat.3382.jpg  cat.498.jpg\n",
            "cat.1213.jpg  cat.1938.jpg  cat.2662.jpg  cat.3383.jpg  cat.499.jpg\n",
            "cat.1214.jpg  cat.1939.jpg  cat.2663.jpg  cat.3384.jpg  cat.49.jpg\n",
            "cat.1215.jpg  cat.193.jpg   cat.2664.jpg  cat.3385.jpg  cat.4.jpg\n",
            "cat.1216.jpg  cat.1940.jpg  cat.2665.jpg  cat.3387.jpg  cat.500.jpg\n",
            "cat.1217.jpg  cat.1941.jpg  cat.2666.jpg  cat.3388.jpg  cat.501.jpg\n",
            "cat.1218.jpg  cat.1942.jpg  cat.2667.jpg  cat.3389.jpg  cat.502.jpg\n",
            "cat.121.jpg   cat.1943.jpg  cat.2668.jpg  cat.338.jpg   cat.503.jpg\n",
            "cat.1220.jpg  cat.1944.jpg  cat.2669.jpg  cat.3390.jpg  cat.504.jpg\n",
            "cat.1221.jpg  cat.1945.jpg  cat.266.jpg   cat.3391.jpg  cat.505.jpg\n",
            "cat.1222.jpg  cat.1946.jpg  cat.2670.jpg  cat.3392.jpg  cat.506.jpg\n",
            "cat.1223.jpg  cat.1947.jpg  cat.2671.jpg  cat.3393.jpg  cat.507.jpg\n",
            "cat.1224.jpg  cat.1948.jpg  cat.2672.jpg  cat.3394.jpg  cat.508.jpg\n",
            "cat.1225.jpg  cat.1949.jpg  cat.2673.jpg  cat.3395.jpg  cat.509.jpg\n",
            "cat.1226.jpg  cat.194.jpg   cat.2674.jpg  cat.3396.jpg  cat.50.jpg\n",
            "cat.1227.jpg  cat.1950.jpg  cat.2675.jpg  cat.3397.jpg  cat.510.jpg\n",
            "cat.1228.jpg  cat.1951.jpg  cat.2676.jpg  cat.3398.jpg  cat.511.jpg\n",
            "cat.1229.jpg  cat.1952.jpg  cat.2677.jpg  cat.3399.jpg  cat.512.jpg\n",
            "cat.122.jpg   cat.1953.jpg  cat.2678.jpg  cat.339.jpg   cat.513.jpg\n",
            "cat.1230.jpg  cat.1954.jpg  cat.2679.jpg  cat.33.jpg    cat.514.jpg\n",
            "cat.1231.jpg  cat.1955.jpg  cat.267.jpg   cat.3400.jpg  cat.515.jpg\n",
            "cat.1232.jpg  cat.1956.jpg  cat.2680.jpg  cat.3401.jpg  cat.516.jpg\n",
            "cat.1233.jpg  cat.1957.jpg  cat.2682.jpg  cat.3402.jpg  cat.517.jpg\n",
            "cat.1234.jpg  cat.1958.jpg  cat.2683.jpg  cat.3403.jpg  cat.518.jpg\n",
            "cat.1235.jpg  cat.1959.jpg  cat.2684.jpg  cat.3404.jpg  cat.519.jpg\n",
            "cat.1236.jpg  cat.195.jpg   cat.2685.jpg  cat.3405.jpg  cat.51.jpg\n",
            "cat.1237.jpg  cat.1960.jpg  cat.2686.jpg  cat.3406.jpg  cat.520.jpg\n",
            "cat.1238.jpg  cat.1961.jpg  cat.2687.jpg  cat.3407.jpg  cat.521.jpg\n",
            "cat.1239.jpg  cat.1962.jpg  cat.2688.jpg  cat.3409.jpg  cat.522.jpg\n",
            "cat.123.jpg   cat.1963.jpg  cat.2689.jpg  cat.340.jpg   cat.523.jpg\n",
            "cat.1240.jpg  cat.1964.jpg  cat.268.jpg   cat.3410.jpg  cat.524.jpg\n",
            "cat.1241.jpg  cat.1965.jpg  cat.2690.jpg  cat.3411.jpg  cat.525.jpg\n",
            "cat.1243.jpg  cat.1966.jpg  cat.2691.jpg  cat.3412.jpg  cat.526.jpg\n",
            "cat.1244.jpg  cat.1967.jpg  cat.2692.jpg  cat.3413.jpg  cat.527.jpg\n",
            "cat.1245.jpg  cat.1968.jpg  cat.2693.jpg  cat.3414.jpg  cat.528.jpg\n",
            "cat.1246.jpg  cat.1969.jpg  cat.2694.jpg  cat.3415.jpg  cat.529.jpg\n",
            "cat.1247.jpg  cat.196.jpg   cat.2695.jpg  cat.3416.jpg  cat.52.jpg\n",
            "cat.1248.jpg  cat.1970.jpg  cat.2696.jpg  cat.3417.jpg  cat.530.jpg\n",
            "cat.1249.jpg  cat.1971.jpg  cat.2697.jpg  cat.3419.jpg  cat.531.jpg\n",
            "cat.124.jpg   cat.1973.jpg  cat.2698.jpg  cat.341.jpg   cat.532.jpg\n",
            "cat.1250.jpg  cat.1974.jpg  cat.2699.jpg  cat.3420.jpg  cat.533.jpg\n",
            "cat.1251.jpg  cat.1975.jpg  cat.269.jpg   cat.3421.jpg  cat.535.jpg\n",
            "cat.1252.jpg  cat.1976.jpg  cat.26.jpg    cat.3422.jpg  cat.536.jpg\n",
            "cat.1253.jpg  cat.1977.jpg  cat.2700.jpg  cat.3423.jpg  cat.537.jpg\n",
            "cat.1254.jpg  cat.1978.jpg  cat.2701.jpg  cat.3424.jpg  cat.538.jpg\n",
            "cat.1255.jpg  cat.1979.jpg  cat.2702.jpg  cat.3425.jpg  cat.539.jpg\n",
            "cat.1256.jpg  cat.197.jpg   cat.2703.jpg  cat.3426.jpg  cat.53.jpg\n",
            "cat.1257.jpg  cat.1980.jpg  cat.2704.jpg  cat.3427.jpg  cat.541.jpg\n",
            "cat.1258.jpg  cat.1981.jpg  cat.2705.jpg  cat.3428.jpg  cat.542.jpg\n",
            "cat.1259.jpg  cat.1982.jpg  cat.2706.jpg  cat.3429.jpg  cat.543.jpg\n",
            "cat.125.jpg   cat.1983.jpg  cat.2707.jpg  cat.342.jpg   cat.544.jpg\n",
            "cat.1260.jpg  cat.1984.jpg  cat.2708.jpg  cat.3430.jpg  cat.545.jpg\n",
            "cat.1261.jpg  cat.1985.jpg  cat.2709.jpg  cat.3431.jpg  cat.546.jpg\n",
            "cat.1262.jpg  cat.1986.jpg  cat.270.jpg   cat.3432.jpg  cat.547.jpg\n",
            "cat.1263.jpg  cat.1987.jpg  cat.2710.jpg  cat.3433.jpg  cat.548.jpg\n",
            "cat.1264.jpg  cat.1988.jpg  cat.2711.jpg  cat.3434.jpg  cat.549.jpg\n",
            "cat.1265.jpg  cat.1989.jpg  cat.2712.jpg  cat.3435.jpg  cat.54.jpg\n",
            "cat.1266.jpg  cat.198.jpg   cat.2713.jpg  cat.3436.jpg  cat.550.jpg\n",
            "cat.1267.jpg  cat.1990.jpg  cat.2714.jpg  cat.3437.jpg  cat.551.jpg\n",
            "cat.1268.jpg  cat.1991.jpg  cat.2715.jpg  cat.3438.jpg  cat.552.jpg\n",
            "cat.1269.jpg  cat.1992.jpg  cat.2716.jpg  cat.3439.jpg  cat.553.jpg\n",
            "cat.126.jpg   cat.1993.jpg  cat.2717.jpg  cat.343.jpg   cat.554.jpg\n",
            "cat.1270.jpg  cat.1994.jpg  cat.2718.jpg  cat.3440.jpg  cat.555.jpg\n",
            "cat.1271.jpg  cat.1995.jpg  cat.2719.jpg  cat.3441.jpg  cat.556.jpg\n",
            "cat.1272.jpg  cat.1996.jpg  cat.271.jpg   cat.3442.jpg  cat.557.jpg\n",
            "cat.1273.jpg  cat.1997.jpg  cat.2720.jpg  cat.3443.jpg  cat.558.jpg\n",
            "cat.1274.jpg  cat.1998.jpg  cat.2721.jpg  cat.3444.jpg  cat.559.jpg\n",
            "cat.1275.jpg  cat.1999.jpg  cat.2722.jpg  cat.3445.jpg  cat.55.jpg\n",
            "cat.1276.jpg  cat.199.jpg   cat.2723.jpg  cat.3446.jpg  cat.560.jpg\n",
            "cat.1277.jpg  cat.19.jpg    cat.2724.jpg  cat.3447.jpg  cat.561.jpg\n",
            "cat.1278.jpg  cat.1.jpg     cat.2725.jpg  cat.3448.jpg  cat.562.jpg\n",
            "cat.1279.jpg  cat.2000.jpg  cat.2726.jpg  cat.3449.jpg  cat.563.jpg\n",
            "cat.127.jpg   cat.2001.jpg  cat.2727.jpg  cat.344.jpg   cat.564.jpg\n",
            "cat.1280.jpg  cat.2002.jpg  cat.2728.jpg  cat.3450.jpg  cat.565.jpg\n",
            "cat.1281.jpg  cat.2003.jpg  cat.2729.jpg  cat.3451.jpg  cat.566.jpg\n",
            "cat.1282.jpg  cat.2004.jpg  cat.272.jpg   cat.3452.jpg  cat.567.jpg\n",
            "cat.1283.jpg  cat.2005.jpg  cat.2730.jpg  cat.3453.jpg  cat.568.jpg\n",
            "cat.1284.jpg  cat.2006.jpg  cat.2731.jpg  cat.3454.jpg  cat.569.jpg\n",
            "cat.1285.jpg  cat.2007.jpg  cat.2732.jpg  cat.3455.jpg  cat.56.jpg\n",
            "cat.1286.jpg  cat.2008.jpg  cat.2733.jpg  cat.3456.jpg  cat.570.jpg\n",
            "cat.1287.jpg  cat.2009.jpg  cat.2734.jpg  cat.3457.jpg  cat.571.jpg\n",
            "cat.1288.jpg  cat.200.jpg   cat.2735.jpg  cat.3458.jpg  cat.572.jpg\n",
            "cat.1289.jpg  cat.2010.jpg  cat.2736.jpg  cat.3459.jpg  cat.573.jpg\n",
            "cat.128.jpg   cat.2011.jpg  cat.2737.jpg  cat.345.jpg   cat.574.jpg\n",
            "cat.1290.jpg  cat.2013.jpg  cat.2738.jpg  cat.3460.jpg  cat.575.jpg\n",
            "cat.1291.jpg  cat.2014.jpg  cat.2739.jpg  cat.3461.jpg  cat.576.jpg\n",
            "cat.1292.jpg  cat.2015.jpg  cat.273.jpg   cat.3462.jpg  cat.577.jpg\n",
            "cat.1293.jpg  cat.2016.jpg  cat.2740.jpg  cat.3463.jpg  cat.578.jpg\n",
            "cat.1294.jpg  cat.2017.jpg  cat.2741.jpg  cat.3464.jpg  cat.579.jpg\n",
            "cat.1295.jpg  cat.2018.jpg  cat.2742.jpg  cat.3465.jpg  cat.57.jpg\n",
            "cat.1296.jpg  cat.2019.jpg  cat.2743.jpg  cat.3466.jpg  cat.580.jpg\n",
            "cat.1297.jpg  cat.201.jpg   cat.2744.jpg  cat.3467.jpg  cat.581.jpg\n",
            "cat.1298.jpg  cat.2020.jpg  cat.2745.jpg  cat.3468.jpg  cat.582.jpg\n",
            "cat.1299.jpg  cat.2021.jpg  cat.2746.jpg  cat.3469.jpg  cat.584.jpg\n",
            "cat.129.jpg   cat.2022.jpg  cat.2747.jpg  cat.346.jpg   cat.585.jpg\n",
            "cat.12.jpg    cat.2023.jpg  cat.2748.jpg  cat.3470.jpg  cat.586.jpg\n",
            "cat.1300.jpg  cat.2024.jpg  cat.2749.jpg  cat.3471.jpg  cat.587.jpg\n",
            "cat.1301.jpg  cat.2025.jpg  cat.274.jpg   cat.3472.jpg  cat.588.jpg\n",
            "cat.1302.jpg  cat.2026.jpg  cat.2750.jpg  cat.3473.jpg  cat.589.jpg\n",
            "cat.1303.jpg  cat.2027.jpg  cat.2751.jpg  cat.3474.jpg  cat.58.jpg\n",
            "cat.1304.jpg  cat.2028.jpg  cat.2752.jpg  cat.3475.jpg  cat.590.jpg\n",
            "cat.1305.jpg  cat.2029.jpg  cat.2753.jpg  cat.3476.jpg  cat.591.jpg\n",
            "cat.1306.jpg  cat.202.jpg   cat.2754.jpg  cat.3477.jpg  cat.592.jpg\n",
            "cat.1307.jpg  cat.2030.jpg  cat.2755.jpg  cat.3478.jpg  cat.593.jpg\n",
            "cat.1308.jpg  cat.2031.jpg  cat.2756.jpg  cat.3479.jpg  cat.594.jpg\n",
            "cat.1309.jpg  cat.2032.jpg  cat.2757.jpg  cat.347.jpg   cat.595.jpg\n",
            "cat.130.jpg   cat.2033.jpg  cat.2758.jpg  cat.3480.jpg  cat.596.jpg\n",
            "cat.1310.jpg  cat.2034.jpg  cat.2759.jpg  cat.3481.jpg  cat.597.jpg\n",
            "cat.1311.jpg  cat.2035.jpg  cat.275.jpg   cat.3482.jpg  cat.598.jpg\n",
            "cat.1312.jpg  cat.2036.jpg  cat.2760.jpg  cat.3483.jpg  cat.599.jpg\n",
            "cat.1313.jpg  cat.2037.jpg  cat.2761.jpg  cat.3484.jpg  cat.59.jpg\n",
            "cat.1314.jpg  cat.2038.jpg  cat.2762.jpg  cat.3485.jpg  cat.5.jpg\n",
            "cat.1315.jpg  cat.2039.jpg  cat.2763.jpg  cat.3486.jpg  cat.600.jpg\n",
            "cat.1317.jpg  cat.203.jpg   cat.2764.jpg  cat.3487.jpg  cat.601.jpg\n",
            "cat.1318.jpg  cat.2040.jpg  cat.2766.jpg  cat.3488.jpg  cat.602.jpg\n",
            "cat.131.jpg   cat.2041.jpg  cat.2767.jpg  cat.3489.jpg  cat.603.jpg\n",
            "cat.1320.jpg  cat.2042.jpg  cat.2768.jpg  cat.348.jpg   cat.604.jpg\n",
            "cat.1321.jpg  cat.2043.jpg  cat.2769.jpg  cat.3490.jpg  cat.605.jpg\n",
            "cat.1322.jpg  cat.2044.jpg  cat.276.jpg   cat.3491.jpg  cat.606.jpg\n",
            "cat.1323.jpg  cat.2045.jpg  cat.2770.jpg  cat.3492.jpg  cat.607.jpg\n",
            "cat.1324.jpg  cat.2046.jpg  cat.2771.jpg  cat.3493.jpg  cat.608.jpg\n",
            "cat.1325.jpg  cat.2047.jpg  cat.2772.jpg  cat.3494.jpg  cat.609.jpg\n",
            "cat.1326.jpg  cat.2048.jpg  cat.2773.jpg  cat.3495.jpg  cat.60.jpg\n",
            "cat.1327.jpg  cat.2049.jpg  cat.2774.jpg  cat.3496.jpg  cat.610.jpg\n",
            "cat.1328.jpg  cat.204.jpg   cat.2775.jpg  cat.3497.jpg  cat.611.jpg\n",
            "cat.1329.jpg  cat.2050.jpg  cat.2776.jpg  cat.3498.jpg  cat.613.jpg\n",
            "cat.132.jpg   cat.2051.jpg  cat.2777.jpg  cat.3499.jpg  cat.614.jpg\n",
            "cat.1330.jpg  cat.2052.jpg  cat.2778.jpg  cat.349.jpg   cat.615.jpg\n",
            "cat.1331.jpg  cat.2053.jpg  cat.2779.jpg  cat.34.jpg    cat.616.jpg\n",
            "cat.1332.jpg  cat.2054.jpg  cat.277.jpg   cat.3500.jpg  cat.617.jpg\n",
            "cat.1333.jpg  cat.2055.jpg  cat.2780.jpg  cat.3501.jpg  cat.618.jpg\n",
            "cat.1334.jpg  cat.2056.jpg  cat.2781.jpg  cat.3502.jpg  cat.619.jpg\n",
            "cat.1335.jpg  cat.2057.jpg  cat.2782.jpg  cat.3503.jpg  cat.61.jpg\n",
            "cat.1336.jpg  cat.2058.jpg  cat.2783.jpg  cat.3504.jpg  cat.620.jpg\n",
            "cat.1337.jpg  cat.2059.jpg  cat.2784.jpg  cat.3505.jpg  cat.621.jpg\n",
            "cat.1338.jpg  cat.205.jpg   cat.2785.jpg  cat.3506.jpg  cat.622.jpg\n",
            "cat.1339.jpg  cat.2060.jpg  cat.2786.jpg  cat.3507.jpg  cat.623.jpg\n",
            "cat.133.jpg   cat.2061.jpg  cat.2788.jpg  cat.3508.jpg  cat.624.jpg\n",
            "cat.1340.jpg  cat.2062.jpg  cat.2789.jpg  cat.3509.jpg  cat.625.jpg\n",
            "cat.1341.jpg  cat.2064.jpg  cat.278.jpg   cat.350.jpg   cat.626.jpg\n",
            "cat.1342.jpg  cat.2065.jpg  cat.2790.jpg  cat.3510.jpg  cat.627.jpg\n",
            "cat.1343.jpg  cat.2066.jpg  cat.2791.jpg  cat.3511.jpg  cat.628.jpg\n",
            "cat.1344.jpg  cat.2067.jpg  cat.2792.jpg  cat.3512.jpg  cat.629.jpg\n",
            "cat.1345.jpg  cat.2068.jpg  cat.2793.jpg  cat.3513.jpg  cat.62.jpg\n",
            "cat.1346.jpg  cat.2069.jpg  cat.2794.jpg  cat.3514.jpg  cat.630.jpg\n",
            "cat.1347.jpg  cat.206.jpg   cat.2795.jpg  cat.3515.jpg  cat.631.jpg\n",
            "cat.1348.jpg  cat.2070.jpg  cat.2796.jpg  cat.3516.jpg  cat.632.jpg\n",
            "cat.1349.jpg  cat.2071.jpg  cat.2797.jpg  cat.3517.jpg  cat.633.jpg\n",
            "cat.134.jpg   cat.2072.jpg  cat.2798.jpg  cat.3518.jpg  cat.634.jpg\n",
            "cat.1350.jpg  cat.2073.jpg  cat.2799.jpg  cat.3519.jpg  cat.635.jpg\n",
            "cat.1351.jpg  cat.2074.jpg  cat.279.jpg   cat.351.jpg   cat.636.jpg\n",
            "cat.1352.jpg  cat.2075.jpg  cat.27.jpg    cat.3520.jpg  cat.637.jpg\n",
            "cat.1353.jpg  cat.2076.jpg  cat.2800.jpg  cat.3521.jpg  cat.638.jpg\n",
            "cat.1354.jpg  cat.2077.jpg  cat.2801.jpg  cat.3522.jpg  cat.639.jpg\n",
            "cat.1355.jpg  cat.2078.jpg  cat.2802.jpg  cat.3523.jpg  cat.63.jpg\n",
            "cat.1356.jpg  cat.2079.jpg  cat.2803.jpg  cat.3524.jpg  cat.640.jpg\n",
            "cat.1357.jpg  cat.2080.jpg  cat.2804.jpg  cat.3525.jpg  cat.641.jpg\n",
            "cat.1358.jpg  cat.2081.jpg  cat.2805.jpg  cat.3526.jpg  cat.642.jpg\n",
            "cat.1359.jpg  cat.2082.jpg  cat.2806.jpg  cat.3527.jpg  cat.643.jpg\n",
            "cat.135.jpg   cat.2083.jpg  cat.2807.jpg  cat.3528.jpg  cat.644.jpg\n",
            "cat.1360.jpg  cat.2084.jpg  cat.2808.jpg  cat.3529.jpg  cat.645.jpg\n",
            "cat.1361.jpg  cat.2085.jpg  cat.2809.jpg  cat.352.jpg   cat.646.jpg\n",
            "cat.1362.jpg  cat.2086.jpg  cat.280.jpg   cat.3530.jpg  cat.647.jpg\n",
            "cat.1363.jpg  cat.2087.jpg  cat.2810.jpg  cat.3531.jpg  cat.648.jpg\n",
            "cat.1364.jpg  cat.2088.jpg  cat.2811.jpg  cat.3532.jpg  cat.649.jpg\n",
            "cat.1365.jpg  cat.2089.jpg  cat.2812.jpg  cat.3533.jpg  cat.64.jpg\n",
            "cat.1366.jpg  cat.208.jpg   cat.2813.jpg  cat.3534.jpg  cat.650.jpg\n",
            "cat.1367.jpg  cat.2090.jpg  cat.2814.jpg  cat.3535.jpg  cat.651.jpg\n",
            "cat.1368.jpg  cat.2091.jpg  cat.2815.jpg  cat.3536.jpg  cat.652.jpg\n",
            "cat.1369.jpg  cat.2092.jpg  cat.2816.jpg  cat.3537.jpg  cat.653.jpg\n",
            "cat.136.jpg   cat.2093.jpg  cat.2817.jpg  cat.3538.jpg  cat.654.jpg\n",
            "cat.1370.jpg  cat.2094.jpg  cat.2818.jpg  cat.3539.jpg  cat.655.jpg\n",
            "cat.1371.jpg  cat.2095.jpg  cat.2819.jpg  cat.353.jpg   cat.656.jpg\n",
            "cat.1372.jpg  cat.2096.jpg  cat.281.jpg   cat.3540.jpg  cat.657.jpg\n",
            "cat.1373.jpg  cat.2097.jpg  cat.2820.jpg  cat.3541.jpg  cat.658.jpg\n",
            "cat.1374.jpg  cat.2098.jpg  cat.2821.jpg  cat.3542.jpg  cat.659.jpg\n",
            "cat.1375.jpg  cat.2099.jpg  cat.2822.jpg  cat.3543.jpg  cat.660.jpg\n",
            "cat.1376.jpg  cat.209.jpg   cat.2823.jpg  cat.3544.jpg  cat.661.jpg\n",
            "cat.1377.jpg  cat.20.jpg    cat.2824.jpg  cat.3545.jpg  cat.662.jpg\n",
            "cat.1378.jpg  cat.2100.jpg  cat.2825.jpg  cat.3546.jpg  cat.663.jpg\n",
            "cat.1379.jpg  cat.2101.jpg  cat.2826.jpg  cat.3547.jpg  cat.664.jpg\n",
            "cat.137.jpg   cat.2102.jpg  cat.2827.jpg  cat.3548.jpg  cat.665.jpg\n",
            "cat.1380.jpg  cat.2103.jpg  cat.2828.jpg  cat.3549.jpg  cat.666.jpg\n",
            "cat.1381.jpg  cat.2104.jpg  cat.2829.jpg  cat.354.jpg   cat.667.jpg\n",
            "cat.1382.jpg  cat.2105.jpg  cat.282.jpg   cat.3550.jpg  cat.668.jpg\n",
            "cat.1383.jpg  cat.2106.jpg  cat.2830.jpg  cat.3551.jpg  cat.669.jpg\n",
            "cat.1384.jpg  cat.2107.jpg  cat.2831.jpg  cat.3552.jpg  cat.66.jpg\n",
            "cat.1385.jpg  cat.2108.jpg  cat.2832.jpg  cat.3554.jpg  cat.670.jpg\n",
            "cat.1386.jpg  cat.2109.jpg  cat.2833.jpg  cat.3555.jpg  cat.671.jpg\n",
            "cat.1387.jpg  cat.210.jpg   cat.2834.jpg  cat.3556.jpg  cat.672.jpg\n",
            "cat.1388.jpg  cat.2110.jpg  cat.2835.jpg  cat.3557.jpg  cat.673.jpg\n",
            "cat.1389.jpg  cat.2111.jpg  cat.2836.jpg  cat.3558.jpg  cat.674.jpg\n",
            "cat.138.jpg   cat.2112.jpg  cat.2837.jpg  cat.3559.jpg  cat.675.jpg\n",
            "cat.1390.jpg  cat.2113.jpg  cat.2838.jpg  cat.355.jpg   cat.676.jpg\n",
            "cat.1391.jpg  cat.2114.jpg  cat.2839.jpg  cat.3560.jpg  cat.677.jpg\n",
            "cat.1392.jpg  cat.2115.jpg  cat.283.jpg   cat.3561.jpg  cat.678.jpg\n",
            "cat.1393.jpg  cat.2116.jpg  cat.2840.jpg  cat.3562.jpg  cat.679.jpg\n",
            "cat.1394.jpg  cat.2117.jpg  cat.2841.jpg  cat.3563.jpg  cat.67.jpg\n",
            "cat.1395.jpg  cat.2118.jpg  cat.2842.jpg  cat.3564.jpg  cat.680.jpg\n",
            "cat.1396.jpg  cat.2119.jpg  cat.2843.jpg  cat.3565.jpg  cat.681.jpg\n",
            "cat.1397.jpg  cat.211.jpg   cat.2845.jpg  cat.3566.jpg  cat.682.jpg\n",
            "cat.1398.jpg  cat.2120.jpg  cat.2846.jpg  cat.3567.jpg  cat.683.jpg\n",
            "cat.1399.jpg  cat.2121.jpg  cat.2847.jpg  cat.3568.jpg  cat.684.jpg\n",
            "cat.139.jpg   cat.2122.jpg  cat.2848.jpg  cat.3569.jpg  cat.685.jpg\n",
            "cat.13.jpg    cat.2123.jpg  cat.2849.jpg  cat.356.jpg   cat.686.jpg\n",
            "cat.1400.jpg  cat.2124.jpg  cat.284.jpg   cat.3570.jpg  cat.687.jpg\n",
            "cat.1401.jpg  cat.2126.jpg  cat.2850.jpg  cat.3571.jpg  cat.688.jpg\n",
            "cat.1402.jpg  cat.2127.jpg  cat.2851.jpg  cat.3572.jpg  cat.689.jpg\n",
            "cat.1403.jpg  cat.2128.jpg  cat.2852.jpg  cat.3573.jpg  cat.68.jpg\n",
            "cat.1404.jpg  cat.2129.jpg  cat.2853.jpg  cat.3574.jpg  cat.690.jpg\n",
            "cat.1405.jpg  cat.212.jpg   cat.2854.jpg  cat.3575.jpg  cat.691.jpg\n",
            "cat.1406.jpg  cat.2130.jpg  cat.2855.jpg  cat.3576.jpg  cat.692.jpg\n",
            "cat.1407.jpg  cat.2131.jpg  cat.2856.jpg  cat.3577.jpg  cat.693.jpg\n",
            "cat.1408.jpg  cat.2132.jpg  cat.2857.jpg  cat.3578.jpg  cat.694.jpg\n",
            "cat.1409.jpg  cat.2133.jpg  cat.2858.jpg  cat.3579.jpg  cat.695.jpg\n",
            "cat.140.jpg   cat.2134.jpg  cat.2859.jpg  cat.357.jpg   cat.696.jpg\n",
            "cat.1410.jpg  cat.2135.jpg  cat.285.jpg   cat.3580.jpg  cat.697.jpg\n",
            "cat.1411.jpg  cat.2136.jpg  cat.2860.jpg  cat.3581.jpg  cat.698.jpg\n",
            "cat.1412.jpg  cat.2137.jpg  cat.2861.jpg  cat.3582.jpg  cat.699.jpg\n",
            "cat.1413.jpg  cat.2138.jpg  cat.2862.jpg  cat.3583.jpg  cat.69.jpg\n",
            "cat.1414.jpg  cat.2139.jpg  cat.2863.jpg  cat.3584.jpg  cat.6.jpg\n",
            "cat.1415.jpg  cat.213.jpg   cat.2864.jpg  cat.3585.jpg  cat.700.jpg\n",
            "cat.1416.jpg  cat.2140.jpg  cat.2865.jpg  cat.3586.jpg  cat.701.jpg\n",
            "cat.1417.jpg  cat.2141.jpg  cat.2866.jpg  cat.3587.jpg  cat.702.jpg\n",
            "cat.1418.jpg  cat.2142.jpg  cat.2867.jpg  cat.3588.jpg  cat.703.jpg\n",
            "cat.1419.jpg  cat.2143.jpg  cat.2868.jpg  cat.3589.jpg  cat.704.jpg\n",
            "cat.141.jpg   cat.2144.jpg  cat.2869.jpg  cat.358.jpg   cat.705.jpg\n",
            "cat.1420.jpg  cat.2145.jpg  cat.286.jpg   cat.3590.jpg  cat.706.jpg\n",
            "cat.1421.jpg  cat.2146.jpg  cat.2870.jpg  cat.3591.jpg  cat.707.jpg\n",
            "cat.1422.jpg  cat.2147.jpg  cat.2871.jpg  cat.3592.jpg  cat.708.jpg\n",
            "cat.1423.jpg  cat.2148.jpg  cat.2872.jpg  cat.3593.jpg  cat.709.jpg\n",
            "cat.1424.jpg  cat.2149.jpg  cat.2873.jpg  cat.3594.jpg  cat.70.jpg\n",
            "cat.1425.jpg  cat.214.jpg   cat.2874.jpg  cat.3595.jpg  cat.710.jpg\n",
            "cat.1426.jpg  cat.2150.jpg  cat.2875.jpg  cat.3596.jpg  cat.711.jpg\n",
            "cat.1427.jpg  cat.2151.jpg  cat.2876.jpg  cat.3597.jpg  cat.712.jpg\n",
            "cat.1428.jpg  cat.2152.jpg  cat.2877.jpg  cat.3598.jpg  cat.713.jpg\n",
            "cat.1429.jpg  cat.2153.jpg  cat.2878.jpg  cat.3599.jpg  cat.714.jpg\n",
            "cat.142.jpg   cat.2154.jpg  cat.2879.jpg  cat.359.jpg   cat.715.jpg\n",
            "cat.1430.jpg  cat.2155.jpg  cat.287.jpg   cat.35.jpg    cat.716.jpg\n",
            "cat.1431.jpg  cat.2156.jpg  cat.2880.jpg  cat.3600.jpg  cat.717.jpg\n",
            "cat.1432.jpg  cat.2157.jpg  cat.2881.jpg  cat.3601.jpg  cat.718.jpg\n",
            "cat.1433.jpg  cat.2158.jpg  cat.2882.jpg  cat.3602.jpg  cat.719.jpg\n",
            "cat.1434.jpg  cat.2159.jpg  cat.2883.jpg  cat.3603.jpg  cat.71.jpg\n",
            "cat.1435.jpg  cat.215.jpg   cat.2884.jpg  cat.3604.jpg  cat.720.jpg\n",
            "cat.1436.jpg  cat.2160.jpg  cat.2885.jpg  cat.3605.jpg  cat.721.jpg\n",
            "cat.1437.jpg  cat.2161.jpg  cat.2886.jpg  cat.3606.jpg  cat.722.jpg\n",
            "cat.1438.jpg  cat.2162.jpg  cat.2887.jpg  cat.3607.jpg  cat.723.jpg\n",
            "cat.1439.jpg  cat.2163.jpg  cat.2888.jpg  cat.3608.jpg  cat.724.jpg\n",
            "cat.143.jpg   cat.2164.jpg  cat.2889.jpg  cat.3609.jpg  cat.725.jpg\n",
            "cat.1440.jpg  cat.2165.jpg  cat.288.jpg   cat.360.jpg   cat.726.jpg\n",
            "cat.1441.jpg  cat.2166.jpg  cat.2890.jpg  cat.3610.jpg  cat.727.jpg\n",
            "cat.1442.jpg  cat.2167.jpg  cat.2891.jpg  cat.3611.jpg  cat.728.jpg\n",
            "cat.1443.jpg  cat.2168.jpg  cat.2892.jpg  cat.3612.jpg  cat.729.jpg\n",
            "cat.1444.jpg  cat.2169.jpg  cat.2893.jpg  cat.3613.jpg  cat.730.jpg\n",
            "cat.1445.jpg  cat.216.jpg   cat.2894.jpg  cat.3614.jpg  cat.731.jpg\n",
            "cat.1446.jpg  cat.2170.jpg  cat.2895.jpg  cat.3615.jpg  cat.732.jpg\n",
            "cat.1447.jpg  cat.2171.jpg  cat.2896.jpg  cat.3616.jpg  cat.733.jpg\n",
            "cat.1448.jpg  cat.2172.jpg  cat.2897.jpg  cat.3617.jpg  cat.734.jpg\n",
            "cat.1449.jpg  cat.2173.jpg  cat.2898.jpg  cat.3618.jpg  cat.735.jpg\n",
            "cat.144.jpg   cat.2174.jpg  cat.2899.jpg  cat.3619.jpg  cat.736.jpg\n",
            "cat.1450.jpg  cat.2175.jpg  cat.289.jpg   cat.361.jpg   cat.737.jpg\n",
            "cat.1451.jpg  cat.2177.jpg  cat.28.jpg    cat.3620.jpg  cat.738.jpg\n",
            "cat.1452.jpg  cat.2178.jpg  cat.2900.jpg  cat.3621.jpg  cat.739.jpg\n",
            "cat.1453.jpg  cat.2179.jpg  cat.2901.jpg  cat.3622.jpg  cat.73.jpg\n",
            "cat.1454.jpg  cat.217.jpg   cat.2902.jpg  cat.3623.jpg  cat.740.jpg\n",
            "cat.1455.jpg  cat.2180.jpg  cat.2903.jpg  cat.3624.jpg  cat.741.jpg\n",
            "cat.1456.jpg  cat.2181.jpg  cat.2904.jpg  cat.3625.jpg  cat.742.jpg\n",
            "cat.1457.jpg  cat.2182.jpg  cat.2905.jpg  cat.3626.jpg  cat.743.jpg\n",
            "cat.1458.jpg  cat.2183.jpg  cat.2906.jpg  cat.3627.jpg  cat.744.jpg\n",
            "cat.1459.jpg  cat.2184.jpg  cat.2907.jpg  cat.3628.jpg  cat.745.jpg\n",
            "cat.145.jpg   cat.2185.jpg  cat.2908.jpg  cat.3629.jpg  cat.746.jpg\n",
            "cat.1460.jpg  cat.2186.jpg  cat.290.jpg   cat.362.jpg   cat.747.jpg\n",
            "cat.1461.jpg  cat.2187.jpg  cat.2910.jpg  cat.3630.jpg  cat.748.jpg\n",
            "cat.1462.jpg  cat.2188.jpg  cat.2911.jpg  cat.3631.jpg  cat.749.jpg\n",
            "cat.1463.jpg  cat.2189.jpg  cat.2912.jpg  cat.3632.jpg  cat.74.jpg\n",
            "cat.1464.jpg  cat.218.jpg   cat.2913.jpg  cat.3633.jpg  cat.750.jpg\n",
            "cat.1465.jpg  cat.2190.jpg  cat.2914.jpg  cat.3634.jpg  cat.751.jpg\n",
            "cat.1466.jpg  cat.2191.jpg  cat.2915.jpg  cat.3635.jpg  cat.752.jpg\n",
            "cat.1467.jpg  cat.2192.jpg  cat.2916.jpg  cat.3636.jpg  cat.753.jpg\n",
            "cat.1468.jpg  cat.2193.jpg  cat.2917.jpg  cat.3637.jpg  cat.754.jpg\n",
            "cat.1469.jpg  cat.2194.jpg  cat.2918.jpg  cat.3638.jpg  cat.755.jpg\n",
            "cat.146.jpg   cat.2195.jpg  cat.291.jpg   cat.3639.jpg  cat.756.jpg\n",
            "cat.1470.jpg  cat.2196.jpg  cat.2920.jpg  cat.363.jpg   cat.757.jpg\n",
            "cat.1471.jpg  cat.2197.jpg  cat.2921.jpg  cat.3640.jpg  cat.758.jpg\n",
            "cat.1472.jpg  cat.2198.jpg  cat.2922.jpg  cat.3641.jpg  cat.759.jpg\n",
            "cat.1473.jpg  cat.2199.jpg  cat.2923.jpg  cat.3642.jpg  cat.75.jpg\n",
            "cat.1474.jpg  cat.219.jpg   cat.2924.jpg  cat.3643.jpg  cat.760.jpg\n",
            "cat.1475.jpg  cat.21.jpg    cat.2925.jpg  cat.3644.jpg  cat.761.jpg\n",
            "cat.1476.jpg  cat.2200.jpg  cat.2926.jpg  cat.3645.jpg  cat.762.jpg\n",
            "cat.1477.jpg  cat.2201.jpg  cat.2927.jpg  cat.3646.jpg  cat.763.jpg\n",
            "cat.1478.jpg  cat.2202.jpg  cat.2928.jpg  cat.3647.jpg  cat.764.jpg\n",
            "cat.1479.jpg  cat.2203.jpg  cat.2929.jpg  cat.3648.jpg  cat.765.jpg\n",
            "cat.147.jpg   cat.2204.jpg  cat.292.jpg   cat.3649.jpg  cat.766.jpg\n",
            "cat.1480.jpg  cat.2205.jpg  cat.2930.jpg  cat.364.jpg   cat.767.jpg\n",
            "cat.1481.jpg  cat.2206.jpg  cat.2931.jpg  cat.3650.jpg  cat.768.jpg\n",
            "cat.1482.jpg  cat.2207.jpg  cat.2932.jpg  cat.3651.jpg  cat.769.jpg\n",
            "cat.1483.jpg  cat.2208.jpg  cat.2933.jpg  cat.3652.jpg  cat.76.jpg\n",
            "cat.1484.jpg  cat.2209.jpg  cat.2934.jpg  cat.3653.jpg  cat.770.jpg\n",
            "cat.1485.jpg  cat.220.jpg   cat.2935.jpg  cat.3654.jpg  cat.771.jpg\n",
            "cat.1486.jpg  cat.2210.jpg  cat.2936.jpg  cat.3655.jpg  cat.772.jpg\n",
            "cat.1487.jpg  cat.2211.jpg  cat.2937.jpg  cat.3656.jpg  cat.773.jpg\n",
            "cat.1488.jpg  cat.2212.jpg  cat.2938.jpg  cat.3657.jpg  cat.774.jpg\n",
            "cat.1489.jpg  cat.2213.jpg  cat.2939.jpg  cat.3658.jpg  cat.775.jpg\n",
            "cat.148.jpg   cat.2214.jpg  cat.293.jpg   cat.3659.jpg  cat.776.jpg\n",
            "cat.1490.jpg  cat.2215.jpg  cat.2940.jpg  cat.365.jpg   cat.777.jpg\n",
            "cat.1491.jpg  cat.2216.jpg  cat.2941.jpg  cat.3660.jpg  cat.778.jpg\n",
            "cat.1492.jpg  cat.2217.jpg  cat.2942.jpg  cat.3661.jpg  cat.779.jpg\n",
            "cat.1494.jpg  cat.2218.jpg  cat.2943.jpg  cat.3662.jpg  cat.77.jpg\n",
            "cat.1495.jpg  cat.2219.jpg  cat.2944.jpg  cat.3663.jpg  cat.780.jpg\n",
            "cat.1496.jpg  cat.221.jpg   cat.2945.jpg  cat.3664.jpg  cat.781.jpg\n",
            "cat.1497.jpg  cat.2220.jpg  cat.2946.jpg  cat.3665.jpg  cat.782.jpg\n",
            "cat.1498.jpg  cat.2221.jpg  cat.2947.jpg  cat.3666.jpg  cat.783.jpg\n",
            "cat.1499.jpg  cat.2222.jpg  cat.2948.jpg  cat.3667.jpg  cat.784.jpg\n",
            "cat.149.jpg   cat.2223.jpg  cat.2949.jpg  cat.3668.jpg  cat.785.jpg\n",
            "cat.14.jpg    cat.2224.jpg  cat.294.jpg   cat.3669.jpg  cat.786.jpg\n",
            "cat.1500.jpg  cat.2225.jpg  cat.2950.jpg  cat.366.jpg   cat.787.jpg\n",
            "cat.1501.jpg  cat.2226.jpg  cat.2951.jpg  cat.3670.jpg  cat.788.jpg\n",
            "cat.1502.jpg  cat.2228.jpg  cat.2952.jpg  cat.3671.jpg  cat.789.jpg\n",
            "cat.1503.jpg  cat.2229.jpg  cat.2953.jpg  cat.3672.jpg  cat.78.jpg\n",
            "cat.1504.jpg  cat.222.jpg   cat.2954.jpg  cat.3673.jpg  cat.790.jpg\n",
            "cat.1505.jpg  cat.2230.jpg  cat.2955.jpg  cat.3674.jpg  cat.791.jpg\n",
            "cat.1506.jpg  cat.2231.jpg  cat.2956.jpg  cat.3675.jpg  cat.792.jpg\n",
            "cat.1507.jpg  cat.2232.jpg  cat.2957.jpg  cat.3676.jpg  cat.793.jpg\n",
            "cat.1508.jpg  cat.2233.jpg  cat.2958.jpg  cat.3677.jpg  cat.794.jpg\n",
            "cat.1509.jpg  cat.2234.jpg  cat.2959.jpg  cat.3678.jpg  cat.795.jpg\n",
            "cat.150.jpg   cat.2235.jpg  cat.295.jpg   cat.3679.jpg  cat.796.jpg\n",
            "cat.1510.jpg  cat.2236.jpg  cat.2960.jpg  cat.367.jpg   cat.797.jpg\n",
            "cat.1511.jpg  cat.2237.jpg  cat.2961.jpg  cat.3680.jpg  cat.798.jpg\n",
            "cat.1512.jpg  cat.2238.jpg  cat.2962.jpg  cat.3681.jpg  cat.799.jpg\n",
            "cat.1513.jpg  cat.2239.jpg  cat.2963.jpg  cat.3682.jpg  cat.79.jpg\n",
            "cat.1514.jpg  cat.223.jpg   cat.2964.jpg  cat.3683.jpg  cat.7.jpg\n",
            "cat.1515.jpg  cat.2240.jpg  cat.2965.jpg  cat.3684.jpg  cat.800.jpg\n",
            "cat.1516.jpg  cat.2241.jpg  cat.2966.jpg  cat.3685.jpg  cat.801.jpg\n",
            "cat.1517.jpg  cat.2242.jpg  cat.2967.jpg  cat.3686.jpg  cat.802.jpg\n",
            "cat.1518.jpg  cat.2243.jpg  cat.2968.jpg  cat.3687.jpg  cat.803.jpg\n",
            "cat.1519.jpg  cat.2244.jpg  cat.2969.jpg  cat.3688.jpg  cat.804.jpg\n",
            "cat.151.jpg   cat.2245.jpg  cat.296.jpg   cat.3689.jpg  cat.805.jpg\n",
            "cat.1520.jpg  cat.2246.jpg  cat.2971.jpg  cat.368.jpg   cat.806.jpg\n",
            "cat.1521.jpg  cat.2247.jpg  cat.2972.jpg  cat.3690.jpg  cat.807.jpg\n",
            "cat.1522.jpg  cat.2248.jpg  cat.2973.jpg  cat.3691.jpg  cat.808.jpg\n",
            "cat.1523.jpg  cat.2249.jpg  cat.2974.jpg  cat.3692.jpg  cat.809.jpg\n",
            "cat.1524.jpg  cat.224.jpg   cat.2975.jpg  cat.3693.jpg  cat.80.jpg\n",
            "cat.1526.jpg  cat.2250.jpg  cat.2976.jpg  cat.3695.jpg  cat.810.jpg\n",
            "cat.1527.jpg  cat.2251.jpg  cat.2977.jpg  cat.3696.jpg  cat.811.jpg\n",
            "cat.1528.jpg  cat.2253.jpg  cat.2978.jpg  cat.3697.jpg  cat.812.jpg\n",
            "cat.1529.jpg  cat.2254.jpg  cat.2979.jpg  cat.3698.jpg  cat.813.jpg\n",
            "cat.152.jpg   cat.2255.jpg  cat.297.jpg   cat.3699.jpg  cat.814.jpg\n",
            "cat.1530.jpg  cat.2256.jpg  cat.2980.jpg  cat.369.jpg   cat.815.jpg\n",
            "cat.1531.jpg  cat.2257.jpg  cat.2981.jpg  cat.36.jpg    cat.816.jpg\n",
            "cat.1532.jpg  cat.2258.jpg  cat.2982.jpg  cat.3700.jpg  cat.817.jpg\n",
            "cat.1533.jpg  cat.2259.jpg  cat.2983.jpg  cat.3701.jpg  cat.818.jpg\n",
            "cat.1534.jpg  cat.225.jpg   cat.2984.jpg  cat.3702.jpg  cat.819.jpg\n",
            "cat.1535.jpg  cat.2260.jpg  cat.2985.jpg  cat.3703.jpg  cat.81.jpg\n",
            "cat.1536.jpg  cat.2261.jpg  cat.2986.jpg  cat.3704.jpg  cat.820.jpg\n",
            "cat.1537.jpg  cat.2262.jpg  cat.2987.jpg  cat.3705.jpg  cat.821.jpg\n",
            "cat.1538.jpg  cat.2263.jpg  cat.2988.jpg  cat.3706.jpg  cat.822.jpg\n",
            "cat.1539.jpg  cat.2264.jpg  cat.2989.jpg  cat.3707.jpg  cat.823.jpg\n",
            "cat.153.jpg   cat.2265.jpg  cat.298.jpg   cat.3708.jpg  cat.824.jpg\n",
            "cat.1540.jpg  cat.2266.jpg  cat.2990.jpg  cat.3709.jpg  cat.825.jpg\n",
            "cat.1541.jpg  cat.2267.jpg  cat.2991.jpg  cat.370.jpg   cat.826.jpg\n",
            "cat.1542.jpg  cat.2268.jpg  cat.2992.jpg  cat.3710.jpg  cat.827.jpg\n",
            "cat.1543.jpg  cat.2269.jpg  cat.2993.jpg  cat.3711.jpg  cat.828.jpg\n",
            "cat.1544.jpg  cat.226.jpg   cat.2995.jpg  cat.3712.jpg  cat.829.jpg\n",
            "cat.1545.jpg  cat.2270.jpg  cat.2996.jpg  cat.3713.jpg  cat.82.jpg\n",
            "cat.1546.jpg  cat.2271.jpg  cat.2997.jpg  cat.3714.jpg  cat.830.jpg\n",
            "cat.1547.jpg  cat.2273.jpg  cat.2998.jpg  cat.3715.jpg  cat.832.jpg\n",
            "cat.1548.jpg  cat.2274.jpg  cat.2999.jpg  cat.3716.jpg  cat.833.jpg\n",
            "cat.1549.jpg  cat.2275.jpg  cat.299.jpg   cat.3717.jpg  cat.834.jpg\n",
            "cat.154.jpg   cat.2276.jpg  cat.29.jpg    cat.3718.jpg  cat.835.jpg\n",
            "cat.1550.jpg  cat.2277.jpg  cat.2.jpg     cat.3719.jpg  cat.836.jpg\n",
            "cat.1551.jpg  cat.2278.jpg  cat.3000.jpg  cat.371.jpg   cat.837.jpg\n",
            "cat.1552.jpg  cat.2279.jpg  cat.3001.jpg  cat.3720.jpg  cat.838.jpg\n",
            "cat.1553.jpg  cat.227.jpg   cat.3002.jpg  cat.3721.jpg  cat.839.jpg\n",
            "cat.1554.jpg  cat.2280.jpg  cat.3003.jpg  cat.3722.jpg  cat.83.jpg\n",
            "cat.1555.jpg  cat.2281.jpg  cat.3004.jpg  cat.3723.jpg  cat.840.jpg\n",
            "cat.1556.jpg  cat.2282.jpg  cat.3005.jpg  cat.3724.jpg  cat.841.jpg\n",
            "cat.1557.jpg  cat.2283.jpg  cat.3006.jpg  cat.3725.jpg  cat.842.jpg\n",
            "cat.1558.jpg  cat.2284.jpg  cat.3007.jpg  cat.3726.jpg  cat.843.jpg\n",
            "cat.1559.jpg  cat.2285.jpg  cat.3008.jpg  cat.3727.jpg  cat.844.jpg\n",
            "cat.155.jpg   cat.2286.jpg  cat.3009.jpg  cat.3728.jpg  cat.845.jpg\n",
            "cat.1560.jpg  cat.2287.jpg  cat.300.jpg   cat.3729.jpg  cat.846.jpg\n",
            "cat.1561.jpg  cat.2288.jpg  cat.3010.jpg  cat.372.jpg   cat.847.jpg\n",
            "cat.1562.jpg  cat.2289.jpg  cat.3011.jpg  cat.3730.jpg  cat.848.jpg\n",
            "cat.1563.jpg  cat.228.jpg   cat.3012.jpg  cat.3731.jpg  cat.849.jpg\n",
            "cat.1564.jpg  cat.2290.jpg  cat.3013.jpg  cat.3732.jpg  cat.84.jpg\n",
            "cat.1566.jpg  cat.2291.jpg  cat.3014.jpg  cat.3733.jpg  cat.850.jpg\n",
            "cat.1567.jpg  cat.2292.jpg  cat.3015.jpg  cat.3734.jpg  cat.851.jpg\n",
            "cat.1569.jpg  cat.2293.jpg  cat.3016.jpg  cat.3735.jpg  cat.852.jpg\n",
            "cat.156.jpg   cat.2294.jpg  cat.3017.jpg  cat.3736.jpg  cat.853.jpg\n",
            "cat.1570.jpg  cat.2295.jpg  cat.3018.jpg  cat.3737.jpg  cat.854.jpg\n",
            "cat.1571.jpg  cat.2296.jpg  cat.3019.jpg  cat.3738.jpg  cat.855.jpg\n",
            "cat.1572.jpg  cat.2297.jpg  cat.301.jpg   cat.3739.jpg  cat.856.jpg\n",
            "cat.1573.jpg  cat.2298.jpg  cat.3020.jpg  cat.373.jpg   cat.857.jpg\n",
            "cat.1574.jpg  cat.229.jpg   cat.3021.jpg  cat.3740.jpg  cat.858.jpg\n",
            "cat.1575.jpg  cat.22.jpg    cat.3022.jpg  cat.3741.jpg  cat.859.jpg\n",
            "cat.1576.jpg  cat.2300.jpg  cat.3023.jpg  cat.3742.jpg  cat.85.jpg\n",
            "cat.1577.jpg  cat.2301.jpg  cat.3024.jpg  cat.3743.jpg  cat.860.jpg\n",
            "cat.1578.jpg  cat.2302.jpg  cat.3025.jpg  cat.3744.jpg  cat.861.jpg\n",
            "cat.1579.jpg  cat.2303.jpg  cat.3026.jpg  cat.3745.jpg  cat.862.jpg\n",
            "cat.157.jpg   cat.2304.jpg  cat.3027.jpg  cat.3746.jpg  cat.863.jpg\n",
            "cat.1580.jpg  cat.2305.jpg  cat.3028.jpg  cat.3747.jpg  cat.864.jpg\n",
            "cat.1581.jpg  cat.2306.jpg  cat.3029.jpg  cat.3748.jpg  cat.865.jpg\n",
            "cat.1582.jpg  cat.2307.jpg  cat.302.jpg   cat.3749.jpg  cat.866.jpg\n",
            "cat.1583.jpg  cat.2308.jpg  cat.3030.jpg  cat.374.jpg   cat.867.jpg\n",
            "cat.1584.jpg  cat.2309.jpg  cat.3031.jpg  cat.3750.jpg  cat.868.jpg\n",
            "cat.1585.jpg  cat.230.jpg   cat.3032.jpg  cat.3751.jpg  cat.869.jpg\n",
            "cat.1586.jpg  cat.2310.jpg  cat.3033.jpg  cat.3752.jpg  cat.86.jpg\n",
            "cat.1587.jpg  cat.2311.jpg  cat.3034.jpg  cat.3753.jpg  cat.870.jpg\n",
            "cat.1588.jpg  cat.2312.jpg  cat.3035.jpg  cat.3754.jpg  cat.871.jpg\n",
            "cat.1589.jpg  cat.2313.jpg  cat.3036.jpg  cat.3755.jpg  cat.872.jpg\n",
            "cat.158.jpg   cat.2314.jpg  cat.3037.jpg  cat.3756.jpg  cat.873.jpg\n",
            "cat.1590.jpg  cat.2315.jpg  cat.3038.jpg  cat.3757.jpg  cat.874.jpg\n",
            "cat.1591.jpg  cat.2316.jpg  cat.3039.jpg  cat.3758.jpg  cat.875.jpg\n",
            "cat.1592.jpg  cat.2317.jpg  cat.303.jpg   cat.3759.jpg  cat.876.jpg\n",
            "cat.1593.jpg  cat.2318.jpg  cat.3040.jpg  cat.375.jpg   cat.877.jpg\n",
            "cat.1594.jpg  cat.2319.jpg  cat.3041.jpg  cat.3760.jpg  cat.878.jpg\n",
            "cat.1595.jpg  cat.231.jpg   cat.3042.jpg  cat.3761.jpg  cat.879.jpg\n",
            "cat.1596.jpg  cat.2320.jpg  cat.3043.jpg  cat.3762.jpg  cat.87.jpg\n",
            "cat.1597.jpg  cat.2321.jpg  cat.3044.jpg  cat.3763.jpg  cat.880.jpg\n",
            "cat.1598.jpg  cat.2322.jpg  cat.3045.jpg  cat.3764.jpg  cat.881.jpg\n",
            "cat.1599.jpg  cat.2323.jpg  cat.3046.jpg  cat.3765.jpg  cat.882.jpg\n",
            "cat.159.jpg   cat.2324.jpg  cat.3048.jpg  cat.3766.jpg  cat.883.jpg\n",
            "cat.15.jpg    cat.2325.jpg  cat.3049.jpg  cat.3767.jpg  cat.884.jpg\n",
            "cat.1600.jpg  cat.2326.jpg  cat.304.jpg   cat.3768.jpg  cat.885.jpg\n",
            "cat.1601.jpg  cat.2327.jpg  cat.3050.jpg  cat.3769.jpg  cat.886.jpg\n",
            "cat.1602.jpg  cat.2328.jpg  cat.3051.jpg  cat.376.jpg   cat.887.jpg\n",
            "cat.1603.jpg  cat.2329.jpg  cat.3052.jpg  cat.3770.jpg  cat.888.jpg\n",
            "cat.1604.jpg  cat.232.jpg   cat.3053.jpg  cat.3771.jpg  cat.88.jpg\n",
            "cat.1605.jpg  cat.2330.jpg  cat.3054.jpg  cat.3773.jpg  cat.890.jpg\n",
            "cat.1606.jpg  cat.2331.jpg  cat.3055.jpg  cat.3774.jpg  cat.891.jpg\n",
            "cat.1607.jpg  cat.2332.jpg  cat.3056.jpg  cat.3775.jpg  cat.892.jpg\n",
            "cat.1608.jpg  cat.2333.jpg  cat.3057.jpg  cat.3776.jpg  cat.893.jpg\n",
            "cat.1609.jpg  cat.2334.jpg  cat.3058.jpg  cat.3777.jpg  cat.894.jpg\n",
            "cat.160.jpg   cat.2335.jpg  cat.3059.jpg  cat.3778.jpg  cat.895.jpg\n",
            "cat.1610.jpg  cat.2336.jpg  cat.305.jpg   cat.3779.jpg  cat.896.jpg\n",
            "cat.1611.jpg  cat.2337.jpg  cat.3060.jpg  cat.377.jpg   cat.897.jpg\n",
            "cat.1612.jpg  cat.2338.jpg  cat.3061.jpg  cat.3780.jpg  cat.898.jpg\n",
            "cat.1613.jpg  cat.2339.jpg  cat.3062.jpg  cat.3781.jpg  cat.899.jpg\n",
            "cat.1614.jpg  cat.233.jpg   cat.3063.jpg  cat.3782.jpg  cat.89.jpg\n",
            "cat.1615.jpg  cat.2340.jpg  cat.3064.jpg  cat.3783.jpg  cat.8.jpg\n",
            "cat.1616.jpg  cat.2341.jpg  cat.3065.jpg  cat.3784.jpg  cat.900.jpg\n",
            "cat.1617.jpg  cat.2342.jpg  cat.3066.jpg  cat.3785.jpg  cat.901.jpg\n",
            "cat.1618.jpg  cat.2343.jpg  cat.3067.jpg  cat.3786.jpg  cat.902.jpg\n",
            "cat.1619.jpg  cat.2344.jpg  cat.3068.jpg  cat.3787.jpg  cat.903.jpg\n",
            "cat.161.jpg   cat.2345.jpg  cat.3069.jpg  cat.3788.jpg  cat.904.jpg\n",
            "cat.1620.jpg  cat.2346.jpg  cat.306.jpg   cat.3789.jpg  cat.905.jpg\n",
            "cat.1621.jpg  cat.2347.jpg  cat.3070.jpg  cat.378.jpg   cat.906.jpg\n",
            "cat.1622.jpg  cat.2348.jpg  cat.3071.jpg  cat.3791.jpg  cat.907.jpg\n",
            "cat.1623.jpg  cat.2349.jpg  cat.3072.jpg  cat.3792.jpg  cat.908.jpg\n",
            "cat.1624.jpg  cat.234.jpg   cat.3073.jpg  cat.3793.jpg  cat.909.jpg\n",
            "cat.1625.jpg  cat.2350.jpg  cat.3074.jpg  cat.3794.jpg  cat.90.jpg\n",
            "cat.1626.jpg  cat.2351.jpg  cat.3075.jpg  cat.3795.jpg  cat.910.jpg\n",
            "cat.1627.jpg  cat.2352.jpg  cat.3076.jpg  cat.3796.jpg  cat.911.jpg\n",
            "cat.1628.jpg  cat.2353.jpg  cat.3077.jpg  cat.3797.jpg  cat.912.jpg\n",
            "cat.1629.jpg  cat.2354.jpg  cat.3078.jpg  cat.3798.jpg  cat.913.jpg\n",
            "cat.162.jpg   cat.2355.jpg  cat.3079.jpg  cat.3799.jpg  cat.914.jpg\n",
            "cat.1630.jpg  cat.2356.jpg  cat.307.jpg   cat.379.jpg   cat.915.jpg\n",
            "cat.1631.jpg  cat.2357.jpg  cat.3080.jpg  cat.37.jpg    cat.916.jpg\n",
            "cat.1632.jpg  cat.2358.jpg  cat.3081.jpg  cat.3800.jpg  cat.917.jpg\n",
            "cat.1633.jpg  cat.2359.jpg  cat.3082.jpg  cat.3801.jpg  cat.918.jpg\n",
            "cat.1634.jpg  cat.235.jpg   cat.3083.jpg  cat.3802.jpg  cat.919.jpg\n",
            "cat.1635.jpg  cat.2360.jpg  cat.3084.jpg  cat.3803.jpg  cat.91.jpg\n",
            "cat.1636.jpg  cat.2361.jpg  cat.3085.jpg  cat.3804.jpg  cat.920.jpg\n",
            "cat.1637.jpg  cat.2362.jpg  cat.3086.jpg  cat.3805.jpg  cat.921.jpg\n",
            "cat.1638.jpg  cat.2363.jpg  cat.3087.jpg  cat.3806.jpg  cat.922.jpg\n",
            "cat.163.jpg   cat.2364.jpg  cat.3088.jpg  cat.3808.jpg  cat.923.jpg\n",
            "cat.1640.jpg  cat.2365.jpg  cat.3089.jpg  cat.3809.jpg  cat.924.jpg\n",
            "cat.1641.jpg  cat.2366.jpg  cat.308.jpg   cat.380.jpg   cat.925.jpg\n",
            "cat.1642.jpg  cat.2367.jpg  cat.3090.jpg  cat.3810.jpg  cat.926.jpg\n",
            "cat.1643.jpg  cat.2368.jpg  cat.3091.jpg  cat.3811.jpg  cat.927.jpg\n",
            "cat.1644.jpg  cat.2369.jpg  cat.3092.jpg  cat.3812.jpg  cat.928.jpg\n",
            "cat.1645.jpg  cat.236.jpg   cat.3093.jpg  cat.3813.jpg  cat.929.jpg\n",
            "cat.1646.jpg  cat.2370.jpg  cat.3094.jpg  cat.3814.jpg  cat.92.jpg\n",
            "cat.1647.jpg  cat.2371.jpg  cat.3095.jpg  cat.3815.jpg  cat.930.jpg\n",
            "cat.1648.jpg  cat.2372.jpg  cat.3096.jpg  cat.3816.jpg  cat.931.jpg\n",
            "cat.1649.jpg  cat.2373.jpg  cat.3097.jpg  cat.3817.jpg  cat.932.jpg\n",
            "cat.164.jpg   cat.2374.jpg  cat.3098.jpg  cat.3818.jpg  cat.933.jpg\n",
            "cat.1650.jpg  cat.2375.jpg  cat.3099.jpg  cat.3819.jpg  cat.934.jpg\n",
            "cat.1651.jpg  cat.2376.jpg  cat.309.jpg   cat.381.jpg   cat.935.jpg\n",
            "cat.1652.jpg  cat.2377.jpg  cat.30.jpg    cat.3820.jpg  cat.936.jpg\n",
            "cat.1653.jpg  cat.2379.jpg  cat.3100.jpg  cat.3821.jpg  cat.937.jpg\n",
            "cat.1654.jpg  cat.237.jpg   cat.3101.jpg  cat.3822.jpg  cat.938.jpg\n",
            "cat.1655.jpg  cat.2380.jpg  cat.3102.jpg  cat.3823.jpg  cat.939.jpg\n",
            "cat.1656.jpg  cat.2381.jpg  cat.3103.jpg  cat.3824.jpg  cat.93.jpg\n",
            "cat.1657.jpg  cat.2382.jpg  cat.3104.jpg  cat.3825.jpg  cat.940.jpg\n",
            "cat.1658.jpg  cat.2383.jpg  cat.3105.jpg  cat.3826.jpg  cat.941.jpg\n",
            "cat.1659.jpg  cat.2384.jpg  cat.3106.jpg  cat.3827.jpg  cat.942.jpg\n",
            "cat.165.jpg   cat.2385.jpg  cat.3107.jpg  cat.3828.jpg  cat.943.jpg\n",
            "cat.1660.jpg  cat.2386.jpg  cat.3108.jpg  cat.3829.jpg  cat.944.jpg\n",
            "cat.1662.jpg  cat.2387.jpg  cat.3109.jpg  cat.382.jpg   cat.945.jpg\n",
            "cat.1663.jpg  cat.2388.jpg  cat.3110.jpg  cat.3830.jpg  cat.946.jpg\n",
            "cat.1664.jpg  cat.2389.jpg  cat.3111.jpg  cat.3831.jpg  cat.947.jpg\n",
            "cat.1665.jpg  cat.2390.jpg  cat.3112.jpg  cat.3832.jpg  cat.948.jpg\n",
            "cat.1666.jpg  cat.2391.jpg  cat.3113.jpg  cat.3833.jpg  cat.949.jpg\n",
            "cat.1667.jpg  cat.2392.jpg  cat.3114.jpg  cat.3834.jpg  cat.94.jpg\n",
            "cat.1668.jpg  cat.2393.jpg  cat.3115.jpg  cat.3835.jpg  cat.950.jpg\n",
            "cat.1669.jpg  cat.2394.jpg  cat.3116.jpg  cat.3836.jpg  cat.951.jpg\n",
            "cat.166.jpg   cat.2395.jpg  cat.3117.jpg  cat.3837.jpg  cat.952.jpg\n",
            "cat.1670.jpg  cat.2396.jpg  cat.3118.jpg  cat.3838.jpg  cat.953.jpg\n",
            "cat.1671.jpg  cat.2397.jpg  cat.3119.jpg  cat.3839.jpg  cat.954.jpg\n",
            "cat.1672.jpg  cat.2398.jpg  cat.311.jpg   cat.383.jpg   cat.955.jpg\n",
            "cat.1673.jpg  cat.2399.jpg  cat.3120.jpg  cat.3840.jpg  cat.956.jpg\n",
            "cat.1674.jpg  cat.239.jpg   cat.3121.jpg  cat.3841.jpg  cat.957.jpg\n",
            "cat.1675.jpg  cat.23.jpg    cat.3122.jpg  cat.3842.jpg  cat.958.jpg\n",
            "cat.1676.jpg  cat.2400.jpg  cat.3123.jpg  cat.3843.jpg  cat.959.jpg\n",
            "cat.1677.jpg  cat.2401.jpg  cat.3124.jpg  cat.3844.jpg  cat.95.jpg\n",
            "cat.1678.jpg  cat.2402.jpg  cat.3125.jpg  cat.3845.jpg  cat.960.jpg\n",
            "cat.1679.jpg  cat.2403.jpg  cat.3126.jpg  cat.3846.jpg  cat.961.jpg\n",
            "cat.167.jpg   cat.2404.jpg  cat.3127.jpg  cat.3847.jpg  cat.963.jpg\n",
            "cat.1680.jpg  cat.2405.jpg  cat.3128.jpg  cat.3848.jpg  cat.964.jpg\n",
            "cat.1681.jpg  cat.2406.jpg  cat.3129.jpg  cat.3849.jpg  cat.965.jpg\n",
            "cat.1682.jpg  cat.2407.jpg  cat.312.jpg   cat.384.jpg   cat.966.jpg\n",
            "cat.1683.jpg  cat.2408.jpg  cat.3130.jpg  cat.3850.jpg  cat.967.jpg\n",
            "cat.1684.jpg  cat.2409.jpg  cat.3131.jpg  cat.3851.jpg  cat.968.jpg\n",
            "cat.1685.jpg  cat.240.jpg   cat.3132.jpg  cat.3852.jpg  cat.969.jpg\n",
            "cat.1686.jpg  cat.2410.jpg  cat.3133.jpg  cat.3853.jpg  cat.96.jpg\n",
            "cat.1687.jpg  cat.2411.jpg  cat.3134.jpg  cat.3854.jpg  cat.970.jpg\n",
            "cat.1688.jpg  cat.2412.jpg  cat.3135.jpg  cat.3855.jpg  cat.971.jpg\n",
            "cat.1689.jpg  cat.2413.jpg  cat.3136.jpg  cat.3856.jpg  cat.972.jpg\n",
            "cat.168.jpg   cat.2414.jpg  cat.3137.jpg  cat.3857.jpg  cat.973.jpg\n",
            "cat.1690.jpg  cat.2415.jpg  cat.3138.jpg  cat.3858.jpg  cat.974.jpg\n",
            "cat.1691.jpg  cat.2416.jpg  cat.3139.jpg  cat.3859.jpg  cat.975.jpg\n",
            "cat.1692.jpg  cat.2417.jpg  cat.313.jpg   cat.385.jpg   cat.976.jpg\n",
            "cat.1693.jpg  cat.2418.jpg  cat.3140.jpg  cat.3860.jpg  cat.977.jpg\n",
            "cat.1694.jpg  cat.2419.jpg  cat.3141.jpg  cat.3861.jpg  cat.978.jpg\n",
            "cat.1695.jpg  cat.241.jpg   cat.3142.jpg  cat.3862.jpg  cat.979.jpg\n",
            "cat.1696.jpg  cat.2420.jpg  cat.3143.jpg  cat.3863.jpg  cat.97.jpg\n",
            "cat.1697.jpg  cat.2421.jpg  cat.3144.jpg  cat.3864.jpg  cat.980.jpg\n",
            "cat.1698.jpg  cat.2422.jpg  cat.3145.jpg  cat.3865.jpg  cat.981.jpg\n",
            "cat.1699.jpg  cat.2423.jpg  cat.3146.jpg  cat.3866.jpg  cat.982.jpg\n",
            "cat.169.jpg   cat.2424.jpg  cat.3147.jpg  cat.3867.jpg  cat.983.jpg\n",
            "cat.16.jpg    cat.2425.jpg  cat.3148.jpg  cat.3868.jpg  cat.984.jpg\n",
            "cat.1700.jpg  cat.2426.jpg  cat.3149.jpg  cat.3869.jpg  cat.985.jpg\n",
            "cat.1701.jpg  cat.2427.jpg  cat.314.jpg   cat.386.jpg   cat.986.jpg\n",
            "cat.1702.jpg  cat.2428.jpg  cat.3150.jpg  cat.3870.jpg  cat.987.jpg\n",
            "cat.1703.jpg  cat.2429.jpg  cat.3151.jpg  cat.3871.jpg  cat.988.jpg\n",
            "cat.1704.jpg  cat.242.jpg   cat.3152.jpg  cat.3872.jpg  cat.989.jpg\n",
            "cat.1705.jpg  cat.2430.jpg  cat.3153.jpg  cat.3873.jpg  cat.98.jpg\n",
            "cat.1706.jpg  cat.2431.jpg  cat.3154.jpg  cat.3874.jpg  cat.990.jpg\n",
            "cat.1707.jpg  cat.2432.jpg  cat.3155.jpg  cat.3875.jpg  cat.991.jpg\n",
            "cat.1708.jpg  cat.2434.jpg  cat.3156.jpg  cat.3876.jpg  cat.992.jpg\n",
            "cat.1709.jpg  cat.2435.jpg  cat.3158.jpg  cat.3877.jpg  cat.993.jpg\n",
            "cat.170.jpg   cat.2436.jpg  cat.3159.jpg  cat.3878.jpg  cat.994.jpg\n",
            "cat.1710.jpg  cat.2437.jpg  cat.315.jpg   cat.3879.jpg  cat.995.jpg\n",
            "cat.1711.jpg  cat.2438.jpg  cat.3161.jpg  cat.387.jpg   cat.996.jpg\n",
            "cat.1712.jpg  cat.2439.jpg  cat.3162.jpg  cat.3880.jpg  cat.997.jpg\n",
            "cat.1713.jpg  cat.2440.jpg  cat.3163.jpg  cat.3881.jpg  cat.998.jpg\n",
            "cat.1714.jpg  cat.2441.jpg  cat.3164.jpg  cat.3882.jpg  cat.999.jpg\n",
            "cat.1715.jpg  cat.2442.jpg  cat.3165.jpg  cat.3883.jpg  cat.99.jpg\n",
            "cat.1716.jpg  cat.2443.jpg  cat.3167.jpg  cat.3884.jpg  cat.9.jpg\n",
            "cat.1717.jpg  cat.2444.jpg  cat.3168.jpg  cat.3885.jpg  Icon\n",
            "cat.1718.jpg  cat.2445.jpg  cat.3169.jpg  cat.3886.jpg\n",
            "cat.1719.jpg  cat.2446.jpg  cat.316.jpg   cat.3887.jpg\n"
          ],
          "name": "stdout"
        }
      ]
    },
    {
      "cell_type": "code",
      "metadata": {
        "id": "_yLmyl1ObZqA",
        "colab_type": "code",
        "outputId": "1cf2df85-f558-4a97-d541-5139bbc145af",
        "colab": {
          "base_uri": "https://localhost:8080/",
          "height": 35
        }
      },
      "source": [
        "cd /content\n"
      ],
      "execution_count": 0,
      "outputs": [
        {
          "output_type": "stream",
          "text": [
            "/content\n"
          ],
          "name": "stdout"
        }
      ]
    },
    {
      "cell_type": "code",
      "metadata": {
        "id": "ofSPRl11yS8j",
        "colab_type": "code",
        "outputId": "d00dfff3-8d21-40c9-930a-ce49ae5fd111",
        "colab": {
          "base_uri": "https://localhost:8080/",
          "height": 35
        }
      },
      "source": [
        "training_set = train_datagen.flow_from_directory('dataset/training_set',\n",
        "                                                 target_size = (64, 64),\n",
        "                                                 batch_size = 32,\n",
        "                                                 class_mode = 'binary')"
      ],
      "execution_count": 0,
      "outputs": [
        {
          "output_type": "stream",
          "text": [
            "Found 7863 images belonging to 2 classes.\n"
          ],
          "name": "stdout"
        }
      ]
    },
    {
      "cell_type": "code",
      "metadata": {
        "id": "_1QLO9dYyS8p",
        "colab_type": "code",
        "outputId": "1fe9af1c-607f-45ad-deb9-35bb7a2086b6",
        "colab": {
          "base_uri": "https://localhost:8080/",
          "height": 35
        }
      },
      "source": [
        "test_set = test_datagen.flow_from_directory('dataset/test_set',\n",
        "                                            target_size = (64, 64),\n",
        "                                            batch_size = 32,\n",
        "                                            class_mode = 'binary')"
      ],
      "execution_count": 0,
      "outputs": [
        {
          "output_type": "stream",
          "text": [
            "Found 1955 images belonging to 2 classes.\n"
          ],
          "name": "stdout"
        }
      ]
    },
    {
      "cell_type": "markdown",
      "metadata": {
        "id": "4wW8IjBwHaM3",
        "colab_type": "text"
      },
      "source": [
        "# 05 : Model Selection"
      ]
    },
    {
      "cell_type": "code",
      "metadata": {
        "id": "BZRXN6HDyS71",
        "colab_type": "code",
        "colab": {}
      },
      "source": [
        "classifier = Sequential()"
      ],
      "execution_count": 0,
      "outputs": []
    },
    {
      "cell_type": "code",
      "metadata": {
        "id": "ztT7pzxEyS75",
        "colab_type": "code",
        "outputId": "de29d400-0edb-4ae0-91b3-40410b33b69a",
        "colab": {
          "base_uri": "https://localhost:8080/",
          "height": 89
        }
      },
      "source": [
        "classifier.add(Conv2D(32, (3, 3), input_shape = (64, 64, 3), activation = 'relu'))"
      ],
      "execution_count": 0,
      "outputs": [
        {
          "output_type": "stream",
          "text": [
            "WARNING:tensorflow:From /usr/local/lib/python3.6/dist-packages/tensorflow/python/framework/op_def_library.py:263: colocate_with (from tensorflow.python.framework.ops) is deprecated and will be removed in a future version.\n",
            "Instructions for updating:\n",
            "Colocations handled automatically by placer.\n"
          ],
          "name": "stdout"
        }
      ]
    },
    {
      "cell_type": "code",
      "metadata": {
        "id": "23qBIcWmyS7-",
        "colab_type": "code",
        "colab": {}
      },
      "source": [
        "classifier.add(MaxPooling2D(pool_size = (2, 2)))"
      ],
      "execution_count": 0,
      "outputs": []
    },
    {
      "cell_type": "code",
      "metadata": {
        "id": "VviGWzsbCBRl",
        "colab_type": "code",
        "colab": {}
      },
      "source": [
        "classifier.add(Conv2D(64, (3, 3),  activation = 'relu'))\n",
        "classifier.add(MaxPooling2D(pool_size = (2, 2)))"
      ],
      "execution_count": 0,
      "outputs": []
    },
    {
      "cell_type": "code",
      "metadata": {
        "id": "ds6orzLPyS8D",
        "colab_type": "code",
        "colab": {}
      },
      "source": [
        "classifier.add(Flatten())"
      ],
      "execution_count": 0,
      "outputs": []
    },
    {
      "cell_type": "code",
      "metadata": {
        "id": "no3RMcgCyS8I",
        "colab_type": "code",
        "colab": {}
      },
      "source": [
        "classifier.add(Dense(units = 128, activation = 'relu'))\n",
        "classifier.add(Dense(units = 1, activation = 'sigmoid'))"
      ],
      "execution_count": 0,
      "outputs": []
    },
    {
      "cell_type": "code",
      "metadata": {
        "id": "hEg7-d3HqpSi",
        "colab_type": "code",
        "outputId": "5ac5bbef-c109-45b6-9791-ed672945bedb",
        "colab": {
          "base_uri": "https://localhost:8080/",
          "height": 381
        }
      },
      "source": [
        "classifier.summary()"
      ],
      "execution_count": 0,
      "outputs": [
        {
          "output_type": "stream",
          "text": [
            "_________________________________________________________________\n",
            "Layer (type)                 Output Shape              Param #   \n",
            "=================================================================\n",
            "conv2d_1 (Conv2D)            (None, 62, 62, 32)        896       \n",
            "_________________________________________________________________\n",
            "max_pooling2d_1 (MaxPooling2 (None, 31, 31, 32)        0         \n",
            "_________________________________________________________________\n",
            "conv2d_2 (Conv2D)            (None, 29, 29, 64)        18496     \n",
            "_________________________________________________________________\n",
            "max_pooling2d_2 (MaxPooling2 (None, 14, 14, 64)        0         \n",
            "_________________________________________________________________\n",
            "flatten_1 (Flatten)          (None, 12544)             0         \n",
            "_________________________________________________________________\n",
            "dense_1 (Dense)              (None, 128)               1605760   \n",
            "_________________________________________________________________\n",
            "dense_2 (Dense)              (None, 1)                 129       \n",
            "=================================================================\n",
            "Total params: 1,625,281\n",
            "Trainable params: 1,625,281\n",
            "Non-trainable params: 0\n",
            "_________________________________________________________________\n"
          ],
          "name": "stdout"
        }
      ]
    },
    {
      "cell_type": "code",
      "metadata": {
        "id": "4pX0AQogyS8N",
        "colab_type": "code",
        "colab": {}
      },
      "source": [
        "classifier.compile(optimizer = 'adam', loss = 'binary_crossentropy', metrics = ['accuracy'])"
      ],
      "execution_count": 0,
      "outputs": []
    },
    {
      "cell_type": "markdown",
      "metadata": {
        "id": "2t1SHQbsyS8U",
        "colab_type": "text"
      },
      "source": [
        "### Step 8: Image Data Generation"
      ]
    },
    {
      "cell_type": "markdown",
      "metadata": {
        "id": "fYKxaG20yS8t",
        "colab_type": "text"
      },
      "source": [
        "# Step 6: Fitting and Prediction"
      ]
    },
    {
      "cell_type": "code",
      "metadata": {
        "id": "TfHDn3vqyS8v",
        "colab_type": "code",
        "outputId": "e02d5952-62b3-43e7-c726-caec4c5a1bbf",
        "colab": {
          "base_uri": "https://localhost:8080/",
          "height": 661
        }
      },
      "source": [
        "classifier.fit_generator(training_set,\n",
        "                         steps_per_epoch = 70,\n",
        "                         epochs = 16,\n",
        "                         validation_data = test_set,\n",
        "                         validation_steps = 10)"
      ],
      "execution_count": 0,
      "outputs": [
        {
          "output_type": "stream",
          "text": [
            "WARNING:tensorflow:From /usr/local/lib/python3.6/dist-packages/tensorflow/python/ops/math_ops.py:3066: to_int32 (from tensorflow.python.ops.math_ops) is deprecated and will be removed in a future version.\n",
            "Instructions for updating:\n",
            "Use tf.cast instead.\n",
            "Epoch 1/16\n",
            "70/70 [==============================] - 10s 147ms/step - loss: 0.7051 - acc: 0.5281 - val_loss: 0.6739 - val_acc: 0.5750\n",
            "Epoch 2/16\n",
            "70/70 [==============================] - 9s 122ms/step - loss: 0.6590 - acc: 0.6121 - val_loss: 0.6693 - val_acc: 0.5687\n",
            "Epoch 3/16\n",
            "70/70 [==============================] - 9s 133ms/step - loss: 0.6550 - acc: 0.6237 - val_loss: 0.5929 - val_acc: 0.7125\n",
            "Epoch 4/16\n",
            "70/70 [==============================] - 9s 122ms/step - loss: 0.6023 - acc: 0.6730 - val_loss: 0.7122 - val_acc: 0.5781\n",
            "Epoch 5/16\n",
            "70/70 [==============================] - 9s 124ms/step - loss: 0.6085 - acc: 0.6759 - val_loss: 0.5206 - val_acc: 0.7594\n",
            "Epoch 6/16\n",
            "70/70 [==============================] - 9s 122ms/step - loss: 0.6005 - acc: 0.6719 - val_loss: 0.5444 - val_acc: 0.7219\n",
            "Epoch 7/16\n",
            "70/70 [==============================] - 9s 135ms/step - loss: 0.5828 - acc: 0.6848 - val_loss: 0.6139 - val_acc: 0.6942\n",
            "Epoch 8/16\n",
            "70/70 [==============================] - 9s 129ms/step - loss: 0.5659 - acc: 0.7015 - val_loss: 0.4896 - val_acc: 0.7656\n",
            "Epoch 9/16\n",
            "70/70 [==============================] - 9s 123ms/step - loss: 0.5614 - acc: 0.7054 - val_loss: 0.5488 - val_acc: 0.7375\n",
            "Epoch 10/16\n",
            "70/70 [==============================] - 9s 122ms/step - loss: 0.5386 - acc: 0.7232 - val_loss: 0.6261 - val_acc: 0.6656\n",
            "Epoch 11/16\n",
            "70/70 [==============================] - 8s 121ms/step - loss: 0.5493 - acc: 0.7165 - val_loss: 0.4781 - val_acc: 0.7469\n",
            "Epoch 12/16\n",
            "70/70 [==============================] - 9s 123ms/step - loss: 0.5031 - acc: 0.7491 - val_loss: 0.5770 - val_acc: 0.7156\n",
            "Epoch 13/16\n",
            "70/70 [==============================] - 9s 122ms/step - loss: 0.5387 - acc: 0.7192 - val_loss: 0.5434 - val_acc: 0.7251\n",
            "Epoch 14/16\n",
            "70/70 [==============================] - 9s 123ms/step - loss: 0.5219 - acc: 0.7438 - val_loss: 0.5166 - val_acc: 0.7562\n",
            "Epoch 15/16\n",
            "70/70 [==============================] - 9s 122ms/step - loss: 0.5240 - acc: 0.7467 - val_loss: 0.4983 - val_acc: 0.7500\n",
            "Epoch 16/16\n",
            "70/70 [==============================] - 9s 131ms/step - loss: 0.4911 - acc: 0.7661 - val_loss: 0.4572 - val_acc: 0.7844\n"
          ],
          "name": "stdout"
        },
        {
          "output_type": "execute_result",
          "data": {
            "text/plain": [
              "<keras.callbacks.History at 0x7f5d591a0ac8>"
            ]
          },
          "metadata": {
            "tags": []
          },
          "execution_count": 30
        }
      ]
    },
    {
      "cell_type": "code",
      "metadata": {
        "id": "HIH41s-N4CHd",
        "colab_type": "code",
        "outputId": "948bd2fc-4a01-45e5-b587-cb44306225e3",
        "colab": {
          "base_uri": "https://localhost:8080/",
          "height": 9412
        }
      },
      "source": [
        "classifier.get_weights()"
      ],
      "execution_count": 0,
      "outputs": [
        {
          "output_type": "execute_result",
          "data": {
            "text/plain": [
              "[array([[[[-0.12385939, -0.15632923,  0.00171546,  0.1661121 ,\n",
              "           -0.11504181, -0.06312104, -0.19587515, -0.13160509,\n",
              "           -0.09479723,  0.10671501, -0.11740527, -0.06004352,\n",
              "            0.11031169,  0.06128827, -0.0409868 , -0.0557101 ,\n",
              "           -0.13786909, -0.07957453,  0.02321116, -0.05280169,\n",
              "            0.07434928, -0.07016103,  0.10712965, -0.11712481,\n",
              "            0.01265148, -0.04141815,  0.06548999, -0.14460802,\n",
              "           -0.09572151, -0.16352335,  0.09506289,  0.1381307 ],\n",
              "          [ 0.01370575, -0.1371137 , -0.13936417,  0.07495156,\n",
              "            0.10273164, -0.00663514, -0.02403805, -0.08388095,\n",
              "            0.06992464,  0.01106243, -0.13623069,  0.136717  ,\n",
              "           -0.02906912, -0.11940408, -0.10405783, -0.09670325,\n",
              "            0.0724667 , -0.04906744, -0.1403032 ,  0.03550458,\n",
              "           -0.1168205 ,  0.11664711, -0.14819373, -0.00618966,\n",
              "           -0.16341273, -0.00094429,  0.01337145,  0.06521886,\n",
              "           -0.07462475, -0.10399567,  0.02892209, -0.11011361],\n",
              "          [-0.0904701 , -0.03501216,  0.07328667,  0.08329339,\n",
              "            0.00040656, -0.08790036,  0.02936383,  0.02557284,\n",
              "           -0.15219207, -0.01142018,  0.04310225,  0.06330609,\n",
              "           -0.12129571,  0.01694296,  0.09629016,  0.05759194,\n",
              "           -0.02233084,  0.01657782, -0.13394417,  0.07496328,\n",
              "            0.04444707, -0.04942109, -0.07323199,  0.01357706,\n",
              "            0.10401396, -0.01345645,  0.10268248, -0.04674438,\n",
              "           -0.05193138, -0.11581219,  0.04123838,  0.12219676]],\n",
              " \n",
              "         [[-0.00105676, -0.00222228,  0.12447469,  0.09050585,\n",
              "           -0.0700863 ,  0.04736817, -0.05031374,  0.07061225,\n",
              "           -0.00415353, -0.00119726, -0.05479935,  0.09475944,\n",
              "           -0.04260537,  0.07236802, -0.09884907, -0.03781639,\n",
              "           -0.19418705, -0.08715713, -0.07352106,  0.08271561,\n",
              "            0.05262622, -0.01455487, -0.07714149, -0.11576494,\n",
              "           -0.05392925,  0.1244693 ,  0.01382732,  0.07538463,\n",
              "            0.15797457,  0.09315409,  0.10780962,  0.14796555],\n",
              "          [-0.1776805 , -0.01510951, -0.06687625, -0.09549157,\n",
              "            0.0056251 ,  0.11724432,  0.0694062 , -0.06193623,\n",
              "           -0.03461445, -0.02461727, -0.0969861 , -0.03873246,\n",
              "            0.06419721,  0.05971752, -0.00355552,  0.04724184,\n",
              "            0.10939679,  0.11022597,  0.07914202, -0.05782289,\n",
              "            0.13800828,  0.07068949, -0.1049441 ,  0.01036598,\n",
              "           -0.1631264 ,  0.14112905,  0.04426609,  0.1463153 ,\n",
              "            0.1084693 ,  0.08593021,  0.08541662, -0.00578361],\n",
              "          [-0.10883559,  0.02785754, -0.079884  , -0.03578236,\n",
              "           -0.11231551,  0.11146181,  0.01553086, -0.04119252,\n",
              "            0.09508736,  0.1276753 , -0.12558717, -0.07743114,\n",
              "           -0.0036121 , -0.08611163,  0.03210364, -0.08510587,\n",
              "           -0.12922722,  0.07163503,  0.09823292,  0.0134989 ,\n",
              "           -0.00968276,  0.02968679,  0.09803209,  0.01584983,\n",
              "           -0.10543495, -0.00708585,  0.05564068, -0.01645645,\n",
              "           -0.03820967,  0.1113604 , -0.0116631 ,  0.12900414]],\n",
              " \n",
              "         [[ 0.01700149, -0.13791706, -0.03341751, -0.06786112,\n",
              "           -0.01256719,  0.06184008, -0.18503694, -0.00097682,\n",
              "           -0.09486791, -0.07528947, -0.00288949,  0.07582653,\n",
              "            0.02534664,  0.1326087 ,  0.03978819,  0.06341708,\n",
              "            0.10638423,  0.09272232, -0.01593965,  0.04104508,\n",
              "           -0.14267641, -0.12911358, -0.12845185, -0.14706402,\n",
              "           -0.10942882,  0.11637873, -0.07450525,  0.08055617,\n",
              "           -0.03803342,  0.10720534, -0.10549475,  0.02696298],\n",
              "          [ 0.05489071, -0.10072706, -0.06808998, -0.02226663,\n",
              "           -0.0151589 ,  0.10050004,  0.15674154, -0.02189678,\n",
              "           -0.12592164,  0.13106738,  0.02102529, -0.02772168,\n",
              "           -0.0348997 , -0.0415294 , -0.06160851, -0.14878935,\n",
              "            0.0462985 , -0.10056778, -0.09358709, -0.02999724,\n",
              "            0.12391692, -0.02653227,  0.03605636,  0.03391019,\n",
              "           -0.07305781,  0.10700149, -0.04918968, -0.04290535,\n",
              "            0.13394041, -0.08899009, -0.13436943, -0.05266884],\n",
              "          [ 0.00499583,  0.02674021, -0.09764516, -0.05153275,\n",
              "            0.0368733 ,  0.03132356, -0.06401397, -0.06410744,\n",
              "            0.02785957,  0.06262049, -0.12462521, -0.08146795,\n",
              "            0.00792773, -0.02413144,  0.04352586, -0.08409189,\n",
              "           -0.04921098, -0.14879072,  0.02143733,  0.015436  ,\n",
              "           -0.04371289, -0.09401264, -0.02772473, -0.00626606,\n",
              "            0.03752439,  0.16852002, -0.14962731,  0.09280194,\n",
              "            0.04521661,  0.10249195, -0.16081803, -0.04955105]]],\n",
              " \n",
              " \n",
              "        [[[ 0.00819948,  0.05423962, -0.12202495,  0.01634284,\n",
              "            0.11884935,  0.06186922, -0.16847941, -0.08388434,\n",
              "            0.08826291, -0.04850476, -0.13601449,  0.02834252,\n",
              "            0.05886618, -0.07550729,  0.02621634, -0.06483107,\n",
              "            0.0348234 , -0.0924959 , -0.05715912, -0.14967038,\n",
              "            0.07689851, -0.00849898,  0.10867783, -0.0410869 ,\n",
              "            0.11584496, -0.06514051, -0.00812783,  0.02817944,\n",
              "           -0.14301376,  0.0407147 , -0.12970161, -0.04176715],\n",
              "          [ 0.02423077, -0.09813313,  0.04152567,  0.02427269,\n",
              "            0.07298346,  0.12303165,  0.17513753,  0.07002471,\n",
              "           -0.08719211,  0.02092867, -0.14015451, -0.08094842,\n",
              "           -0.07899106,  0.00718845,  0.10348368, -0.00476628,\n",
              "           -0.09254048, -0.07677396,  0.1013978 , -0.08543839,\n",
              "            0.05976287,  0.07904753, -0.05828839, -0.01574513,\n",
              "           -0.12557568, -0.15575117, -0.01202507,  0.05626762,\n",
              "           -0.08973313,  0.05966622, -0.01480221, -0.02588953],\n",
              "          [ 0.00661753, -0.05460545, -0.09088899,  0.03339193,\n",
              "            0.11770969,  0.15419789,  0.01751784, -0.00364052,\n",
              "           -0.14509185, -0.11371467,  0.02356505, -0.11002649,\n",
              "           -0.11080818, -0.08071309,  0.028432  ,  0.0642562 ,\n",
              "            0.06387854,  0.06336251,  0.08582531,  0.15819089,\n",
              "           -0.00977393,  0.08487076, -0.10157198, -0.04848027,\n",
              "           -0.119693  , -0.11222297, -0.15386088,  0.10403606,\n",
              "           -0.12693956, -0.1556124 , -0.04411749,  0.14577846]],\n",
              " \n",
              "         [[-0.0433799 , -0.12771885, -0.02748576, -0.10425036,\n",
              "            0.04983291,  0.10870576, -0.13006091,  0.0206282 ,\n",
              "           -0.10641728, -0.14134713, -0.13945436, -0.09966783,\n",
              "            0.07838658, -0.02355333,  0.02096645,  0.1041081 ,\n",
              "            0.01325736, -0.0821973 ,  0.0213209 , -0.05610277,\n",
              "           -0.16117908,  0.06402174,  0.14211847, -0.11239165,\n",
              "           -0.02211943, -0.0832118 ,  0.0257683 , -0.09576201,\n",
              "            0.03355547, -0.13657796,  0.04552575, -0.00394659],\n",
              "          [-0.10631776,  0.00065652, -0.148634  ,  0.04719823,\n",
              "           -0.05671713,  0.16413638,  0.07241853,  0.02225146,\n",
              "            0.07165422,  0.10278618, -0.08370465, -0.02363768,\n",
              "           -0.0276612 , -0.11083533,  0.01724895,  0.01506671,\n",
              "            0.14608364,  0.00900187, -0.05178628, -0.13825898,\n",
              "            0.06226457,  0.13390157,  0.041426  ,  0.01936954,\n",
              "           -0.06841442, -0.09119578, -0.05932806,  0.09844154,\n",
              "           -0.01802477,  0.01528164,  0.13202772,  0.11883818],\n",
              "          [-0.07470315,  0.01214242, -0.01524073, -0.03545312,\n",
              "            0.12177074,  0.00912866,  0.02292269, -0.06195573,\n",
              "           -0.05417463, -0.07781498,  0.04194322, -0.0714867 ,\n",
              "           -0.07775353, -0.12492003,  0.0587372 ,  0.09620672,\n",
              "           -0.10742027,  0.1293511 , -0.13514738,  0.11419956,\n",
              "            0.06971366,  0.12807517,  0.05252757, -0.12166178,\n",
              "            0.12014461,  0.04914555, -0.02606786, -0.068298  ,\n",
              "           -0.00036746,  0.06856776,  0.01332796,  0.11302855]],\n",
              " \n",
              "         [[-0.10825711, -0.03742571, -0.10485519,  0.06304973,\n",
              "           -0.0239565 , -0.12757026, -0.14497358, -0.07861561,\n",
              "           -0.06156232, -0.02211924, -0.00248779,  0.12695678,\n",
              "           -0.06335981,  0.14958303, -0.01500855,  0.0516784 ,\n",
              "            0.05402381,  0.0506428 ,  0.09156964,  0.02965002,\n",
              "           -0.17279933,  0.00945854, -0.03161423,  0.05125887,\n",
              "            0.07159001, -0.05897354,  0.06010768, -0.02810669,\n",
              "            0.11668427, -0.08265098, -0.19459449, -0.03619436],\n",
              "          [-0.09167261, -0.12335228, -0.0778307 , -0.04404512,\n",
              "            0.04597836,  0.12984498,  0.10635462, -0.13163558,\n",
              "            0.06995445,  0.03945635, -0.09172626,  0.07843842,\n",
              "            0.04416931,  0.07742289,  0.00720221,  0.00555999,\n",
              "           -0.0680257 ,  0.07771371,  0.02697733, -0.11920517,\n",
              "           -0.11676261, -0.03464756,  0.04077283, -0.05955888,\n",
              "           -0.02405576, -0.07179052,  0.0909159 , -0.06478667,\n",
              "            0.0593862 , -0.07322073,  0.05184877, -0.16374847],\n",
              "          [-0.0720388 , -0.02228451, -0.01224746, -0.14087383,\n",
              "           -0.13606305, -0.11553279, -0.02315674,  0.07921764,\n",
              "           -0.14175667, -0.04382427, -0.02412685, -0.00470788,\n",
              "            0.07728963, -0.0841529 ,  0.1161282 , -0.06464749,\n",
              "            0.0473308 ,  0.00356468,  0.0045606 ,  0.12396372,\n",
              "           -0.02153115, -0.1663184 ,  0.0923243 , -0.05806118,\n",
              "            0.05370408,  0.15014677, -0.09629977,  0.09004715,\n",
              "           -0.09220382,  0.0918029 , -0.1310222 , -0.14241424]]],\n",
              " \n",
              " \n",
              "        [[[ 0.19618282, -0.09485795,  0.06778773, -0.04574567,\n",
              "            0.08173845, -0.12556425, -0.15144362,  0.1592335 ,\n",
              "            0.09406713, -0.10756445, -0.0003907 , -0.08503897,\n",
              "           -0.06827663, -0.08374765,  0.04936642, -0.03839866,\n",
              "           -0.02790532, -0.14222398,  0.06641457,  0.01551183,\n",
              "            0.05209617,  0.03197742,  0.04356797, -0.02577427,\n",
              "            0.01493615,  0.03238753, -0.02918347, -0.00740435,\n",
              "           -0.09981009,  0.04845533,  0.058704  , -0.02786285],\n",
              "          [ 0.0570982 ,  0.04709869, -0.07214603,  0.08330408,\n",
              "           -0.06838065,  0.07318567, -0.05859732,  0.13928683,\n",
              "           -0.15950301, -0.07524447,  0.09699064,  0.07087532,\n",
              "           -0.08349562, -0.01886475, -0.05423291, -0.119688  ,\n",
              "            0.17490923,  0.07830735,  0.10762653, -0.08640566,\n",
              "            0.12121293, -0.03104193, -0.00052461, -0.08363268,\n",
              "            0.08258861, -0.19299756, -0.046691  ,  0.09995846,\n",
              "           -0.04807421, -0.02296323,  0.09181351,  0.11936909],\n",
              "          [-0.02511561,  0.03980976, -0.10574745, -0.01123254,\n",
              "            0.1039176 , -0.06956821, -0.01094959,  0.13291371,\n",
              "           -0.13238958,  0.11927611, -0.07841127, -0.12085978,\n",
              "           -0.0239279 ,  0.00383448,  0.10568585,  0.10212087,\n",
              "            0.1385633 , -0.11302727, -0.01680437,  0.14197774,\n",
              "            0.10725979,  0.08157808,  0.09567232,  0.10038853,\n",
              "            0.01873595,  0.05749594,  0.01002954, -0.09658001,\n",
              "           -0.01993276,  0.02000804,  0.06802656, -0.05386995]],\n",
              " \n",
              "         [[ 0.12181231, -0.05310843, -0.08525103,  0.08150356,\n",
              "           -0.06478834, -0.09282382,  0.00455775, -0.09270688,\n",
              "           -0.08679406,  0.07671382,  0.06679268, -0.12628959,\n",
              "           -0.11414433, -0.04184481,  0.08593896,  0.04586644,\n",
              "           -0.06511752,  0.11860204, -0.13902025, -0.1583552 ,\n",
              "           -0.13718484,  0.04905845,  0.12190072, -0.04185481,\n",
              "            0.06168794,  0.09206364, -0.01067246,  0.04399749,\n",
              "            0.08254726,  0.0633224 , -0.08813912, -0.16519374],\n",
              "          [ 0.04367348,  0.07178652,  0.04836957,  0.04258963,\n",
              "            0.03537957, -0.05675944,  0.16874124, -0.10226233,\n",
              "           -0.12994595,  0.12403563, -0.13637812, -0.1527927 ,\n",
              "            0.11089922, -0.04284396, -0.02370053,  0.02522376,\n",
              "            0.05443271, -0.02028313, -0.1363437 , -0.09261821,\n",
              "            0.07094616,  0.01117459,  0.10837251, -0.08887365,\n",
              "            0.02163469, -0.12238097, -0.10068762, -0.07834391,\n",
              "            0.16013207,  0.09424935, -0.02095948, -0.13252953],\n",
              "          [ 0.10930324, -0.11193582,  0.03808689, -0.13624243,\n",
              "           -0.09864423, -0.12199052,  0.09308767, -0.02764246,\n",
              "           -0.10501999, -0.03449323, -0.08408021, -0.01241845,\n",
              "           -0.09506676,  0.11753438,  0.09724188,  0.01373587,\n",
              "            0.0617603 , -0.03081982, -0.13894911,  0.09961687,\n",
              "           -0.09756938, -0.11382394,  0.0004257 ,  0.00809709,\n",
              "            0.01337234, -0.0371104 ,  0.02487988, -0.09445152,\n",
              "            0.15105872, -0.06035713,  0.09216718,  0.09029798]],\n",
              " \n",
              "         [[ 0.17832103, -0.14578658,  0.09669996, -0.04280239,\n",
              "           -0.05514595, -0.05669323, -0.14012136, -0.09692437,\n",
              "           -0.10404701, -0.13123825,  0.03694363,  0.09098975,\n",
              "           -0.07454906,  0.15991102, -0.02513042, -0.05933623,\n",
              "           -0.15525119, -0.08949219,  0.10786504, -0.08412069,\n",
              "           -0.00773719, -0.13375932,  0.1062253 , -0.05839731,\n",
              "            0.1370046 , -0.08969849,  0.00409805, -0.0082766 ,\n",
              "           -0.08404704, -0.00971108,  0.01656264, -0.16102113],\n",
              "          [-0.0271207 , -0.12417018, -0.11054729, -0.04100263,\n",
              "           -0.0110724 , -0.11054616,  0.03536044,  0.00775763,\n",
              "            0.02336395,  0.1134266 , -0.12320928,  0.13269418,\n",
              "           -0.09686237,  0.09277397, -0.00836208, -0.12072461,\n",
              "           -0.04257904,  0.00137942,  0.14120783,  0.00583952,\n",
              "            0.14563493, -0.10947732,  0.04635787,  0.00603432,\n",
              "            0.09897295, -0.09241129,  0.10380681, -0.0932085 ,\n",
              "            0.05650301,  0.02522419,  0.06232206, -0.04845309],\n",
              "          [ 0.08340012, -0.00709022, -0.02547756, -0.04250077,\n",
              "            0.08312567, -0.13211703, -0.10392306,  0.00374097,\n",
              "           -0.13814868,  0.05064203, -0.04683807,  0.16115057,\n",
              "           -0.00249699,  0.02476365,  0.02626262, -0.02296889,\n",
              "           -0.08127291, -0.02393127,  0.16869022,  0.153329  ,\n",
              "           -0.1436661 , -0.01292319,  0.10333451,  0.03484733,\n",
              "           -0.06955748,  0.00066641, -0.06563881, -0.08436987,\n",
              "           -0.0256011 , -0.13930328,  0.01009053, -0.02720591]]]],\n",
              "       dtype=float32),\n",
              " array([ 0.02299886, -0.01168144, -0.00178557, -0.00986305, -0.06470583,\n",
              "        -0.03938837,  0.0078024 ,  0.01147813,  0.07903262, -0.04851783,\n",
              "        -0.01483689,  0.04316419,  0.02068226, -0.04035614, -0.08835219,\n",
              "        -0.0251801 , -0.00197261, -0.02344176, -0.03678944,  0.02107926,\n",
              "        -0.02804265, -0.00875949, -0.0683532 , -0.02145958,  0.02954782,\n",
              "         0.05578975, -0.00861828, -0.0369446 ,  0.00684252, -0.06174305,\n",
              "        -0.00093022,  0.00935034], dtype=float32),\n",
              " array([[[[ 0.01521163, -0.06211424, -0.03951997, ..., -0.02717039,\n",
              "           -0.06221935, -0.00254855],\n",
              "          [-0.0586402 , -0.07368155, -0.03291884, ...,  0.06336221,\n",
              "            0.0574005 ,  0.02024071],\n",
              "          [-0.07543957, -0.02587141, -0.01142655, ...,  0.03996294,\n",
              "           -0.07761112,  0.03445355],\n",
              "          ...,\n",
              "          [-0.04250145,  0.03849601, -0.07487682, ..., -0.07973557,\n",
              "           -0.07441092, -0.05705833],\n",
              "          [ 0.01288547,  0.05370644,  0.07874777, ..., -0.07576558,\n",
              "           -0.06573273, -0.0112347 ],\n",
              "          [-0.03667969,  0.05705125, -0.02995878, ...,  0.10847475,\n",
              "            0.03285529,  0.03488749]],\n",
              " \n",
              "         [[-0.05701785, -0.02396438,  0.02104819, ...,  0.07152526,\n",
              "           -0.04626437,  0.0008516 ],\n",
              "          [-0.02179641,  0.00119671,  0.05738576, ...,  0.031378  ,\n",
              "           -0.0859124 , -0.02207393],\n",
              "          [-0.0434968 ,  0.01508635, -0.06561716, ..., -0.00210209,\n",
              "            0.059113  , -0.0758779 ],\n",
              "          ...,\n",
              "          [-0.02136571, -0.02380302, -0.06184171, ..., -0.05237664,\n",
              "           -0.05688925, -0.0579164 ],\n",
              "          [-0.05222069,  0.0176355 , -0.04689747, ...,  0.04001473,\n",
              "            0.06332015,  0.02258346],\n",
              "          [-0.03671973, -0.04089251, -0.10801858, ...,  0.04646635,\n",
              "            0.06922865, -0.09740882]],\n",
              " \n",
              "         [[-0.00453932, -0.02744918, -0.06293688, ...,  0.12833336,\n",
              "            0.04714037,  0.00258756],\n",
              "          [ 0.01152699, -0.05313534, -0.01306002, ..., -0.01346306,\n",
              "           -0.06602102,  0.01751888],\n",
              "          [-0.06761072, -0.00743158,  0.06014514, ..., -0.0879497 ,\n",
              "            0.06901375, -0.07691191],\n",
              "          ...,\n",
              "          [ 0.03686327, -0.00471465,  0.06910171, ..., -0.00748441,\n",
              "            0.00316143,  0.02266466],\n",
              "          [-0.01132612,  0.04517409, -0.00843672, ...,  0.00357861,\n",
              "            0.00777271,  0.00799216],\n",
              "          [ 0.05855215,  0.02488832,  0.09658407, ..., -0.0203769 ,\n",
              "            0.13340221, -0.07497445]]],\n",
              " \n",
              " \n",
              "        [[[ 0.02849152, -0.05618691, -0.00690587, ...,  0.02633209,\n",
              "            0.0475587 , -0.11032882],\n",
              "          [-0.03589318, -0.04463887,  0.04723337, ...,  0.03510088,\n",
              "           -0.04564612,  0.07088777],\n",
              "          [ 0.03061329,  0.04844513,  0.05514915, ..., -0.01550565,\n",
              "           -0.09673955,  0.06868606],\n",
              "          ...,\n",
              "          [-0.0730274 , -0.07883085,  0.06303769, ..., -0.08927616,\n",
              "           -0.07603495, -0.0047893 ],\n",
              "          [-0.0037325 ,  0.03495375, -0.05429493, ..., -0.02442979,\n",
              "           -0.10541497,  0.01234228],\n",
              "          [ 0.07442275, -0.07981514,  0.08109125, ...,  0.06024832,\n",
              "           -0.02938974,  0.01115559]],\n",
              " \n",
              "         [[-0.00090754, -0.06809714, -0.11675284, ...,  0.06057744,\n",
              "           -0.00187601, -0.08095741],\n",
              "          [-0.03590642, -0.02373403, -0.08497486, ..., -0.00299096,\n",
              "            0.04886924, -0.02073417],\n",
              "          [ 0.06673153, -0.00123943,  0.03461729, ...,  0.01492151,\n",
              "            0.02688486,  0.07799357],\n",
              "          ...,\n",
              "          [ 0.0413546 , -0.05571136, -0.07062969, ..., -0.00267338,\n",
              "            0.0600136 ,  0.05051693],\n",
              "          [-0.06468537, -0.01644381, -0.03155635, ..., -0.08807529,\n",
              "           -0.01653944,  0.02456834],\n",
              "          [ 0.11836538, -0.00132062,  0.01112944, ..., -0.0232414 ,\n",
              "           -0.00319094, -0.01219655]],\n",
              " \n",
              "         [[-0.1366001 ,  0.00672283, -0.09055759, ...,  0.04173894,\n",
              "           -0.06053869,  0.05293942],\n",
              "          [-0.00520532, -0.06190105, -0.0166058 , ..., -0.05043259,\n",
              "           -0.05255144,  0.04213817],\n",
              "          [-0.01407618,  0.07402715,  0.02497767, ...,  0.00922752,\n",
              "            0.08119607, -0.0500043 ],\n",
              "          ...,\n",
              "          [ 0.03119609, -0.00726087, -0.03174659, ...,  0.02159898,\n",
              "           -0.01554767,  0.03305364],\n",
              "          [ 0.00443039, -0.08260101, -0.03878091, ..., -0.02974985,\n",
              "            0.04319834,  0.00384936],\n",
              "          [ 0.08334589, -0.03883769, -0.01671617, ...,  0.01527912,\n",
              "           -0.04195441, -0.02705296]]],\n",
              " \n",
              " \n",
              "        [[[ 0.02058925, -0.09719953, -0.00322872, ...,  0.11570322,\n",
              "           -0.05864858, -0.00341298],\n",
              "          [-0.00463197, -0.01602508, -0.05758799, ..., -0.03563624,\n",
              "            0.07638839, -0.03344315],\n",
              "          [ 0.00769377, -0.05240786,  0.04196178, ..., -0.02284922,\n",
              "           -0.06466506,  0.00104119],\n",
              "          ...,\n",
              "          [-0.00065286, -0.08770961,  0.03062752, ...,  0.05507399,\n",
              "            0.05179632,  0.0679481 ],\n",
              "          [-0.03067247,  0.01290181, -0.05402283, ..., -0.0563602 ,\n",
              "           -0.07690091, -0.05888572],\n",
              "          [ 0.06810553,  0.07057476, -0.04970858, ..., -0.04148229,\n",
              "           -0.0536194 ,  0.03750224]],\n",
              " \n",
              "         [[ 0.05488937,  0.0391404 , -0.00039227, ..., -0.0976022 ,\n",
              "            0.06965432,  0.02612928],\n",
              "          [ 0.04611323, -0.07954277, -0.09770695, ...,  0.08086076,\n",
              "            0.00487613, -0.0893192 ],\n",
              "          [ 0.00076922,  0.04732842,  0.01606772, ...,  0.08776163,\n",
              "           -0.04176902,  0.04058724],\n",
              "          ...,\n",
              "          [-0.08927886, -0.05196864,  0.05995576, ...,  0.11342645,\n",
              "           -0.0730769 , -0.02893568],\n",
              "          [ 0.05402951, -0.02767841,  0.07741471, ..., -0.14642459,\n",
              "           -0.03522793, -0.11665355],\n",
              "          [ 0.00995056, -0.05212251, -0.01223732, ...,  0.06368323,\n",
              "           -0.08354347, -0.05056816]],\n",
              " \n",
              "         [[-0.0398932 ,  0.00052069, -0.10347297, ..., -0.1182875 ,\n",
              "           -0.07994144,  0.01296302],\n",
              "          [ 0.07912488,  0.01436248, -0.00222788, ...,  0.05057768,\n",
              "            0.08095609,  0.04742185],\n",
              "          [ 0.08188273,  0.02527942, -0.04077324, ..., -0.07132243,\n",
              "           -0.08073594,  0.04471405],\n",
              "          ...,\n",
              "          [-0.07310157, -0.0329947 , -0.05619024, ...,  0.08074819,\n",
              "            0.03499714,  0.06949025],\n",
              "          [-0.09640312, -0.04351282, -0.07584168, ...,  0.01372298,\n",
              "           -0.06571107, -0.06274407],\n",
              "          [-0.04454445, -0.08531184,  0.02135094, ...,  0.0019383 ,\n",
              "           -0.01171631, -0.04928726]]]], dtype=float32),\n",
              " array([-0.04271978, -0.01271323, -0.01944434, -0.02814429,  0.02918609,\n",
              "        -0.00091225, -0.02490742,  0.0112008 , -0.02252446, -0.03505141,\n",
              "        -0.01640668, -0.01855477,  0.00920187,  0.00524361, -0.02812557,\n",
              "         0.05018796, -0.00929388, -0.02697501, -0.02863384,  0.02409365,\n",
              "        -0.02774245, -0.01439558, -0.01006472, -0.00237144, -0.04098422,\n",
              "        -0.03377037, -0.02270125, -0.02992677, -0.01349435,  0.04894077,\n",
              "        -0.03198878,  0.00677742, -0.00786625, -0.01198149,  0.0007785 ,\n",
              "        -0.01925563,  0.01874668,  0.05915784, -0.02848196,  0.00421252,\n",
              "        -0.01394042, -0.02445146, -0.00607236, -0.00767177, -0.01473874,\n",
              "        -0.02244474, -0.01326907,  0.03276905, -0.02138839, -0.01572134,\n",
              "        -0.02379   , -0.02703789,  0.01351694, -0.01003323, -0.00633088,\n",
              "        -0.03177044,  0.05907077, -0.00457798, -0.00898539,  0.04945607,\n",
              "        -0.00973422, -0.02947504, -0.01945708, -0.01716524], dtype=float32),\n",
              " array([[-0.00972323, -0.00065261,  0.00582749, ..., -0.01049702,\n",
              "         -0.01230402,  0.01096122],\n",
              "        [ 0.02307356, -0.01342819, -0.00698955, ..., -0.02028208,\n",
              "         -0.00653151,  0.01172278],\n",
              "        [ 0.01091067, -0.0097752 , -0.00142675, ...,  0.0028353 ,\n",
              "         -0.00579426, -0.0126379 ],\n",
              "        ...,\n",
              "        [ 0.04467476, -0.01965501,  0.01240159, ...,  0.00380909,\n",
              "         -0.00129115, -0.0231795 ],\n",
              "        [-0.0045354 , -0.02023585, -0.00050823, ..., -0.00968154,\n",
              "         -0.00192231,  0.00331825],\n",
              "        [-0.01260324, -0.01056094, -0.01950544, ...,  0.00533485,\n",
              "         -0.05343248, -0.01075077]], dtype=float32),\n",
              " array([ 0.07034214, -0.00600264, -0.00478673, -0.03891842, -0.00964668,\n",
              "        -0.01309903, -0.02067938, -0.00764892, -0.00522468, -0.00285794,\n",
              "        -0.00450359, -0.01563848, -0.0060042 , -0.0059938 , -0.0047979 ,\n",
              "        -0.00555357, -0.01219951, -0.00600378, -0.00477253, -0.04142203,\n",
              "        -0.03687993, -0.00600478, -0.02323871, -0.00805817, -0.01237041,\n",
              "        -0.00599278, -0.00534175,  0.01555106, -0.00810495, -0.00662938,\n",
              "        -0.00600466, -0.00878046, -0.00706292, -0.00600417,  0.08650975,\n",
              "        -0.03895514, -0.02478377, -0.01516616, -0.01363932,  0.09440681,\n",
              "        -0.00626029, -0.00598116,  0.08730196, -0.00600385, -0.00534238,\n",
              "        -0.0060044 , -0.02432921, -0.00555487, -0.0101905 ,  0.07881179,\n",
              "        -0.01485355, -0.00510816, -0.00061134,  0.1115448 , -0.02149922,\n",
              "        -0.00569424, -0.00415969, -0.00600399, -0.00802866, -0.00600281,\n",
              "         0.08271083, -0.01330642, -0.00931983, -0.0025901 ,  0.10064141,\n",
              "        -0.01104283, -0.00598722, -0.00599539, -0.02391903, -0.02726675,\n",
              "        -0.00564173, -0.00394632, -0.0041046 , -0.00600208, -0.00522438,\n",
              "        -0.00600205, -0.02359933, -0.01734573, -0.04043217, -0.01550055,\n",
              "        -0.00600352, -0.00433224, -0.00522202,  0.09170655, -0.00657232,\n",
              "        -0.00600398, -0.00450538, -0.01171624, -0.0038855 , -0.00423672,\n",
              "        -0.00600418, -0.0059992 , -0.00809847, -0.00567999, -0.00600354,\n",
              "        -0.00930815, -0.00600415, -0.00600452, -0.01099624, -0.00440081,\n",
              "        -0.00339272, -0.00596054, -0.00600305, -0.00389754, -0.00595769,\n",
              "        -0.02047323, -0.0301578 , -0.01881691, -0.00600446, -0.00599791,\n",
              "        -0.01130193, -0.00664057, -0.03532985, -0.00600429, -0.0059821 ,\n",
              "        -0.02279996, -0.00600468,  0.06820527,  0.06933574, -0.0080921 ,\n",
              "        -0.00600429, -0.003524  , -0.0052205 , -0.00600233,  0.07496759,\n",
              "        -0.0059982 , -0.02303809, -0.01502995], dtype=float32),\n",
              " array([[-2.26138532e-01],\n",
              "        [-4.79501635e-02],\n",
              "        [ 3.66922095e-02],\n",
              "        [ 8.94214809e-02],\n",
              "        [-1.56515777e-01],\n",
              "        [ 1.35911718e-01],\n",
              "        [ 1.36254221e-01],\n",
              "        [-5.61163090e-02],\n",
              "        [ 1.51064664e-01],\n",
              "        [-3.79130803e-02],\n",
              "        [ 1.05712689e-01],\n",
              "        [ 8.98397490e-02],\n",
              "        [-9.55921113e-02],\n",
              "        [-2.14217883e-02],\n",
              "        [ 2.00942084e-01],\n",
              "        [ 1.06759079e-01],\n",
              "        [-8.52797180e-02],\n",
              "        [-8.25186968e-02],\n",
              "        [-3.80674340e-02],\n",
              "        [ 1.99842259e-01],\n",
              "        [ 1.12228550e-01],\n",
              "        [-1.95107296e-01],\n",
              "        [ 1.96208477e-01],\n",
              "        [ 1.60308316e-01],\n",
              "        [ 4.11945069e-03],\n",
              "        [-6.27295021e-03],\n",
              "        [-1.20154589e-01],\n",
              "        [-1.60827264e-02],\n",
              "        [ 4.24962398e-03],\n",
              "        [ 1.00495789e-04],\n",
              "        [-1.70197830e-01],\n",
              "        [-2.08355799e-01],\n",
              "        [-1.59664705e-01],\n",
              "        [-1.44370452e-01],\n",
              "        [-2.12104231e-01],\n",
              "        [ 1.41594291e-01],\n",
              "        [ 1.78013355e-01],\n",
              "        [ 8.27417076e-02],\n",
              "        [ 5.75841032e-03],\n",
              "        [-1.83286726e-01],\n",
              "        [ 9.69796702e-02],\n",
              "        [-4.10470093e-04],\n",
              "        [-1.11605108e-01],\n",
              "        [-8.60713199e-02],\n",
              "        [ 1.93306118e-01],\n",
              "        [-1.50084198e-01],\n",
              "        [ 2.12543279e-01],\n",
              "        [ 1.53656125e-01],\n",
              "        [ 1.79431394e-01],\n",
              "        [-1.43867314e-01],\n",
              "        [ 6.56439140e-02],\n",
              "        [-3.54680084e-02],\n",
              "        [ 1.55573681e-01],\n",
              "        [-2.75556356e-01],\n",
              "        [ 4.23738398e-02],\n",
              "        [-3.36345984e-03],\n",
              "        [-1.88206155e-02],\n",
              "        [-9.43128169e-02],\n",
              "        [ 7.35010207e-02],\n",
              "        [-4.46955003e-02],\n",
              "        [-1.82491422e-01],\n",
              "        [ 1.80532649e-01],\n",
              "        [ 1.87576085e-01],\n",
              "        [-1.80490956e-01],\n",
              "        [-1.07963860e-01],\n",
              "        [ 1.99356407e-01],\n",
              "        [-1.04879979e-02],\n",
              "        [-5.51340394e-02],\n",
              "        [ 9.77043584e-02],\n",
              "        [ 1.62522525e-01],\n",
              "        [-1.73664182e-01],\n",
              "        [ 1.37627602e-01],\n",
              "        [-4.71418388e-02],\n",
              "        [-3.92258614e-02],\n",
              "        [-1.98024020e-01],\n",
              "        [-1.18656918e-01],\n",
              "        [ 8.50493163e-02],\n",
              "        [ 7.69664720e-02],\n",
              "        [ 2.32291430e-01],\n",
              "        [ 1.29711136e-01],\n",
              "        [-9.72215235e-02],\n",
              "        [-7.94859529e-02],\n",
              "        [ 1.70288697e-01],\n",
              "        [-2.24980354e-01],\n",
              "        [ 1.48536190e-01],\n",
              "        [-9.40920189e-02],\n",
              "        [ 1.34288222e-01],\n",
              "        [-1.82705984e-01],\n",
              "        [ 1.40648207e-03],\n",
              "        [ 1.10187672e-01],\n",
              "        [-1.08342551e-01],\n",
              "        [-6.04039505e-02],\n",
              "        [-6.32789731e-02],\n",
              "        [-1.44268900e-01],\n",
              "        [-1.19153097e-01],\n",
              "        [ 9.88312140e-02],\n",
              "        [-1.41183123e-01],\n",
              "        [-1.46160662e-01],\n",
              "        [ 4.67078909e-02],\n",
              "        [ 9.57652777e-02],\n",
              "        [ 2.99362029e-04],\n",
              "        [ 2.54002446e-03],\n",
              "        [-1.55727237e-01],\n",
              "        [ 1.38658196e-01],\n",
              "        [ 8.02674294e-02],\n",
              "        [ 1.09598925e-02],\n",
              "        [ 9.26983654e-02],\n",
              "        [ 5.88626340e-02],\n",
              "        [-1.38363808e-01],\n",
              "        [ 1.55814171e-01],\n",
              "        [ 1.77616253e-01],\n",
              "        [-7.95235857e-03],\n",
              "        [ 1.20518066e-01],\n",
              "        [-1.92876860e-01],\n",
              "        [-4.72411793e-03],\n",
              "        [ 1.58420891e-01],\n",
              "        [-2.01130554e-01],\n",
              "        [-1.82025328e-01],\n",
              "        [-1.40023053e-01],\n",
              "        [-9.28103030e-02],\n",
              "        [-1.56282037e-01],\n",
              "        [ 1.02302335e-01],\n",
              "        [ 1.43730476e-01],\n",
              "        [-1.24677315e-01],\n",
              "        [-1.56588182e-01],\n",
              "        [-7.68301338e-02],\n",
              "        [ 2.03568950e-01],\n",
              "        [ 2.09630281e-01]], dtype=float32),\n",
              " array([-0.05688937], dtype=float32)]"
            ]
          },
          "metadata": {
            "tags": []
          },
          "execution_count": 31
        }
      ]
    },
    {
      "cell_type": "code",
      "metadata": {
        "id": "ETnqlhPVyr4p",
        "colab_type": "code",
        "outputId": "04626218-ae75-4956-b14c-6e195bf8bf1c",
        "colab": {
          "resources": {
            "http://localhost:8080/nbextensions/google.colab/files.js": {
              "data": "Ly8gQ29weXJpZ2h0IDIwMTcgR29vZ2xlIExMQwovLwovLyBMaWNlbnNlZCB1bmRlciB0aGUgQXBhY2hlIExpY2Vuc2UsIFZlcnNpb24gMi4wICh0aGUgIkxpY2Vuc2UiKTsKLy8geW91IG1heSBub3QgdXNlIHRoaXMgZmlsZSBleGNlcHQgaW4gY29tcGxpYW5jZSB3aXRoIHRoZSBMaWNlbnNlLgovLyBZb3UgbWF5IG9idGFpbiBhIGNvcHkgb2YgdGhlIExpY2Vuc2UgYXQKLy8KLy8gICAgICBodHRwOi8vd3d3LmFwYWNoZS5vcmcvbGljZW5zZXMvTElDRU5TRS0yLjAKLy8KLy8gVW5sZXNzIHJlcXVpcmVkIGJ5IGFwcGxpY2FibGUgbGF3IG9yIGFncmVlZCB0byBpbiB3cml0aW5nLCBzb2Z0d2FyZQovLyBkaXN0cmlidXRlZCB1bmRlciB0aGUgTGljZW5zZSBpcyBkaXN0cmlidXRlZCBvbiBhbiAiQVMgSVMiIEJBU0lTLAovLyBXSVRIT1VUIFdBUlJBTlRJRVMgT1IgQ09ORElUSU9OUyBPRiBBTlkgS0lORCwgZWl0aGVyIGV4cHJlc3Mgb3IgaW1wbGllZC4KLy8gU2VlIHRoZSBMaWNlbnNlIGZvciB0aGUgc3BlY2lmaWMgbGFuZ3VhZ2UgZ292ZXJuaW5nIHBlcm1pc3Npb25zIGFuZAovLyBsaW1pdGF0aW9ucyB1bmRlciB0aGUgTGljZW5zZS4KCi8qKgogKiBAZmlsZW92ZXJ2aWV3IEhlbHBlcnMgZm9yIGdvb2dsZS5jb2xhYiBQeXRob24gbW9kdWxlLgogKi8KKGZ1bmN0aW9uKHNjb3BlKSB7CmZ1bmN0aW9uIHNwYW4odGV4dCwgc3R5bGVBdHRyaWJ1dGVzID0ge30pIHsKICBjb25zdCBlbGVtZW50ID0gZG9jdW1lbnQuY3JlYXRlRWxlbWVudCgnc3BhbicpOwogIGVsZW1lbnQudGV4dENvbnRlbnQgPSB0ZXh0OwogIGZvciAoY29uc3Qga2V5IG9mIE9iamVjdC5rZXlzKHN0eWxlQXR0cmlidXRlcykpIHsKICAgIGVsZW1lbnQuc3R5bGVba2V5XSA9IHN0eWxlQXR0cmlidXRlc1trZXldOwogIH0KICByZXR1cm4gZWxlbWVudDsKfQoKLy8gTWF4IG51bWJlciBvZiBieXRlcyB3aGljaCB3aWxsIGJlIHVwbG9hZGVkIGF0IGEgdGltZS4KY29uc3QgTUFYX1BBWUxPQURfU0laRSA9IDEwMCAqIDEwMjQ7Ci8vIE1heCBhbW91bnQgb2YgdGltZSB0byBibG9jayB3YWl0aW5nIGZvciB0aGUgdXNlci4KY29uc3QgRklMRV9DSEFOR0VfVElNRU9VVF9NUyA9IDMwICogMTAwMDsKCmZ1bmN0aW9uIF91cGxvYWRGaWxlcyhpbnB1dElkLCBvdXRwdXRJZCkgewogIGNvbnN0IHN0ZXBzID0gdXBsb2FkRmlsZXNTdGVwKGlucHV0SWQsIG91dHB1dElkKTsKICBjb25zdCBvdXRwdXRFbGVtZW50ID0gZG9jdW1lbnQuZ2V0RWxlbWVudEJ5SWQob3V0cHV0SWQpOwogIC8vIENhY2hlIHN0ZXBzIG9uIHRoZSBvdXRwdXRFbGVtZW50IHRvIG1ha2UgaXQgYXZhaWxhYmxlIGZvciB0aGUgbmV4dCBjYWxsCiAgLy8gdG8gdXBsb2FkRmlsZXNDb250aW51ZSBmcm9tIFB5dGhvbi4KICBvdXRwdXRFbGVtZW50LnN0ZXBzID0gc3RlcHM7CgogIHJldHVybiBfdXBsb2FkRmlsZXNDb250aW51ZShvdXRwdXRJZCk7Cn0KCi8vIFRoaXMgaXMgcm91Z2hseSBhbiBhc3luYyBnZW5lcmF0b3IgKG5vdCBzdXBwb3J0ZWQgaW4gdGhlIGJyb3dzZXIgeWV0KSwKLy8gd2hlcmUgdGhlcmUgYXJlIG11bHRpcGxlIGFzeW5jaHJvbm91cyBzdGVwcyBhbmQgdGhlIFB5dGhvbiBzaWRlIGlzIGdvaW5nCi8vIHRvIHBvbGwgZm9yIGNvbXBsZXRpb24gb2YgZWFjaCBzdGVwLgovLyBUaGlzIHVzZXMgYSBQcm9taXNlIHRvIGJsb2NrIHRoZSBweXRob24gc2lkZSBvbiBjb21wbGV0aW9uIG9mIGVhY2ggc3RlcCwKLy8gdGhlbiBwYXNzZXMgdGhlIHJlc3VsdCBvZiB0aGUgcHJldmlvdXMgc3RlcCBhcyB0aGUgaW5wdXQgdG8gdGhlIG5leHQgc3RlcC4KZnVuY3Rpb24gX3VwbG9hZEZpbGVzQ29udGludWUob3V0cHV0SWQpIHsKICBjb25zdCBvdXRwdXRFbGVtZW50ID0gZG9jdW1lbnQuZ2V0RWxlbWVudEJ5SWQob3V0cHV0SWQpOwogIGNvbnN0IHN0ZXBzID0gb3V0cHV0RWxlbWVudC5zdGVwczsKCiAgY29uc3QgbmV4dCA9IHN0ZXBzLm5leHQob3V0cHV0RWxlbWVudC5sYXN0UHJvbWlzZVZhbHVlKTsKICByZXR1cm4gUHJvbWlzZS5yZXNvbHZlKG5leHQudmFsdWUucHJvbWlzZSkudGhlbigodmFsdWUpID0+IHsKICAgIC8vIENhY2hlIHRoZSBsYXN0IHByb21pc2UgdmFsdWUgdG8gbWFrZSBpdCBhdmFpbGFibGUgdG8gdGhlIG5leHQKICAgIC8vIHN0ZXAgb2YgdGhlIGdlbmVyYXRvci4KICAgIG91dHB1dEVsZW1lbnQubGFzdFByb21pc2VWYWx1ZSA9IHZhbHVlOwogICAgcmV0dXJuIG5leHQudmFsdWUucmVzcG9uc2U7CiAgfSk7Cn0KCi8qKgogKiBHZW5lcmF0b3IgZnVuY3Rpb24gd2hpY2ggaXMgY2FsbGVkIGJldHdlZW4gZWFjaCBhc3luYyBzdGVwIG9mIHRoZSB1cGxvYWQKICogcHJvY2Vzcy4KICogQHBhcmFtIHtzdHJpbmd9IGlucHV0SWQgRWxlbWVudCBJRCBvZiB0aGUgaW5wdXQgZmlsZSBwaWNrZXIgZWxlbWVudC4KICogQHBhcmFtIHtzdHJpbmd9IG91dHB1dElkIEVsZW1lbnQgSUQgb2YgdGhlIG91dHB1dCBkaXNwbGF5LgogKiBAcmV0dXJuIHshSXRlcmFibGU8IU9iamVjdD59IEl0ZXJhYmxlIG9mIG5leHQgc3RlcHMuCiAqLwpmdW5jdGlvbiogdXBsb2FkRmlsZXNTdGVwKGlucHV0SWQsIG91dHB1dElkKSB7CiAgY29uc3QgaW5wdXRFbGVtZW50ID0gZG9jdW1lbnQuZ2V0RWxlbWVudEJ5SWQoaW5wdXRJZCk7CiAgaW5wdXRFbGVtZW50LmRpc2FibGVkID0gZmFsc2U7CgogIGNvbnN0IG91dHB1dEVsZW1lbnQgPSBkb2N1bWVudC5nZXRFbGVtZW50QnlJZChvdXRwdXRJZCk7CiAgb3V0cHV0RWxlbWVudC5pbm5lckhUTUwgPSAnJzsKCiAgY29uc3QgcGlja2VkUHJvbWlzZSA9IG5ldyBQcm9taXNlKChyZXNvbHZlKSA9PiB7CiAgICBpbnB1dEVsZW1lbnQuYWRkRXZlbnRMaXN0ZW5lcignY2hhbmdlJywgKGUpID0+IHsKICAgICAgcmVzb2x2ZShlLnRhcmdldC5maWxlcyk7CiAgICB9KTsKICB9KTsKCiAgY29uc3QgY2FuY2VsID0gZG9jdW1lbnQuY3JlYXRlRWxlbWVudCgnYnV0dG9uJyk7CiAgaW5wdXRFbGVtZW50LnBhcmVudEVsZW1lbnQuYXBwZW5kQ2hpbGQoY2FuY2VsKTsKICBjYW5jZWwudGV4dENvbnRlbnQgPSAnQ2FuY2VsIHVwbG9hZCc7CiAgY29uc3QgY2FuY2VsUHJvbWlzZSA9IG5ldyBQcm9taXNlKChyZXNvbHZlKSA9PiB7CiAgICBjYW5jZWwub25jbGljayA9ICgpID0+IHsKICAgICAgcmVzb2x2ZShudWxsKTsKICAgIH07CiAgfSk7CgogIC8vIENhbmNlbCB1cGxvYWQgaWYgdXNlciBoYXNuJ3QgcGlja2VkIGFueXRoaW5nIGluIHRpbWVvdXQuCiAgY29uc3QgdGltZW91dFByb21pc2UgPSBuZXcgUHJvbWlzZSgocmVzb2x2ZSkgPT4gewogICAgc2V0VGltZW91dCgoKSA9PiB7CiAgICAgIHJlc29sdmUobnVsbCk7CiAgICB9LCBGSUxFX0NIQU5HRV9USU1FT1VUX01TKTsKICB9KTsKCiAgLy8gV2FpdCBmb3IgdGhlIHVzZXIgdG8gcGljayB0aGUgZmlsZXMuCiAgY29uc3QgZmlsZXMgPSB5aWVsZCB7CiAgICBwcm9taXNlOiBQcm9taXNlLnJhY2UoW3BpY2tlZFByb21pc2UsIHRpbWVvdXRQcm9taXNlLCBjYW5jZWxQcm9taXNlXSksCiAgICByZXNwb25zZTogewogICAgICBhY3Rpb246ICdzdGFydGluZycsCiAgICB9CiAgfTsKCiAgaWYgKCFmaWxlcykgewogICAgcmV0dXJuIHsKICAgICAgcmVzcG9uc2U6IHsKICAgICAgICBhY3Rpb246ICdjb21wbGV0ZScsCiAgICAgIH0KICAgIH07CiAgfQoKICBjYW5jZWwucmVtb3ZlKCk7CgogIC8vIERpc2FibGUgdGhlIGlucHV0IGVsZW1lbnQgc2luY2UgZnVydGhlciBwaWNrcyBhcmUgbm90IGFsbG93ZWQuCiAgaW5wdXRFbGVtZW50LmRpc2FibGVkID0gdHJ1ZTsKCiAgZm9yIChjb25zdCBmaWxlIG9mIGZpbGVzKSB7CiAgICBjb25zdCBsaSA9IGRvY3VtZW50LmNyZWF0ZUVsZW1lbnQoJ2xpJyk7CiAgICBsaS5hcHBlbmQoc3BhbihmaWxlLm5hbWUsIHtmb250V2VpZ2h0OiAnYm9sZCd9KSk7CiAgICBsaS5hcHBlbmQoc3BhbigKICAgICAgICBgKCR7ZmlsZS50eXBlIHx8ICduL2EnfSkgLSAke2ZpbGUuc2l6ZX0gYnl0ZXMsIGAgKwogICAgICAgIGBsYXN0IG1vZGlmaWVkOiAkewogICAgICAgICAgICBmaWxlLmxhc3RNb2RpZmllZERhdGUgPyBmaWxlLmxhc3RNb2RpZmllZERhdGUudG9Mb2NhbGVEYXRlU3RyaW5nKCkgOgogICAgICAgICAgICAgICAgICAgICAgICAgICAgICAgICAgICAnbi9hJ30gLSBgKSk7CiAgICBjb25zdCBwZXJjZW50ID0gc3BhbignMCUgZG9uZScpOwogICAgbGkuYXBwZW5kQ2hpbGQocGVyY2VudCk7CgogICAgb3V0cHV0RWxlbWVudC5hcHBlbmRDaGlsZChsaSk7CgogICAgY29uc3QgZmlsZURhdGFQcm9taXNlID0gbmV3IFByb21pc2UoKHJlc29sdmUpID0+IHsKICAgICAgY29uc3QgcmVhZGVyID0gbmV3IEZpbGVSZWFkZXIoKTsKICAgICAgcmVhZGVyLm9ubG9hZCA9IChlKSA9PiB7CiAgICAgICAgcmVzb2x2ZShlLnRhcmdldC5yZXN1bHQpOwogICAgICB9OwogICAgICByZWFkZXIucmVhZEFzQXJyYXlCdWZmZXIoZmlsZSk7CiAgICB9KTsKICAgIC8vIFdhaXQgZm9yIHRoZSBkYXRhIHRvIGJlIHJlYWR5LgogICAgbGV0IGZpbGVEYXRhID0geWllbGQgewogICAgICBwcm9taXNlOiBmaWxlRGF0YVByb21pc2UsCiAgICAgIHJlc3BvbnNlOiB7CiAgICAgICAgYWN0aW9uOiAnY29udGludWUnLAogICAgICB9CiAgICB9OwoKICAgIC8vIFVzZSBhIGNodW5rZWQgc2VuZGluZyB0byBhdm9pZCBtZXNzYWdlIHNpemUgbGltaXRzLiBTZWUgYi82MjExNTY2MC4KICAgIGxldCBwb3NpdGlvbiA9IDA7CiAgICB3aGlsZSAocG9zaXRpb24gPCBmaWxlRGF0YS5ieXRlTGVuZ3RoKSB7CiAgICAgIGNvbnN0IGxlbmd0aCA9IE1hdGgubWluKGZpbGVEYXRhLmJ5dGVMZW5ndGggLSBwb3NpdGlvbiwgTUFYX1BBWUxPQURfU0laRSk7CiAgICAgIGNvbnN0IGNodW5rID0gbmV3IFVpbnQ4QXJyYXkoZmlsZURhdGEsIHBvc2l0aW9uLCBsZW5ndGgpOwogICAgICBwb3NpdGlvbiArPSBsZW5ndGg7CgogICAgICBjb25zdCBiYXNlNjQgPSBidG9hKFN0cmluZy5mcm9tQ2hhckNvZGUuYXBwbHkobnVsbCwgY2h1bmspKTsKICAgICAgeWllbGQgewogICAgICAgIHJlc3BvbnNlOiB7CiAgICAgICAgICBhY3Rpb246ICdhcHBlbmQnLAogICAgICAgICAgZmlsZTogZmlsZS5uYW1lLAogICAgICAgICAgZGF0YTogYmFzZTY0LAogICAgICAgIH0sCiAgICAgIH07CiAgICAgIHBlcmNlbnQudGV4dENvbnRlbnQgPQogICAgICAgICAgYCR7TWF0aC5yb3VuZCgocG9zaXRpb24gLyBmaWxlRGF0YS5ieXRlTGVuZ3RoKSAqIDEwMCl9JSBkb25lYDsKICAgIH0KICB9CgogIC8vIEFsbCBkb25lLgogIHlpZWxkIHsKICAgIHJlc3BvbnNlOiB7CiAgICAgIGFjdGlvbjogJ2NvbXBsZXRlJywKICAgIH0KICB9Owp9CgpzY29wZS5nb29nbGUgPSBzY29wZS5nb29nbGUgfHwge307CnNjb3BlLmdvb2dsZS5jb2xhYiA9IHNjb3BlLmdvb2dsZS5jb2xhYiB8fCB7fTsKc2NvcGUuZ29vZ2xlLmNvbGFiLl9maWxlcyA9IHsKICBfdXBsb2FkRmlsZXMsCiAgX3VwbG9hZEZpbGVzQ29udGludWUsCn07Cn0pKHNlbGYpOwo=",
              "ok": true,
              "headers": [
                [
                  "content-type",
                  "application/javascript"
                ]
              ],
              "status": 200,
              "status_text": ""
            }
          },
          "base_uri": "https://localhost:8080/",
          "height": 93
        }
      },
      "source": [
        "from google.colab import files\n",
        "\n",
        "uploaded = files.upload()\n",
        "\n",
        "for fn in uploaded.keys():\n",
        "  print('User uploaded file \"{name}\" with length {length} bytes'.format(\n",
        "      name=fn, length=len(uploaded[fn])))"
      ],
      "execution_count": 0,
      "outputs": [
        {
          "output_type": "display_data",
          "data": {
            "text/html": [
              "\n",
              "     <input type=\"file\" id=\"files-0c239343-5690-4155-9905-b9b4404a1e8c\" name=\"files[]\" multiple disabled />\n",
              "     <output id=\"result-0c239343-5690-4155-9905-b9b4404a1e8c\">\n",
              "      Upload widget is only available when the cell has been executed in the\n",
              "      current browser session. Please rerun this cell to enable.\n",
              "      </output>\n",
              "      <script src=\"/nbextensions/google.colab/files.js\"></script> "
            ],
            "text/plain": [
              "<IPython.core.display.HTML object>"
            ]
          },
          "metadata": {
            "tags": []
          }
        },
        {
          "output_type": "stream",
          "text": [
            "Saving dogandcat.jpg to dogandcat.jpg\n",
            "User uploaded file \"dogandcat.jpg\" with length 26838 bytes\n"
          ],
          "name": "stdout"
        }
      ]
    },
    {
      "cell_type": "markdown",
      "metadata": {
        "id": "X4VmP3g-At9F",
        "colab_type": "text"
      },
      "source": [
        "### Step 10 : Prediction on new class"
      ]
    },
    {
      "cell_type": "code",
      "metadata": {
        "id": "7LmaCJ9m9Jpb",
        "colab_type": "code",
        "colab": {}
      },
      "source": [
        "from keras.preprocessing import image\n",
        "import numpy as np"
      ],
      "execution_count": 0,
      "outputs": []
    },
    {
      "cell_type": "code",
      "metadata": {
        "id": "cezxVvTu9ewc",
        "colab_type": "code",
        "outputId": "5c115ea7-9989-4d2d-f74e-d790b0fe5cca",
        "colab": {
          "base_uri": "https://localhost:8080/",
          "height": 384
        }
      },
      "source": [
        "!wget https://www.dropbox.com/s/qr2girs8xh6ay8f/test_image.jpeg"
      ],
      "execution_count": 0,
      "outputs": [
        {
          "output_type": "stream",
          "text": [
            "--2019-05-05 19:52:21--  https://www.dropbox.com/s/qr2girs8xh6ay8f/test_image.jpeg\n",
            "Resolving www.dropbox.com (www.dropbox.com)... 162.125.8.1, 2620:100:601b:1::a27d:801\n",
            "Connecting to www.dropbox.com (www.dropbox.com)|162.125.8.1|:443... connected.\n",
            "HTTP request sent, awaiting response... 301 Moved Permanently\n",
            "Location: /s/raw/qr2girs8xh6ay8f/test_image.jpeg [following]\n",
            "--2019-05-05 19:52:21--  https://www.dropbox.com/s/raw/qr2girs8xh6ay8f/test_image.jpeg\n",
            "Reusing existing connection to www.dropbox.com:443.\n",
            "HTTP request sent, awaiting response... 302 Found\n",
            "Location: https://uc586846d04258aa8188400e422c.dl.dropboxusercontent.com/cd/0/inline/AgUE8V49DVEL6pBofia3ZM7Rzdn-aGo48OXkELXj_Gl6EmGNlkIYWN97dp7Sl5I14HQNqz6tyHyznPXbxRS8xDgUDZmIH8lKxw_4NZp1CskXBg/file# [following]\n",
            "--2019-05-05 19:52:21--  https://uc586846d04258aa8188400e422c.dl.dropboxusercontent.com/cd/0/inline/AgUE8V49DVEL6pBofia3ZM7Rzdn-aGo48OXkELXj_Gl6EmGNlkIYWN97dp7Sl5I14HQNqz6tyHyznPXbxRS8xDgUDZmIH8lKxw_4NZp1CskXBg/file\n",
            "Resolving uc586846d04258aa8188400e422c.dl.dropboxusercontent.com (uc586846d04258aa8188400e422c.dl.dropboxusercontent.com)... 162.125.3.6, 2620:100:601b:6::a27d:806\n",
            "Connecting to uc586846d04258aa8188400e422c.dl.dropboxusercontent.com (uc586846d04258aa8188400e422c.dl.dropboxusercontent.com)|162.125.3.6|:443... connected.\n",
            "HTTP request sent, awaiting response... 200 OK\n",
            "Length: 23988 (23K) [image/jpeg]\n",
            "Saving to: ‘test_image.jpeg.3’\n",
            "\n",
            "test_image.jpeg.3   100%[===================>]  23.43K  --.-KB/s    in 0.01s   \n",
            "\n",
            "2019-05-05 19:52:22 (2.36 MB/s) - ‘test_image.jpeg.3’ saved [23988/23988]\n",
            "\n"
          ],
          "name": "stdout"
        }
      ]
    },
    {
      "cell_type": "code",
      "metadata": {
        "id": "8AoQ_fPL381y",
        "colab_type": "code",
        "colab": {}
      },
      "source": [
        ""
      ],
      "execution_count": 0,
      "outputs": []
    },
    {
      "cell_type": "code",
      "metadata": {
        "id": "L0J7BDgR38uU",
        "colab_type": "code",
        "colab": {}
      },
      "source": [
        ""
      ],
      "execution_count": 0,
      "outputs": []
    },
    {
      "cell_type": "markdown",
      "metadata": {
        "id": "MI-QwN2nBkzF",
        "colab_type": "text"
      },
      "source": [
        "<h4> Test Image </h4>\n",
        "<center><img src=\"https://www.dropbox.com/s/qr2girs8xh6ay8f/test_image.jpeg\" ></img></center>\n",
        "\n"
      ]
    },
    {
      "cell_type": "code",
      "metadata": {
        "id": "XFDq0zsu9YGL",
        "colab_type": "code",
        "colab": {}
      },
      "source": [
        "test_image = image.load_img('test_image.jpeg', target_size=(64,64))\n",
        "dogandcat = image.load_img('dogandcat.jpg', target_size=(64,64))"
      ],
      "execution_count": 0,
      "outputs": []
    },
    {
      "cell_type": "code",
      "metadata": {
        "id": "IJfnRuAg_QVF",
        "colab_type": "code",
        "colab": {}
      },
      "source": [
        "test_image = image.img_to_array(test_image)\n",
        "dogandcat = image.img_to_array(dogandcat)"
      ],
      "execution_count": 0,
      "outputs": []
    },
    {
      "cell_type": "code",
      "metadata": {
        "id": "vWxY_Z5p_0z9",
        "colab_type": "code",
        "colab": {}
      },
      "source": [
        "\n",
        "test_image = np.expand_dims(test_image, axis=0)\n",
        "dogandcat = np.expand_dims(dogandcat, axis=0)"
      ],
      "execution_count": 0,
      "outputs": []
    },
    {
      "cell_type": "code",
      "metadata": {
        "id": "DKdqrb015LFr",
        "colab_type": "code",
        "outputId": "bb6896fc-e15c-441e-a991-30c543bb3907",
        "colab": {
          "base_uri": "https://localhost:8080/",
          "height": 425
        }
      },
      "source": [
        "from IPython.display import Image\n",
        "\n",
        "Image(filename=\"dogandcat.jpg\")"
      ],
      "execution_count": 0,
      "outputs": [
        {
          "output_type": "execute_result",
          "data": {
            "image/jpeg": "[encoded data removed]",
            "text/plain": [
              "<IPython.core.display.Image object>"
            ]
          },
          "metadata": {
            "tags": []
          },
          "execution_count": 47
        }
      ]
    },
    {
      "cell_type": "code",
      "metadata": {
        "id": "JBJT87gH_sD6",
        "colab_type": "code",
        "outputId": "b1b6503a-6f6e-4401-fea2-3bd2d47c255c",
        "colab": {
          "base_uri": "https://localhost:8080/",
          "height": 35
        }
      },
      "source": [
        "result = classifier.predict(dogandcat)\n",
        "print(result)\n"
      ],
      "execution_count": 0,
      "outputs": [
        {
          "output_type": "stream",
          "text": [
            "[[0.]]\n"
          ],
          "name": "stdout"
        }
      ]
    },
    {
      "cell_type": "code",
      "metadata": {
        "id": "N2vVAlm0_wc3",
        "colab_type": "code",
        "outputId": "3896df81-404e-40b1-c3dd-ce6bcd772e4b",
        "colab": {
          "base_uri": "https://localhost:8080/",
          "height": 35
        }
      },
      "source": [
        "training_set.class_indices"
      ],
      "execution_count": 0,
      "outputs": [
        {
          "output_type": "execute_result",
          "data": {
            "text/plain": [
              "{'cats': 0, 'dogs': 1}"
            ]
          },
          "metadata": {
            "tags": []
          },
          "execution_count": 50
        }
      ]
    },
    {
      "cell_type": "code",
      "metadata": {
        "id": "Cg7PpF99ALPo",
        "colab_type": "code",
        "outputId": "976512c7-76cb-4db7-ced1-2a17f26660d2",
        "colab": {
          "base_uri": "https://localhost:8080/",
          "height": 35
        }
      },
      "source": [
        "if result[0][0] == 1:\n",
        "  print(\"Dog\")\n",
        "else:\n",
        "  print(\"Cat\")"
      ],
      "execution_count": 0,
      "outputs": [
        {
          "output_type": "stream",
          "text": [
            "Cat\n"
          ],
          "name": "stdout"
        }
      ]
    },
    {
      "cell_type": "code",
      "metadata": {
        "id": "S_6dh1GTENNF",
        "colab_type": "code",
        "outputId": "1eaafc4f-80f6-4511-8364-d857d8b442a5",
        "colab": {
          "base_uri": "https://localhost:8080/",
          "height": 35
        }
      },
      "source": [
        "type(result)"
      ],
      "execution_count": 0,
      "outputs": [
        {
          "output_type": "execute_result",
          "data": {
            "text/plain": [
              "numpy.ndarray"
            ]
          },
          "metadata": {
            "tags": []
          },
          "execution_count": 42
        }
      ]
    },
    {
      "cell_type": "code",
      "metadata": {
        "id": "eapX0AfDERwQ",
        "colab_type": "code",
        "outputId": "2b83a5d9-e9c0-48e7-d2c6-00f78c581e44",
        "colab": {
          "base_uri": "https://localhost:8080/",
          "height": 35
        }
      },
      "source": [
        "result"
      ],
      "execution_count": 0,
      "outputs": [
        {
          "output_type": "execute_result",
          "data": {
            "text/plain": [
              "array([[1.]], dtype=float32)"
            ]
          },
          "metadata": {
            "tags": []
          },
          "execution_count": 43
        }
      ]
    },
    {
      "cell_type": "code",
      "metadata": {
        "id": "V8yWNfAV-glE",
        "colab_type": "code",
        "outputId": "acadcd83-b5a9-41a1-f153-1cdc3e81b4c9",
        "colab": {
          "base_uri": "https://localhost:8080/",
          "height": 35
        }
      },
      "source": [
        "import itertools as it\n",
        "def notsame(nums):\n",
        "    return all(num1 != num2 for num1, num2 in zip(nums, nums[1:])) \n",
        "\n",
        "def notsame2(nums): \n",
        "    for i in range(len(nums)-1):\n",
        "        if nums[i] == nums[i+1]:\n",
        "            return False\n",
        "    return True \n",
        "    \n",
        "\n",
        "#for item in list(it.product(a, repeat = n- 2)):\n",
        "#    print(notsame(list(item)))\n",
        "\n",
        "def desired_sequence(n, j, k):\n",
        "    count = 0\n",
        "    a = list(range(1, k+1))\n",
        "    for item in list(it.product(a, repeat = n- 2)):\n",
        "        if notsame(list(item)) and 1 != item[0] and item[len(item)-1] != j:\n",
        "            count += 1\n",
        "    count = count % (10**10+7)\n",
        "    print(count)      \n",
        "desired_sequence(5, 1, 5) "
      ],
      "execution_count": 0,
      "outputs": [
        {
          "output_type": "stream",
          "text": [
            "52\n"
          ],
          "name": "stdout"
        }
      ]
    },
    {
      "cell_type": "code",
      "metadata": {
        "id": "njBuOcTbhiSI",
        "colab_type": "code",
        "colab": {}
      },
      "source": [
        ""
      ],
      "execution_count": 0,
      "outputs": []
    },
    {
      "cell_type": "markdown",
      "metadata": {
        "id": "GYpWfYcBB3cA",
        "colab_type": "text"
      },
      "source": [
        "<h3><center>The End</center></h3>"
      ]
    }
  ]
}