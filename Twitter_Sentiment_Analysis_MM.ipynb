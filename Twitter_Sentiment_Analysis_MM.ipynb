{
  "nbformat": 4,
  "nbformat_minor": 0,
  "metadata": {
    "colab": {
      "name": "Twitter_Sentiment_Analysis_MM.ipynb",
      "version": "0.3.2",
      "provenance": [],
      "collapsed_sections": [
        "tzm0SgHAcyaV",
        "ET4Fn8TJcyaX",
        "CbdkRYxrcyak",
        "LxscakkRcyaz",
        "OwFkPP4Gcybm",
        "Xx62aifHcych"
      ],
      "include_colab_link": true
    },
    "kernelspec": {
      "display_name": "Python 3",
      "language": "python",
      "name": "python3"
    }
  },
  "cells": [
    {
      "cell_type": "markdown",
      "metadata": {
        "id": "view-in-github",
        "colab_type": "text"
      },
      "source": [
        "<a href=\"https://colab.research.google.com/github/mittalmeghna/projects/blob/master/Twitter_Sentiment_Analysis_MM.ipynb\" target=\"_parent\"><img src=\"https://colab.research.google.com/assets/colab-badge.svg\" alt=\"Open In Colab\"/></a>"
      ]
    },
    {
      "cell_type": "markdown",
      "metadata": {
        "id": "NdBt4a2wcyaR",
        "colab_type": "text"
      },
      "source": [
        "# Twitter Sentiment Analysis"
      ]
    },
    {
      "cell_type": "markdown",
      "metadata": {
        "id": "tzm0SgHAcyaV",
        "colab_type": "text"
      },
      "source": [
        "# 01 :Frame the Problem"
      ]
    },
    {
      "cell_type": "markdown",
      "metadata": {
        "id": "41zBgXJlcyaV",
        "colab_type": "text"
      },
      "source": [
        "#### Problem Statement Link :  https://datahack.analyticsvidhya.com/contest/practice-problem-twitter-sentiment-analysis/"
      ]
    },
    {
      "cell_type": "markdown",
      "metadata": {
        "id": "ET4Fn8TJcyaX",
        "colab_type": "text"
      },
      "source": [
        "# 02 :Obtain Data"
      ]
    },
    {
      "cell_type": "markdown",
      "metadata": {
        "id": "ARmL3nlKcyaX",
        "colab_type": "text"
      },
      "source": [
        "### Import Statements"
      ]
    },
    {
      "cell_type": "code",
      "metadata": {
        "id": "zEo9ffljNNcv",
        "colab_type": "code",
        "outputId": "9af07389-7f13-4bfc-f549-ea4dd5577b44",
        "colab": {
          "base_uri": "https://localhost:8080/",
          "height": 35
        }
      },
      "source": [
        "!mkdir twitter\n",
        "%cd twitter\n",
        "!ls\n"
      ],
      "execution_count": 0,
      "outputs": [
        {
          "output_type": "stream",
          "text": [
            "/content/twitter\n"
          ],
          "name": "stdout"
        }
      ]
    },
    {
      "cell_type": "code",
      "metadata": {
        "id": "mdHSpUOdcyaY",
        "colab_type": "code",
        "outputId": "b37bd882-bb5d-4d86-fc96-16be62834fdb",
        "colab": {
          "base_uri": "https://localhost:8080/",
          "height": 243
        }
      },
      "source": [
        "!pip install missingno\n",
        "import numpy as np\n",
        "import pandas as pd\n",
        "import seaborn as sns\n",
        "import matplotlib.pyplot as plt\n",
        "import missingno as ms\n",
        "% matplotlib inline\n",
        "\n",
        "\n"
      ],
      "execution_count": 0,
      "outputs": [
        {
          "output_type": "stream",
          "text": [
            "Requirement already satisfied: missingno in /usr/local/lib/python3.6/dist-packages (0.4.1)\n",
            "Requirement already satisfied: matplotlib in /usr/local/lib/python3.6/dist-packages (from missingno) (3.0.3)\n",
            "Requirement already satisfied: scipy in /usr/local/lib/python3.6/dist-packages (from missingno) (1.2.1)\n",
            "Requirement already satisfied: numpy in /usr/local/lib/python3.6/dist-packages (from missingno) (1.16.3)\n",
            "Requirement already satisfied: seaborn in /usr/local/lib/python3.6/dist-packages (from missingno) (0.9.0)\n",
            "Requirement already satisfied: kiwisolver>=1.0.1 in /usr/local/lib/python3.6/dist-packages (from matplotlib->missingno) (1.1.0)\n",
            "Requirement already satisfied: cycler>=0.10 in /usr/local/lib/python3.6/dist-packages (from matplotlib->missingno) (0.10.0)\n",
            "Requirement already satisfied: python-dateutil>=2.1 in /usr/local/lib/python3.6/dist-packages (from matplotlib->missingno) (2.5.3)\n",
            "Requirement already satisfied: pyparsing!=2.0.4,!=2.1.2,!=2.1.6,>=2.0.1 in /usr/local/lib/python3.6/dist-packages (from matplotlib->missingno) (2.4.0)\n",
            "Requirement already satisfied: pandas>=0.15.2 in /usr/local/lib/python3.6/dist-packages (from seaborn->missingno) (0.24.2)\n",
            "Requirement already satisfied: setuptools in /usr/local/lib/python3.6/dist-packages (from kiwisolver>=1.0.1->matplotlib->missingno) (41.0.1)\n",
            "Requirement already satisfied: six in /usr/local/lib/python3.6/dist-packages (from cycler>=0.10->matplotlib->missingno) (1.12.0)\n",
            "Requirement already satisfied: pytz>=2011k in /usr/local/lib/python3.6/dist-packages (from pandas>=0.15.2->seaborn->missingno) (2018.9)\n"
          ],
          "name": "stdout"
        }
      ]
    },
    {
      "cell_type": "markdown",
      "metadata": {
        "id": "zmylpZZccyae",
        "colab_type": "text"
      },
      "source": [
        "### Reading the Train Data"
      ]
    },
    {
      "cell_type": "code",
      "metadata": {
        "id": "B7Hy1OdMeogC",
        "colab_type": "code",
        "colab": {}
      },
      "source": [
        "!wget https://www.dropbox.com/s/p8fq1p6wan2g89a/train.csv -q"
      ],
      "execution_count": 0,
      "outputs": []
    },
    {
      "cell_type": "code",
      "metadata": {
        "id": "qwf7LwGJxFzt",
        "colab_type": "code",
        "colab": {}
      },
      "source": [
        "!ls -l"
      ],
      "execution_count": 0,
      "outputs": []
    },
    {
      "cell_type": "code",
      "metadata": {
        "id": "W7e7VXv1cyag",
        "colab_type": "code",
        "outputId": "d213ed76-dbc1-47e9-bc60-741c7db5715e",
        "colab": {
          "base_uri": "https://localhost:8080/",
          "height": 156
        }
      },
      "source": [
        "train = pd.read_csv('train.csv')\n",
        "train.info()"
      ],
      "execution_count": 0,
      "outputs": [
        {
          "output_type": "stream",
          "text": [
            "<class 'pandas.core.frame.DataFrame'>\n",
            "RangeIndex: 31962 entries, 0 to 31961\n",
            "Data columns (total 3 columns):\n",
            "id       31962 non-null int64\n",
            "label    31962 non-null int64\n",
            "tweet    31962 non-null object\n",
            "dtypes: int64(2), object(1)\n",
            "memory usage: 749.2+ KB\n"
          ],
          "name": "stdout"
        }
      ]
    },
    {
      "cell_type": "code",
      "metadata": {
        "id": "JqMkpxEAucYU",
        "colab_type": "code",
        "colab": {}
      },
      "source": [
        "pd.set_option('max_colwidth', 240)"
      ],
      "execution_count": 0,
      "outputs": []
    },
    {
      "cell_type": "code",
      "metadata": {
        "id": "Fd7VARYLkXR9",
        "colab_type": "code",
        "outputId": "5032bf0e-bf7e-46a2-b3a5-47b80f3d973b",
        "colab": {
          "base_uri": "https://localhost:8080/",
          "height": 202
        }
      },
      "source": [
        "train.head()"
      ],
      "execution_count": 0,
      "outputs": [
        {
          "output_type": "execute_result",
          "data": {
            "text/html": [
              "<div>\n",
              "<style scoped>\n",
              "    .dataframe tbody tr th:only-of-type {\n",
              "        vertical-align: middle;\n",
              "    }\n",
              "\n",
              "    .dataframe tbody tr th {\n",
              "        vertical-align: top;\n",
              "    }\n",
              "\n",
              "    .dataframe thead th {\n",
              "        text-align: right;\n",
              "    }\n",
              "</style>\n",
              "<table border=\"1\" class=\"dataframe\">\n",
              "  <thead>\n",
              "    <tr style=\"text-align: right;\">\n",
              "      <th></th>\n",
              "      <th>id</th>\n",
              "      <th>label</th>\n",
              "      <th>tweet</th>\n",
              "    </tr>\n",
              "  </thead>\n",
              "  <tbody>\n",
              "    <tr>\n",
              "      <th>0</th>\n",
              "      <td>1</td>\n",
              "      <td>0</td>\n",
              "      <td>@user when a father is dysfunctional and is so selfish he drags his kids into his dysfunction.   #run</td>\n",
              "    </tr>\n",
              "    <tr>\n",
              "      <th>1</th>\n",
              "      <td>2</td>\n",
              "      <td>0</td>\n",
              "      <td>@user @user thanks for #lyft credit i can't use cause they don't offer wheelchair vans in pdx.    #disapointed #getthanked</td>\n",
              "    </tr>\n",
              "    <tr>\n",
              "      <th>2</th>\n",
              "      <td>3</td>\n",
              "      <td>0</td>\n",
              "      <td>bihday your majesty</td>\n",
              "    </tr>\n",
              "    <tr>\n",
              "      <th>3</th>\n",
              "      <td>4</td>\n",
              "      <td>0</td>\n",
              "      <td>#model   i love u take with u all the time in urð±!!! ððððð¦ð¦ð¦</td>\n",
              "    </tr>\n",
              "    <tr>\n",
              "      <th>4</th>\n",
              "      <td>5</td>\n",
              "      <td>0</td>\n",
              "      <td>factsguide: society now    #motivation</td>\n",
              "    </tr>\n",
              "  </tbody>\n",
              "</table>\n",
              "</div>"
            ],
            "text/plain": [
              "   id  label  \\\n",
              "0   1      0   \n",
              "1   2      0   \n",
              "2   3      0   \n",
              "3   4      0   \n",
              "4   5      0   \n",
              "\n",
              "                                                                                                                        tweet  \n",
              "0                       @user when a father is dysfunctional and is so selfish he drags his kids into his dysfunction.   #run  \n",
              "1  @user @user thanks for #lyft credit i can't use cause they don't offer wheelchair vans in pdx.    #disapointed #getthanked  \n",
              "2                                                                                                         bihday your majesty  \n",
              "3                                      #model   i love u take with u all the time in urð±!!! ðððð\n",
              "ð¦ð¦ð¦    \n",
              "4                                                                                      factsguide: society now    #motivation  "
            ]
          },
          "metadata": {
            "tags": []
          },
          "execution_count": 6
        }
      ]
    },
    {
      "cell_type": "markdown",
      "metadata": {
        "id": "CbdkRYxrcyak",
        "colab_type": "text"
      },
      "source": [
        "# 03 : Analyze Data"
      ]
    },
    {
      "cell_type": "code",
      "metadata": {
        "id": "QT2EJjDlcyal",
        "colab_type": "code",
        "outputId": "7dcc2b29-eda4-4e79-8971-24a7560c7277",
        "colab": {
          "base_uri": "https://localhost:8080/",
          "height": 662
        }
      },
      "source": [
        "train.head(20)"
      ],
      "execution_count": 0,
      "outputs": [
        {
          "output_type": "execute_result",
          "data": {
            "text/html": [
              "<div>\n",
              "<style scoped>\n",
              "    .dataframe tbody tr th:only-of-type {\n",
              "        vertical-align: middle;\n",
              "    }\n",
              "\n",
              "    .dataframe tbody tr th {\n",
              "        vertical-align: top;\n",
              "    }\n",
              "\n",
              "    .dataframe thead th {\n",
              "        text-align: right;\n",
              "    }\n",
              "</style>\n",
              "<table border=\"1\" class=\"dataframe\">\n",
              "  <thead>\n",
              "    <tr style=\"text-align: right;\">\n",
              "      <th></th>\n",
              "      <th>id</th>\n",
              "      <th>label</th>\n",
              "      <th>tweet</th>\n",
              "    </tr>\n",
              "  </thead>\n",
              "  <tbody>\n",
              "    <tr>\n",
              "      <th>0</th>\n",
              "      <td>1</td>\n",
              "      <td>0</td>\n",
              "      <td>@user when a father is dysfunctional and is so selfish he drags his kids into his dysfunction.   #run</td>\n",
              "    </tr>\n",
              "    <tr>\n",
              "      <th>1</th>\n",
              "      <td>2</td>\n",
              "      <td>0</td>\n",
              "      <td>@user @user thanks for #lyft credit i can't use cause they don't offer wheelchair vans in pdx.    #disapointed #getthanked</td>\n",
              "    </tr>\n",
              "    <tr>\n",
              "      <th>2</th>\n",
              "      <td>3</td>\n",
              "      <td>0</td>\n",
              "      <td>bihday your majesty</td>\n",
              "    </tr>\n",
              "    <tr>\n",
              "      <th>3</th>\n",
              "      <td>4</td>\n",
              "      <td>0</td>\n",
              "      <td>#model   i love u take with u all the time in urð±!!! ððððð¦ð¦ð¦</td>\n",
              "    </tr>\n",
              "    <tr>\n",
              "      <th>4</th>\n",
              "      <td>5</td>\n",
              "      <td>0</td>\n",
              "      <td>factsguide: society now    #motivation</td>\n",
              "    </tr>\n",
              "    <tr>\n",
              "      <th>5</th>\n",
              "      <td>6</td>\n",
              "      <td>0</td>\n",
              "      <td>[2/2] huge fan fare and big talking before they leave. chaos and pay disputes when they get there. #allshowandnogo</td>\n",
              "    </tr>\n",
              "    <tr>\n",
              "      <th>6</th>\n",
              "      <td>7</td>\n",
              "      <td>0</td>\n",
              "      <td>@user camping tomorrow @user @user @user @user @user @user @user dannyâ¦</td>\n",
              "    </tr>\n",
              "    <tr>\n",
              "      <th>7</th>\n",
              "      <td>8</td>\n",
              "      <td>0</td>\n",
              "      <td>the next school year is the year for exams.ð¯ can't think about that ð­ #school #exams   #hate #imagine #actorslife #revolutionschool #girl</td>\n",
              "    </tr>\n",
              "    <tr>\n",
              "      <th>8</th>\n",
              "      <td>9</td>\n",
              "      <td>0</td>\n",
              "      <td>we won!!! love the land!!! #allin #cavs #champions #cleveland #clevelandcavaliers  â¦</td>\n",
              "    </tr>\n",
              "    <tr>\n",
              "      <th>9</th>\n",
              "      <td>10</td>\n",
              "      <td>0</td>\n",
              "      <td>@user @user welcome here !  i'm   it's so #gr8 !</td>\n",
              "    </tr>\n",
              "    <tr>\n",
              "      <th>10</th>\n",
              "      <td>11</td>\n",
              "      <td>0</td>\n",
              "      <td>â #ireland consumer price index (mom) climbed from previous 0.2% to 0.5% in may   #blog #silver #gold #forex</td>\n",
              "    </tr>\n",
              "    <tr>\n",
              "      <th>11</th>\n",
              "      <td>12</td>\n",
              "      <td>0</td>\n",
              "      <td>we are so selfish. #orlando #standwithorlando #pulseshooting #orlandoshooting #biggerproblems #selfish #heabreaking   #values #love #</td>\n",
              "    </tr>\n",
              "    <tr>\n",
              "      <th>12</th>\n",
              "      <td>13</td>\n",
              "      <td>0</td>\n",
              "      <td>i get to see my daddy today!!   #80days #gettingfed</td>\n",
              "    </tr>\n",
              "    <tr>\n",
              "      <th>13</th>\n",
              "      <td>14</td>\n",
              "      <td>1</td>\n",
              "      <td>@user #cnn calls #michigan middle school 'build the wall' chant '' #tcot</td>\n",
              "    </tr>\n",
              "    <tr>\n",
              "      <th>14</th>\n",
              "      <td>15</td>\n",
              "      <td>1</td>\n",
              "      <td>no comment!  in #australia   #opkillingbay #seashepherd #helpcovedolphins #thecove  #helpcovedolphins</td>\n",
              "    </tr>\n",
              "    <tr>\n",
              "      <th>15</th>\n",
              "      <td>16</td>\n",
              "      <td>0</td>\n",
              "      <td>ouch...junior is angryð#got7 #junior #yugyoem   #omg</td>\n",
              "    </tr>\n",
              "    <tr>\n",
              "      <th>16</th>\n",
              "      <td>17</td>\n",
              "      <td>0</td>\n",
              "      <td>i am thankful for having a paner. #thankful #positive</td>\n",
              "    </tr>\n",
              "    <tr>\n",
              "      <th>17</th>\n",
              "      <td>18</td>\n",
              "      <td>1</td>\n",
              "      <td>retweet if you agree!</td>\n",
              "    </tr>\n",
              "    <tr>\n",
              "      <th>18</th>\n",
              "      <td>19</td>\n",
              "      <td>0</td>\n",
              "      <td>its #friday! ð smiles all around via ig user: @user #cookies make people</td>\n",
              "    </tr>\n",
              "    <tr>\n",
              "      <th>19</th>\n",
              "      <td>20</td>\n",
              "      <td>0</td>\n",
              "      <td>as we all know, essential oils are not made of chemicals.</td>\n",
              "    </tr>\n",
              "  </tbody>\n",
              "</table>\n",
              "</div>"
            ],
            "text/plain": [
              "    id  label  \\\n",
              "0    1      0   \n",
              "1    2      0   \n",
              "2    3      0   \n",
              "3    4      0   \n",
              "4    5      0   \n",
              "5    6      0   \n",
              "6    7      0   \n",
              "7    8      0   \n",
              "8    9      0   \n",
              "9   10      0   \n",
              "10  11      0   \n",
              "11  12      0   \n",
              "12  13      0   \n",
              "13  14      1   \n",
              "14  15      1   \n",
              "15  16      0   \n",
              "16  17      0   \n",
              "17  18      1   \n",
              "18  19      0   \n",
              "19  20      0   \n",
              "\n",
              "                                                                                                                                              tweet  \n",
              "0                                             @user when a father is dysfunctional and is so selfish he drags his kids into his dysfunction.   #run  \n",
              "1                        @user @user thanks for #lyft credit i can't use cause they don't offer wheelchair vans in pdx.    #disapointed #getthanked  \n",
              "2                                                                                                                               bihday your majesty  \n",
              "3                                                            #model   i love u take with u all the time in urð±!!! ðððð\n",
              "ð¦ð¦ð¦    \n",
              "4                                                                                                            factsguide: society now    #motivation  \n",
              "5                              [2/2] huge fan fare and big talking before they leave. chaos and pay disputes when they get there. #allshowandnogo    \n",
              "6                                                                         @user camping tomorrow @user @user @user @user @user @user @user dannyâ¦  \n",
              "7   the next school year is the year for exams.ð¯ can't think about that ð­ #school #exams   #hate #imagine #actorslife #revolutionschool #girl  \n",
              "8                                                           we won!!! love the land!!! #allin #cavs #champions #cleveland #clevelandcavaliers  â¦   \n",
              "9                                                                                                 @user @user welcome here !  i'm   it's so #gr8 !   \n",
              "10                                   â #ireland consumer price index (mom) climbed from previous 0.2% to 0.5% in may   #blog #silver #gold #forex  \n",
              "11            we are so selfish. #orlando #standwithorlando #pulseshooting #orlandoshooting #biggerproblems #selfish #heabreaking   #values #love #  \n",
              "12                                                                                              i get to see my daddy today!!   #80days #gettingfed  \n",
              "13                                                                       @user #cnn calls #michigan middle school 'build the wall' chant '' #tcot    \n",
              "14                                            no comment!  in #australia   #opkillingbay #seashepherd #helpcovedolphins #thecove  #helpcovedolphins  \n",
              "15                                                                                         ouch...junior is angryð#got7 #junior #yugyoem   #omg   \n",
              "16                                                                                       i am thankful for having a paner. #thankful #positive       \n",
              "17                                                                                                                           retweet if you agree!   \n",
              "18                                                                   its #friday! ð smiles all around via ig user: @user #cookies make people     \n",
              "19                                                                                       as we all know, essential oils are not made of chemicals.   "
            ]
          },
          "metadata": {
            "tags": []
          },
          "execution_count": 7
        }
      ]
    },
    {
      "cell_type": "code",
      "metadata": {
        "id": "1FZk81HnuRBE",
        "colab_type": "code",
        "outputId": "1594cdfc-fbf7-4cd1-a5e5-36a281ce9b04",
        "colab": {
          "base_uri": "https://localhost:8080/",
          "height": 87
        }
      },
      "source": [
        "train.iloc[13]"
      ],
      "execution_count": 0,
      "outputs": [
        {
          "output_type": "execute_result",
          "data": {
            "text/plain": [
              "id                                                                               14\n",
              "label                                                                             1\n",
              "tweet    @user #cnn calls #michigan middle school 'build the wall' chant '' #tcot  \n",
              "Name: 13, dtype: object"
            ]
          },
          "metadata": {
            "tags": []
          },
          "execution_count": 8
        }
      ]
    },
    {
      "cell_type": "code",
      "metadata": {
        "id": "xcU0_jJCcyap",
        "colab_type": "code",
        "outputId": "4b406353-4106-45c3-e11c-b84a1363fbfb",
        "colab": {
          "base_uri": "https://localhost:8080/",
          "height": 69
        }
      },
      "source": [
        "train['label'].value_counts()"
      ],
      "execution_count": 0,
      "outputs": [
        {
          "output_type": "execute_result",
          "data": {
            "text/plain": [
              "0    29720\n",
              "1     2242\n",
              "Name: label, dtype: int64"
            ]
          },
          "metadata": {
            "tags": []
          },
          "execution_count": 9
        }
      ]
    },
    {
      "cell_type": "code",
      "metadata": {
        "id": "JRB-IlTWcyau",
        "colab_type": "code",
        "outputId": "b1a370dc-118b-4912-a6ae-5ca6a9256f21",
        "colab": {
          "base_uri": "https://localhost:8080/",
          "height": 121
        }
      },
      "source": [
        "train[train['label']==1]['tweet'].head()"
      ],
      "execution_count": 0,
      "outputs": [
        {
          "output_type": "execute_result",
          "data": {
            "text/plain": [
              "13                                  @user #cnn calls #michigan middle school 'build the wall' chant '' #tcot  \n",
              "14       no comment!  in #australia   #opkillingbay #seashepherd #helpcovedolphins #thecove  #helpcovedolphins\n",
              "17                                                                                      retweet if you agree! \n",
              "23                                                             @user @user lumpy says i am a . prove it lumpy.\n",
              "34    it's unbelievable that in the 21st century we'd need something like this. again. #neverump  #xenophobia \n",
              "Name: tweet, dtype: object"
            ]
          },
          "metadata": {
            "tags": []
          },
          "execution_count": 10
        }
      ]
    },
    {
      "cell_type": "markdown",
      "metadata": {
        "id": "cyoEN8kNcyax",
        "colab_type": "text"
      },
      "source": [
        "## Label types\n",
        "-   0 : Normal\n",
        "-   1 : Hate"
      ]
    },
    {
      "cell_type": "markdown",
      "metadata": {
        "id": "LxscakkRcyaz",
        "colab_type": "text"
      },
      "source": [
        "# 05 : Model Selection ( 1st Iteration)"
      ]
    },
    {
      "cell_type": "markdown",
      "metadata": {
        "id": "ZO14sZhrcya3",
        "colab_type": "text"
      },
      "source": [
        "## RandomForest without Preprocessing of Text Data"
      ]
    },
    {
      "cell_type": "code",
      "metadata": {
        "id": "c6cW-MYEcya5",
        "colab_type": "code",
        "colab": {}
      },
      "source": [
        "#Building the model without preprocessing of data\n",
        "unprocessed_data = pd.read_csv('train.csv')"
      ],
      "execution_count": 0,
      "outputs": []
    },
    {
      "cell_type": "code",
      "metadata": {
        "id": "sWIpAIwkcya_",
        "colab_type": "code",
        "colab": {}
      },
      "source": [
        "from sklearn.model_selection import train_test_split\n",
        "\n",
        "\n",
        "#splitting the data into random train and test subsets\n",
        "X_train, X_test, y_train, y_test = train_test_split(unprocessed_data[\"tweet\"],\n",
        "                                                        unprocessed_data[\"label\"], \n",
        "                                                    test_size = 0.2, random_state = 42)"
      ],
      "execution_count": 0,
      "outputs": []
    },
    {
      "cell_type": "code",
      "metadata": {
        "id": "OKlor2vwcybC",
        "colab_type": "code",
        "colab": {}
      },
      "source": [
        "# Sequentialization of tasks\n",
        "from sklearn.pipeline import Pipeline\n",
        "\n",
        "#generating ngrams and tokens and Bagging\n",
        "from sklearn.feature_extraction.text import CountVectorizer, TfidfTransformer, TfidfVectorizer\n",
        "\n",
        "from sklearn.ensemble import RandomForestClassifier\n",
        "\n",
        "text_clf = Pipeline([('vect', CountVectorizer(stop_words='english')),\n",
        "                      ('tfidf', TfidfTransformer()),\n",
        "                     ('clf', RandomForestClassifier(n_estimators=50)),])"
      ],
      "execution_count": 0,
      "outputs": []
    },
    {
      "cell_type": "code",
      "metadata": {
        "id": "ntZBQGzLIdye",
        "colab_type": "code",
        "outputId": "299e90c0-1d51-4690-ed66-21eded97b7ea",
        "colab": {
          "base_uri": "https://localhost:8080/",
          "height": 35
        }
      },
      "source": [
        "type(text_clf)"
      ],
      "execution_count": 0,
      "outputs": [
        {
          "output_type": "execute_result",
          "data": {
            "text/plain": [
              "sklearn.pipeline.Pipeline"
            ]
          },
          "metadata": {
            "tags": []
          },
          "execution_count": 25
        }
      ]
    },
    {
      "cell_type": "code",
      "metadata": {
        "id": "44UiE9uJcybG",
        "colab_type": "code",
        "colab": {}
      },
      "source": [
        "model = text_clf.fit(X_train,y_train)"
      ],
      "execution_count": 0,
      "outputs": []
    },
    {
      "cell_type": "code",
      "metadata": {
        "id": "BuSld_gicybJ",
        "colab_type": "code",
        "colab": {}
      },
      "source": [
        "predicted = model.predict(X_test)"
      ],
      "execution_count": 0,
      "outputs": []
    },
    {
      "cell_type": "code",
      "metadata": {
        "id": "AP9mNIPLcybQ",
        "colab_type": "code",
        "colab": {}
      },
      "source": [
        "from sklearn.metrics import precision_score,recall_score,f1_score, accuracy_score, confusion_matrix, classification_report"
      ],
      "execution_count": 0,
      "outputs": []
    },
    {
      "cell_type": "code",
      "metadata": {
        "id": "Hl9X8LfE-bmh",
        "colab_type": "code",
        "outputId": "cd356ccd-28f5-4e94-bb43-d12d0e71d3ed",
        "colab": {
          "base_uri": "https://localhost:8080/",
          "height": 52
        }
      },
      "source": [
        "confusion_matrix(y_test,predicted)"
      ],
      "execution_count": 0,
      "outputs": [
        {
          "output_type": "execute_result",
          "data": {
            "text/plain": [
              "array([[5916,   21],\n",
              "       [ 253,  203]])"
            ]
          },
          "metadata": {
            "tags": []
          },
          "execution_count": 19
        }
      ]
    },
    {
      "cell_type": "code",
      "metadata": {
        "id": "nyRyVCpOcybX",
        "colab_type": "code",
        "outputId": "87e9159d-017c-4934-e031-1ded26ec2a53",
        "colab": {
          "base_uri": "https://localhost:8080/",
          "height": 35
        }
      },
      "source": [
        "accuracy_score(y_test,predicted)"
      ],
      "execution_count": 0,
      "outputs": [
        {
          "output_type": "execute_result",
          "data": {
            "text/plain": [
              "0.9571406225559206"
            ]
          },
          "metadata": {
            "tags": []
          },
          "execution_count": 20
        }
      ]
    },
    {
      "cell_type": "code",
      "metadata": {
        "id": "gC4FA0B16Q46",
        "colab_type": "code",
        "outputId": "afc43436-4e93-4db1-b322-b583e87b6695",
        "colab": {
          "base_uri": "https://localhost:8080/",
          "height": 35
        }
      },
      "source": [
        "precision_score(y_test,predicted) # True positive/Predicted positive"
      ],
      "execution_count": 0,
      "outputs": [
        {
          "output_type": "execute_result",
          "data": {
            "text/plain": [
              "0.90625"
            ]
          },
          "metadata": {
            "tags": []
          },
          "execution_count": 21
        }
      ]
    },
    {
      "cell_type": "code",
      "metadata": {
        "id": "jR6qcZrbcybd",
        "colab_type": "code",
        "outputId": "858f888f-7c43-46a8-d144-90df2b760539",
        "colab": {
          "base_uri": "https://localhost:8080/",
          "height": 35
        }
      },
      "source": [
        "recall_score(y_test,predicted) # true positive/actual positive = TP/TP+FN When it was actually racist, how often did I caught it?"
      ],
      "execution_count": 0,
      "outputs": [
        {
          "output_type": "execute_result",
          "data": {
            "text/plain": [
              "0.4451754385964912"
            ]
          },
          "metadata": {
            "tags": []
          },
          "execution_count": 22
        }
      ]
    },
    {
      "cell_type": "code",
      "metadata": {
        "id": "93wsrfhkcybh",
        "colab_type": "code",
        "outputId": "9d66417f-5584-4cd8-ca5a-cb99791a6d53",
        "colab": {
          "base_uri": "https://localhost:8080/",
          "height": 35
        }
      },
      "source": [
        "f1_score(y_test,predicted)"
      ],
      "execution_count": 0,
      "outputs": [
        {
          "output_type": "execute_result",
          "data": {
            "text/plain": [
              "0.5970588235294118"
            ]
          },
          "metadata": {
            "tags": []
          },
          "execution_count": 23
        }
      ]
    },
    {
      "cell_type": "markdown",
      "metadata": {
        "id": "OwFkPP4Gcybm",
        "colab_type": "text"
      },
      "source": [
        "# 04 and 05 : Feature Engineering and Model Selection (2nd Iteration)"
      ]
    },
    {
      "cell_type": "markdown",
      "metadata": {
        "id": "47IjHacjcybn",
        "colab_type": "text"
      },
      "source": [
        "Preprocessing of Text data is very important for Textual Analysis. Tokenization, Feature Extraction (Vectorization) are the most important techniques in Scikit-Learn. \n",
        "The text must be parsed to extract words, called tokenization. Then the words need to be encoded as integers or floating point values for use as input to a machine learning algorithm, called feature extraction (or vectorization).\n"
      ]
    },
    {
      "cell_type": "code",
      "metadata": {
        "id": "Gix7KnZTcybp",
        "colab_type": "code",
        "colab": {}
      },
      "source": [
        "#regular expression \n",
        "import re \n",
        "\n",
        "#regular expression for the removal of name tags and the emoticons from tweets.\n",
        "def process_tweet(tweet):\n",
        "    return \" \".join(re.sub(\"(@[A-Za-z0-9]+)|([^0-9A-Za-z \\t])\", \" \",tweet.lower()).split())"
      ],
      "execution_count": 0,
      "outputs": []
    },
    {
      "cell_type": "code",
      "metadata": {
        "id": "ku256IDFcybs",
        "colab_type": "code",
        "colab": {}
      },
      "source": [
        "#Dropping of columns from pd\n",
        "def drop_features(features,data):\n",
        "    data.drop(features,inplace=True,axis=1)"
      ],
      "execution_count": 0,
      "outputs": []
    },
    {
      "cell_type": "code",
      "metadata": {
        "id": "OhfPruW_cybv",
        "colab_type": "code",
        "colab": {}
      },
      "source": [
        "#Applying the Process_tweet function to the given Train Data\n",
        "train['processed_tweets'] = train['tweet'].apply(process_tweet)"
      ],
      "execution_count": 0,
      "outputs": []
    },
    {
      "cell_type": "code",
      "metadata": {
        "id": "fIFHG0sHcyby",
        "colab_type": "code",
        "outputId": "3e800fa2-306e-4bef-95eb-3a4a86c7d7b7",
        "colab": {
          "base_uri": "https://localhost:8080/",
          "height": 219
        }
      },
      "source": [
        "train.head()"
      ],
      "execution_count": 0,
      "outputs": [
        {
          "output_type": "execute_result",
          "data": {
            "text/html": [
              "<div>\n",
              "<style scoped>\n",
              "    .dataframe tbody tr th:only-of-type {\n",
              "        vertical-align: middle;\n",
              "    }\n",
              "\n",
              "    .dataframe tbody tr th {\n",
              "        vertical-align: top;\n",
              "    }\n",
              "\n",
              "    .dataframe thead th {\n",
              "        text-align: right;\n",
              "    }\n",
              "</style>\n",
              "<table border=\"1\" class=\"dataframe\">\n",
              "  <thead>\n",
              "    <tr style=\"text-align: right;\">\n",
              "      <th></th>\n",
              "      <th>id</th>\n",
              "      <th>label</th>\n",
              "      <th>tweet</th>\n",
              "      <th>processed_tweets</th>\n",
              "    </tr>\n",
              "  </thead>\n",
              "  <tbody>\n",
              "    <tr>\n",
              "      <th>0</th>\n",
              "      <td>1</td>\n",
              "      <td>0</td>\n",
              "      <td>@user when a father is dysfunctional and is so selfish he drags his kids into his dysfunction.   #run</td>\n",
              "      <td>when a father is dysfunctional and is so selfish he drags his kids into his dysfunction run</td>\n",
              "    </tr>\n",
              "    <tr>\n",
              "      <th>1</th>\n",
              "      <td>2</td>\n",
              "      <td>0</td>\n",
              "      <td>@user @user thanks for #lyft credit i can't use cause they don't offer wheelchair vans in pdx.    #disapointed #getthanked</td>\n",
              "      <td>thanks for lyft credit i can t use cause they don t offer wheelchair vans in pdx disapointed getthanked</td>\n",
              "    </tr>\n",
              "    <tr>\n",
              "      <th>2</th>\n",
              "      <td>3</td>\n",
              "      <td>0</td>\n",
              "      <td>bihday your majesty</td>\n",
              "      <td>bihday your majesty</td>\n",
              "    </tr>\n",
              "    <tr>\n",
              "      <th>3</th>\n",
              "      <td>4</td>\n",
              "      <td>0</td>\n",
              "      <td>#model   i love u take with u all the time in urð±!!! ððððð¦ð¦ð¦</td>\n",
              "      <td>model i love u take with u all the time in ur</td>\n",
              "    </tr>\n",
              "    <tr>\n",
              "      <th>4</th>\n",
              "      <td>5</td>\n",
              "      <td>0</td>\n",
              "      <td>factsguide: society now    #motivation</td>\n",
              "      <td>factsguide society now motivation</td>\n",
              "    </tr>\n",
              "  </tbody>\n",
              "</table>\n",
              "</div>"
            ],
            "text/plain": [
              "   id  label  \\\n",
              "0   1      0   \n",
              "1   2      0   \n",
              "2   3      0   \n",
              "3   4      0   \n",
              "4   5      0   \n",
              "\n",
              "                                                                                                                        tweet  \\\n",
              "0                       @user when a father is dysfunctional and is so selfish he drags his kids into his dysfunction.   #run   \n",
              "1  @user @user thanks for #lyft credit i can't use cause they don't offer wheelchair vans in pdx.    #disapointed #getthanked   \n",
              "2                                                                                                         bihday your majesty   \n",
              "3                                      #model   i love u take with u all the time in urð±!!! ðððð\n",
              "ð¦ð¦ð¦     \n",
              "4                                                                                      factsguide: society now    #motivation   \n",
              "\n",
              "                                                                                          processed_tweets  \n",
              "0              when a father is dysfunctional and is so selfish he drags his kids into his dysfunction run  \n",
              "1  thanks for lyft credit i can t use cause they don t offer wheelchair vans in pdx disapointed getthanked  \n",
              "2                                                                                      bihday your majesty  \n",
              "3                                                            model i love u take with u all the time in ur  \n",
              "4                                                                        factsguide society now motivation  "
            ]
          },
          "metadata": {
            "tags": []
          },
          "execution_count": 30
        }
      ]
    },
    {
      "cell_type": "code",
      "metadata": {
        "id": "TPBOZpkmcyb1",
        "colab_type": "code",
        "outputId": "676b910e-c1a0-4b0b-923e-9d177cfdccdd",
        "colab": {
          "base_uri": "https://localhost:8080/",
          "height": 870
        }
      },
      "source": [
        "train[train['label']==1].head(20)"
      ],
      "execution_count": 0,
      "outputs": [
        {
          "output_type": "execute_result",
          "data": {
            "text/html": [
              "<div>\n",
              "<style scoped>\n",
              "    .dataframe tbody tr th:only-of-type {\n",
              "        vertical-align: middle;\n",
              "    }\n",
              "\n",
              "    .dataframe tbody tr th {\n",
              "        vertical-align: top;\n",
              "    }\n",
              "\n",
              "    .dataframe thead th {\n",
              "        text-align: right;\n",
              "    }\n",
              "</style>\n",
              "<table border=\"1\" class=\"dataframe\">\n",
              "  <thead>\n",
              "    <tr style=\"text-align: right;\">\n",
              "      <th></th>\n",
              "      <th>id</th>\n",
              "      <th>label</th>\n",
              "      <th>tweet</th>\n",
              "      <th>processed_tweets</th>\n",
              "    </tr>\n",
              "  </thead>\n",
              "  <tbody>\n",
              "    <tr>\n",
              "      <th>13</th>\n",
              "      <td>14</td>\n",
              "      <td>1</td>\n",
              "      <td>@user #cnn calls #michigan middle school 'build the wall' chant '' #tcot</td>\n",
              "      <td>cnn calls michigan middle school build the wall chant tcot</td>\n",
              "    </tr>\n",
              "    <tr>\n",
              "      <th>14</th>\n",
              "      <td>15</td>\n",
              "      <td>1</td>\n",
              "      <td>no comment!  in #australia   #opkillingbay #seashepherd #helpcovedolphins #thecove  #helpcovedolphins</td>\n",
              "      <td>no comment in australia opkillingbay seashepherd helpcovedolphins thecove helpcovedolphins</td>\n",
              "    </tr>\n",
              "    <tr>\n",
              "      <th>17</th>\n",
              "      <td>18</td>\n",
              "      <td>1</td>\n",
              "      <td>retweet if you agree!</td>\n",
              "      <td>retweet if you agree</td>\n",
              "    </tr>\n",
              "    <tr>\n",
              "      <th>23</th>\n",
              "      <td>24</td>\n",
              "      <td>1</td>\n",
              "      <td>@user @user lumpy says i am a . prove it lumpy.</td>\n",
              "      <td>lumpy says i am a prove it lumpy</td>\n",
              "    </tr>\n",
              "    <tr>\n",
              "      <th>34</th>\n",
              "      <td>35</td>\n",
              "      <td>1</td>\n",
              "      <td>it's unbelievable that in the 21st century we'd need something like this. again. #neverump  #xenophobia</td>\n",
              "      <td>it s unbelievable that in the 21st century we d need something like this again neverump xenophobia</td>\n",
              "    </tr>\n",
              "    <tr>\n",
              "      <th>56</th>\n",
              "      <td>57</td>\n",
              "      <td>1</td>\n",
              "      <td>@user lets fight against  #love #peace</td>\n",
              "      <td>lets fight against love peace</td>\n",
              "    </tr>\n",
              "    <tr>\n",
              "      <th>68</th>\n",
              "      <td>69</td>\n",
              "      <td>1</td>\n",
              "      <td>ð©the white establishment can't have blk folx running around loving themselves and promoting our greatness</td>\n",
              "      <td>the white establishment can t have blk folx running around loving themselves and promoting our greatness</td>\n",
              "    </tr>\n",
              "    <tr>\n",
              "      <th>77</th>\n",
              "      <td>78</td>\n",
              "      <td>1</td>\n",
              "      <td>@user hey, white people: you can call people 'white' by @user  #race  #identity #medâ¦</td>\n",
              "      <td>hey white people you can call people white by race identity med</td>\n",
              "    </tr>\n",
              "    <tr>\n",
              "      <th>82</th>\n",
              "      <td>83</td>\n",
              "      <td>1</td>\n",
              "      <td>how the #altright uses  &amp;amp; insecurity to lure men into #whitesupremacy</td>\n",
              "      <td>how the altright uses amp insecurity to lure men into whitesupremacy</td>\n",
              "    </tr>\n",
              "    <tr>\n",
              "      <th>111</th>\n",
              "      <td>112</td>\n",
              "      <td>1</td>\n",
              "      <td>@user i'm not interested in a #linguistics that doesn't address #race &amp;amp; . racism is about #power. #raciolinguistics bringsâ¦</td>\n",
              "      <td>i m not interested in a linguistics that doesn t address race amp racism is about power raciolinguistics brings</td>\n",
              "    </tr>\n",
              "    <tr>\n",
              "      <th>114</th>\n",
              "      <td>115</td>\n",
              "      <td>1</td>\n",
              "      <td>@user why not @user mocked obama for being black.  @user @user @user @user #brexit</td>\n",
              "      <td>why not mocked obama for being black brexit</td>\n",
              "    </tr>\n",
              "    <tr>\n",
              "      <th>131</th>\n",
              "      <td>132</td>\n",
              "      <td>1</td>\n",
              "      <td>#people aren't protesting #trump because a #republican won-they do so because trump has fuhered  &amp;amp;â¦</td>\n",
              "      <td>people aren t protesting trump because a republican won they do so because trump has fuhered amp</td>\n",
              "    </tr>\n",
              "    <tr>\n",
              "      <th>151</th>\n",
              "      <td>152</td>\n",
              "      <td>1</td>\n",
              "      <td>yes it's  when you call #michelleobama a gorilla because racists have long thought of black people as no betâ¦</td>\n",
              "      <td>yes it s when you call michelleobama a gorilla because racists have long thought of black people as no bet</td>\n",
              "    </tr>\n",
              "    <tr>\n",
              "      <th>156</th>\n",
              "      <td>157</td>\n",
              "      <td>1</td>\n",
              "      <td>as the smaller hands show, barry probably lied about  being why his #knicks game sucked more than his #golfâ¦</td>\n",
              "      <td>as the smaller hands show barry probably lied about being why his knicks game sucked more than his golf</td>\n",
              "    </tr>\n",
              "    <tr>\n",
              "      <th>167</th>\n",
              "      <td>168</td>\n",
              "      <td>1</td>\n",
              "      <td>@user @user you point one finger @user millions are pointed right back at you,  #jewishsupremacist</td>\n",
              "      <td>you point one finger millions are pointed right back at you jewishsupremacist</td>\n",
              "    </tr>\n",
              "    <tr>\n",
              "      <th>192</th>\n",
              "      <td>193</td>\n",
              "      <td>1</td>\n",
              "      <td>you might be a libtard if... #libtard  #sjw #liberal #politics</td>\n",
              "      <td>you might be a libtard if libtard sjw liberal politics</td>\n",
              "    </tr>\n",
              "    <tr>\n",
              "      <th>210</th>\n",
              "      <td>211</td>\n",
              "      <td>1</td>\n",
              "      <td>@user take out the #trash america...  - i voted against #hate - i voted against  - i voted against  - i votâ¦</td>\n",
              "      <td>take out the trash america i voted against hate i voted against i voted against i vot</td>\n",
              "    </tr>\n",
              "    <tr>\n",
              "      <th>232</th>\n",
              "      <td>233</td>\n",
              "      <td>1</td>\n",
              "      <td>if you hold open a door for a woman because she's a woman and not because it's a nice thing to do, that's . don't even try to deny it</td>\n",
              "      <td>if you hold open a door for a woman because she s a woman and not because it s a nice thing to do that s don t even try to deny it</td>\n",
              "    </tr>\n",
              "    <tr>\n",
              "      <th>263</th>\n",
              "      <td>264</td>\n",
              "      <td>1</td>\n",
              "      <td>@user this man ran for governor of ny, the state with the biggest african-american population    #â¦</td>\n",
              "      <td>this man ran for governor of ny the state with the biggest african american population</td>\n",
              "    </tr>\n",
              "    <tr>\n",
              "      <th>264</th>\n",
              "      <td>265</td>\n",
              "      <td>1</td>\n",
              "      <td>#stereotyping #prejudice  offer no #hope or solutions but create the same old repetitive #hate #conflictâ¦</td>\n",
              "      <td>stereotyping prejudice offer no hope or solutions but create the same old repetitive hate conflict</td>\n",
              "    </tr>\n",
              "  </tbody>\n",
              "</table>\n",
              "</div>"
            ],
            "text/plain": [
              "      id  label  \\\n",
              "13    14      1   \n",
              "14    15      1   \n",
              "17    18      1   \n",
              "23    24      1   \n",
              "34    35      1   \n",
              "56    57      1   \n",
              "68    69      1   \n",
              "77    78      1   \n",
              "82    83      1   \n",
              "111  112      1   \n",
              "114  115      1   \n",
              "131  132      1   \n",
              "151  152      1   \n",
              "156  157      1   \n",
              "167  168      1   \n",
              "192  193      1   \n",
              "210  211      1   \n",
              "232  233      1   \n",
              "263  264      1   \n",
              "264  265      1   \n",
              "\n",
              "                                                                                                                                     tweet  \\\n",
              "13                                                              @user #cnn calls #michigan middle school 'build the wall' chant '' #tcot     \n",
              "14                                   no comment!  in #australia   #opkillingbay #seashepherd #helpcovedolphins #thecove  #helpcovedolphins   \n",
              "17                                                                                                                  retweet if you agree!    \n",
              "23                                                                                         @user @user lumpy says i am a . prove it lumpy.   \n",
              "34                                it's unbelievable that in the 21st century we'd need something like this. again. #neverump  #xenophobia    \n",
              "56                                                                                                 @user lets fight against  #love #peace    \n",
              "68                          ð©the white establishment can't have blk folx running around loving themselves and promoting our greatness     \n",
              "77                                                 @user hey, white people: you can call people 'white' by @user  #race  #identity #medâ¦   \n",
              "82                                                           how the #altright uses  &amp; insecurity to lure men into #whitesupremacy       \n",
              "111      @user i'm not interested in a #linguistics that doesn't address #race &amp; . racism is about #power. #raciolinguistics bringsâ¦   \n",
              "114                                                     @user why not @user mocked obama for being black.  @user @user @user @user #brexit   \n",
              "131                             #people aren't protesting #trump because a #republican won-they do so because trump has fuhered  &amp;â¦    \n",
              "151                       yes it's  when you call #michelleobama a gorilla because racists have long thought of black people as no betâ¦    \n",
              "156                        as the smaller hands show, barry probably lied about  being why his #knicks game sucked more than his #golfâ¦    \n",
              "167                                     @user @user you point one finger @user millions are pointed right back at you,  #jewishsupremacist   \n",
              "192                                                                        you might be a libtard if... #libtard  #sjw #liberal #politics    \n",
              "210                        @user take out the #trash america...  - i voted against #hate - i voted against  - i voted against  - i votâ¦    \n",
              "232  if you hold open a door for a woman because she's a woman and not because it's a nice thing to do, that's . don't even try to deny it   \n",
              "263                                  @user this man ran for governor of ny, the state with the biggest african-american population    #â¦   \n",
              "264                           #stereotyping #prejudice  offer no #hope or solutions but create the same old repetitive #hate #conflictâ¦    \n",
              "\n",
              "                                                                                                                       processed_tweets  \n",
              "13                                                                           cnn calls michigan middle school build the wall chant tcot  \n",
              "14                                           no comment in australia opkillingbay seashepherd helpcovedolphins thecove helpcovedolphins  \n",
              "17                                                                                                                 retweet if you agree  \n",
              "23                                                                                                     lumpy says i am a prove it lumpy  \n",
              "34                                   it s unbelievable that in the 21st century we d need something like this again neverump xenophobia  \n",
              "56                                                                                                        lets fight against love peace  \n",
              "68                             the white establishment can t have blk folx running around loving themselves and promoting our greatness  \n",
              "77                                                                      hey white people you can call people white by race identity med  \n",
              "82                                                                 how the altright uses amp insecurity to lure men into whitesupremacy  \n",
              "111                     i m not interested in a linguistics that doesn t address race amp racism is about power raciolinguistics brings  \n",
              "114                                                                                         why not mocked obama for being black brexit  \n",
              "131                                    people aren t protesting trump because a republican won they do so because trump has fuhered amp  \n",
              "151                          yes it s when you call michelleobama a gorilla because racists have long thought of black people as no bet  \n",
              "156                             as the smaller hands show barry probably lied about being why his knicks game sucked more than his golf  \n",
              "167                                                       you point one finger millions are pointed right back at you jewishsupremacist  \n",
              "192                                                                              you might be a libtard if libtard sjw liberal politics  \n",
              "210                                               take out the trash america i voted against hate i voted against i voted against i vot  \n",
              "232  if you hold open a door for a woman because she s a woman and not because it s a nice thing to do that s don t even try to deny it  \n",
              "263                                              this man ran for governor of ny the state with the biggest african american population  \n",
              "264                                  stereotyping prejudice offer no hope or solutions but create the same old repetitive hate conflict  "
            ]
          },
          "metadata": {
            "tags": []
          },
          "execution_count": 31
        }
      ]
    },
    {
      "cell_type": "code",
      "metadata": {
        "id": "8sKtJXnWcyb4",
        "colab_type": "code",
        "colab": {}
      },
      "source": [
        "drop_features(['id','tweet'],train)"
      ],
      "execution_count": 0,
      "outputs": []
    },
    {
      "cell_type": "code",
      "metadata": {
        "id": "5IicKPahcyb8",
        "colab_type": "code",
        "outputId": "a8c81ac4-a512-4a3c-91d8-a115dfcf0734",
        "colab": {
          "base_uri": "https://localhost:8080/",
          "height": 202
        }
      },
      "source": [
        "train.head()"
      ],
      "execution_count": 0,
      "outputs": [
        {
          "output_type": "execute_result",
          "data": {
            "text/html": [
              "<div>\n",
              "<style scoped>\n",
              "    .dataframe tbody tr th:only-of-type {\n",
              "        vertical-align: middle;\n",
              "    }\n",
              "\n",
              "    .dataframe tbody tr th {\n",
              "        vertical-align: top;\n",
              "    }\n",
              "\n",
              "    .dataframe thead th {\n",
              "        text-align: right;\n",
              "    }\n",
              "</style>\n",
              "<table border=\"1\" class=\"dataframe\">\n",
              "  <thead>\n",
              "    <tr style=\"text-align: right;\">\n",
              "      <th></th>\n",
              "      <th>label</th>\n",
              "      <th>processed_tweets</th>\n",
              "    </tr>\n",
              "  </thead>\n",
              "  <tbody>\n",
              "    <tr>\n",
              "      <th>0</th>\n",
              "      <td>0</td>\n",
              "      <td>when a father is dysfunctional and is so selfish he drags his kids into his dysfunction run</td>\n",
              "    </tr>\n",
              "    <tr>\n",
              "      <th>1</th>\n",
              "      <td>0</td>\n",
              "      <td>thanks for lyft credit i can t use cause they don t offer wheelchair vans in pdx disapointed getthanked</td>\n",
              "    </tr>\n",
              "    <tr>\n",
              "      <th>2</th>\n",
              "      <td>0</td>\n",
              "      <td>bihday your majesty</td>\n",
              "    </tr>\n",
              "    <tr>\n",
              "      <th>3</th>\n",
              "      <td>0</td>\n",
              "      <td>model i love u take with u all the time in ur</td>\n",
              "    </tr>\n",
              "    <tr>\n",
              "      <th>4</th>\n",
              "      <td>0</td>\n",
              "      <td>factsguide society now motivation</td>\n",
              "    </tr>\n",
              "  </tbody>\n",
              "</table>\n",
              "</div>"
            ],
            "text/plain": [
              "   label  \\\n",
              "0      0   \n",
              "1      0   \n",
              "2      0   \n",
              "3      0   \n",
              "4      0   \n",
              "\n",
              "                                                                                          processed_tweets  \n",
              "0              when a father is dysfunctional and is so selfish he drags his kids into his dysfunction run  \n",
              "1  thanks for lyft credit i can t use cause they don t offer wheelchair vans in pdx disapointed getthanked  \n",
              "2                                                                                      bihday your majesty  \n",
              "3                                                            model i love u take with u all the time in ur  \n",
              "4                                                                        factsguide society now motivation  "
            ]
          },
          "metadata": {
            "tags": []
          },
          "execution_count": 33
        }
      ]
    },
    {
      "cell_type": "code",
      "metadata": {
        "id": "iUs7ij12cycA",
        "colab_type": "code",
        "colab": {}
      },
      "source": [
        "#splitting the data into random train and test subsets\n",
        "x_train, x_test, y_train, y_test = train_test_split(train[\"processed_tweets\"],train[\"label\"],\n",
        "                                                    test_size = 0.2, random_state = 42)"
      ],
      "execution_count": 0,
      "outputs": []
    },
    {
      "cell_type": "markdown",
      "metadata": {
        "id": "ppnpLomfcycD",
        "colab_type": "text"
      },
      "source": [
        "Pipeline : Sequentially apply a list of transforms and a final estimator. Intermediate steps of the pipeline must be ‘transforms’, that is, they must implement fit and transform methods. The final estimator only needs to implement fit. "
      ]
    },
    {
      "cell_type": "code",
      "metadata": {
        "id": "ILSy_zy-cycG",
        "colab_type": "code",
        "colab": {}
      },
      "source": [
        "text_clf = Pipeline([('vect', CountVectorizer(stop_words='english')),\n",
        "                      ('tfidf', TfidfTransformer()),\n",
        "                     ('clf', RandomForestClassifier(n_estimators=200)),])\n",
        "text = text_clf.fit(x_train,y_train)"
      ],
      "execution_count": 0,
      "outputs": []
    },
    {
      "cell_type": "code",
      "metadata": {
        "id": "ErVvXOqkcycK",
        "colab_type": "code",
        "colab": {}
      },
      "source": [
        "predicted = text.predict(x_test)"
      ],
      "execution_count": 0,
      "outputs": []
    },
    {
      "cell_type": "code",
      "metadata": {
        "id": "uv3YZCOEcycO",
        "colab_type": "code",
        "colab": {}
      },
      "source": [
        "from sklearn.metrics import confusion_matrix, classification_report,precision_score"
      ],
      "execution_count": 0,
      "outputs": []
    },
    {
      "cell_type": "code",
      "metadata": {
        "id": "P0rDhze8cycW",
        "colab_type": "code",
        "outputId": "06137a64-eec2-4d4a-de04-ae02b79d81ed",
        "colab": {
          "base_uri": "https://localhost:8080/",
          "height": 52
        }
      },
      "source": [
        "cm_m = confusion_matrix(y_test,predicted)\n",
        "cm_m"
      ],
      "execution_count": 0,
      "outputs": [
        {
          "output_type": "execute_result",
          "data": {
            "text/plain": [
              "array([[5902,   35],\n",
              "       [ 215,  241]])"
            ]
          },
          "metadata": {
            "tags": []
          },
          "execution_count": 38
        }
      ]
    },
    {
      "cell_type": "code",
      "metadata": {
        "id": "y5G_beLH3NPF",
        "colab_type": "code",
        "colab": {}
      },
      "source": [
        "TN, FP = cm_m[0]\n",
        "FN, TP = cm_m[1]"
      ],
      "execution_count": 0,
      "outputs": []
    },
    {
      "cell_type": "code",
      "metadata": {
        "id": "RsIU_dO73WOj",
        "colab_type": "code",
        "outputId": "75d1f1ab-5571-4636-c51d-fd9b521eb7db",
        "colab": {
          "base_uri": "https://localhost:8080/",
          "height": 35
        }
      },
      "source": [
        "TP"
      ],
      "execution_count": 0,
      "outputs": [
        {
          "output_type": "execute_result",
          "data": {
            "text/plain": [
              "241"
            ]
          },
          "metadata": {
            "tags": []
          },
          "execution_count": 40
        }
      ]
    },
    {
      "cell_type": "code",
      "metadata": {
        "id": "pyZgRKJB43Yr",
        "colab_type": "code",
        "outputId": "afc12ae5-ccdc-4550-eaf5-0bb7f85bc66a",
        "colab": {
          "base_uri": "https://localhost:8080/",
          "height": 35
        }
      },
      "source": [
        "float(TN+TP)/(TN+TP+FN+FP)"
      ],
      "execution_count": 0,
      "outputs": [
        {
          "output_type": "execute_result",
          "data": {
            "text/plain": [
              "0.9608947286094166"
            ]
          },
          "metadata": {
            "tags": []
          },
          "execution_count": 41
        }
      ]
    },
    {
      "cell_type": "code",
      "metadata": {
        "id": "eLPHotjvRkFc",
        "colab_type": "code",
        "outputId": "d95c6d90-47ee-442c-9552-82217fda28a0",
        "colab": {
          "base_uri": "https://localhost:8080/",
          "height": 35
        }
      },
      "source": [
        "p = TP/(TP+FP)\n",
        "p"
      ],
      "execution_count": 0,
      "outputs": [
        {
          "output_type": "execute_result",
          "data": {
            "text/plain": [
              "0.8731884057971014"
            ]
          },
          "metadata": {
            "tags": []
          },
          "execution_count": 42
        }
      ]
    },
    {
      "cell_type": "code",
      "metadata": {
        "id": "mbhuq7iscyca",
        "colab_type": "code",
        "outputId": "46b2a634-cc8c-4654-bc0c-eaab2d026878",
        "colab": {
          "base_uri": "https://localhost:8080/",
          "height": 35
        }
      },
      "source": [
        "precision_score(y_test,predicted)"
      ],
      "execution_count": 0,
      "outputs": [
        {
          "output_type": "execute_result",
          "data": {
            "text/plain": [
              "0.8731884057971014"
            ]
          },
          "metadata": {
            "tags": []
          },
          "execution_count": 43
        }
      ]
    },
    {
      "cell_type": "code",
      "metadata": {
        "id": "R289nYn8R0Tg",
        "colab_type": "code",
        "outputId": "c92a356a-ae7c-4a29-d46d-ca375ff898ce",
        "colab": {
          "base_uri": "https://localhost:8080/",
          "height": 35
        }
      },
      "source": [
        "r = TP/(FN+TP)\n",
        "r"
      ],
      "execution_count": 0,
      "outputs": [
        {
          "output_type": "execute_result",
          "data": {
            "text/plain": [
              "0.5285087719298246"
            ]
          },
          "metadata": {
            "tags": []
          },
          "execution_count": 44
        }
      ]
    },
    {
      "cell_type": "code",
      "metadata": {
        "id": "XsUDNFfUcyce",
        "colab_type": "code",
        "outputId": "35d25fca-4020-4303-c495-f7975c1edf0a",
        "colab": {
          "base_uri": "https://localhost:8080/",
          "height": 35
        }
      },
      "source": [
        "recall_score(y_test,predicted)"
      ],
      "execution_count": 0,
      "outputs": [
        {
          "output_type": "execute_result",
          "data": {
            "text/plain": [
              "0.5285087719298246"
            ]
          },
          "metadata": {
            "tags": []
          },
          "execution_count": 45
        }
      ]
    },
    {
      "cell_type": "code",
      "metadata": {
        "id": "J6nnay9jR7pO",
        "colab_type": "code",
        "outputId": "7cb02cab-f31b-45e6-a59d-3f0b7180dc5e",
        "colab": {
          "base_uri": "https://localhost:8080/",
          "height": 35
        }
      },
      "source": [
        "f1 = 2*p*r/(p+r)\n",
        "f1"
      ],
      "execution_count": 0,
      "outputs": [
        {
          "output_type": "execute_result",
          "data": {
            "text/plain": [
              "0.6584699453551913"
            ]
          },
          "metadata": {
            "tags": []
          },
          "execution_count": 46
        }
      ]
    },
    {
      "cell_type": "code",
      "metadata": {
        "id": "8sDAeurqcycS",
        "colab_type": "code",
        "outputId": "f0704349-cc52-4ed8-deed-2ec0c7b1b2b7",
        "colab": {
          "base_uri": "https://localhost:8080/",
          "height": 35
        }
      },
      "source": [
        "f1_score(y_test,predicted)"
      ],
      "execution_count": 0,
      "outputs": [
        {
          "output_type": "execute_result",
          "data": {
            "text/plain": [
              "0.6584699453551913"
            ]
          },
          "metadata": {
            "tags": []
          },
          "execution_count": 47
        }
      ]
    },
    {
      "cell_type": "markdown",
      "metadata": {
        "id": "Xx62aifHcych",
        "colab_type": "text"
      },
      "source": [
        "# 04 and 05 : Feature Engineering and Model Selection (3rd Iteration)"
      ]
    },
    {
      "cell_type": "code",
      "metadata": {
        "id": "zA5IBXItcyci",
        "colab_type": "code",
        "colab": {}
      },
      "source": [
        "\n",
        "count_vect = CountVectorizer(stop_words='english',ngram_range=(1,3),analyzer='word')\n",
        "transformer = TfidfTransformer(norm='l2',sublinear_tf=True)"
      ],
      "execution_count": 0,
      "outputs": []
    },
    {
      "cell_type": "code",
      "metadata": {
        "id": "TZ9vB5a1KxnX",
        "colab_type": "code",
        "outputId": "f668ddcc-c3bd-4e8d-8871-d34aef715756",
        "colab": {
          "base_uri": "https://localhost:8080/",
          "height": 35
        }
      },
      "source": [
        "type(count_vect)"
      ],
      "execution_count": 0,
      "outputs": [
        {
          "output_type": "execute_result",
          "data": {
            "text/plain": [
              "sklearn.feature_extraction.text.CountVectorizer"
            ]
          },
          "metadata": {
            "tags": []
          },
          "execution_count": 49
        }
      ]
    },
    {
      "cell_type": "code",
      "metadata": {
        "id": "Zf0Ff6BZcycl",
        "colab_type": "code",
        "colab": {}
      },
      "source": [
        "#splitting the data into random train and test subsets\n",
        "x_train, x_test, y_train, y_test = train_test_split(train[\"processed_tweets\"],train[\"label\"],\n",
        "                                                    test_size = 0.2, random_state = 42)\n",
        "\n",
        "x_train_counts = count_vect.fit_transform(x_train)\n",
        "x_train_tfidf = transformer.fit_transform(x_train_counts)\n",
        "x_test_counts = count_vect.transform(x_test)\n",
        "x_test_tfidf = transformer.transform(x_test_counts)"
      ],
      "execution_count": 0,
      "outputs": []
    },
    {
      "cell_type": "code",
      "metadata": {
        "id": "uazetEyTcycq",
        "colab_type": "code",
        "outputId": "649a91b8-fd75-4aef-cca1-38073807c0e5",
        "colab": {
          "base_uri": "https://localhost:8080/",
          "height": 87
        }
      },
      "source": [
        "print(x_train_counts.shape)\n",
        "print(x_train_tfidf.shape)\n",
        "print(x_test_counts.shape)\n",
        "print(x_test_tfidf.shape)"
      ],
      "execution_count": 0,
      "outputs": [
        {
          "output_type": "stream",
          "text": [
            "(25569, 272155)\n",
            "(25569, 272155)\n",
            "(6393, 272155)\n",
            "(6393, 272155)\n"
          ],
          "name": "stdout"
        }
      ]
    },
    {
      "cell_type": "code",
      "metadata": {
        "id": "OL_yxN9Gcycv",
        "colab_type": "code",
        "outputId": "76cc3540-48be-4635-ad20-cfbada870cee",
        "colab": {
          "base_uri": "https://localhost:8080/",
          "height": 72
        }
      },
      "source": [
        "from sklearn.linear_model import SGDClassifier\n",
        "\n",
        "model = SGDClassifier(loss=\"modified_huber\", penalty=\"l1\")\n",
        "model.fit(x_train_tfidf,y_train)\n",
        "predictions = model.predict(x_test_tfidf)"
      ],
      "execution_count": 0,
      "outputs": [
        {
          "output_type": "stream",
          "text": [
            "/usr/local/lib/python3.6/dist-packages/sklearn/linear_model/stochastic_gradient.py:166: FutureWarning: max_iter and tol parameters have been added in SGDClassifier in 0.19. If both are left unset, they default to max_iter=5 and tol=None. If tol is not None, max_iter defaults to max_iter=1000. From 0.21, default max_iter will be 1000, and default tol will be 1e-3.\n",
            "  FutureWarning)\n"
          ],
          "name": "stderr"
        }
      ]
    },
    {
      "cell_type": "code",
      "metadata": {
        "id": "oZjcEFlacyc0",
        "colab_type": "code",
        "outputId": "f851bb9d-1c4e-49e1-c0ec-0ad31d8d3904",
        "colab": {
          "base_uri": "https://localhost:8080/",
          "height": 35
        }
      },
      "source": [
        "f1_score(y_test,predictions)"
      ],
      "execution_count": 0,
      "outputs": [
        {
          "output_type": "execute_result",
          "data": {
            "text/plain": [
              "0.5798969072164948"
            ]
          },
          "metadata": {
            "tags": []
          },
          "execution_count": 53
        }
      ]
    },
    {
      "cell_type": "code",
      "metadata": {
        "id": "F7FL95xSCRiz",
        "colab_type": "code",
        "outputId": "37392f60-d8ce-4bf7-99dc-04fa1f2f7dd0",
        "colab": {
          "base_uri": "https://localhost:8080/",
          "height": 35
        }
      },
      "source": [
        "recall_score(y_test,predictions)"
      ],
      "execution_count": 0,
      "outputs": [
        {
          "output_type": "execute_result",
          "data": {
            "text/plain": [
              "0.4934210526315789"
            ]
          },
          "metadata": {
            "tags": []
          },
          "execution_count": 54
        }
      ]
    },
    {
      "cell_type": "code",
      "metadata": {
        "id": "WKgx4J3VCRWy",
        "colab_type": "code",
        "outputId": "bece03e8-a29f-4601-a878-5f20e06a48b3",
        "colab": {
          "base_uri": "https://localhost:8080/",
          "height": 35
        }
      },
      "source": [
        "precision_score(y_test,predictions)"
      ],
      "execution_count": 0,
      "outputs": [
        {
          "output_type": "execute_result",
          "data": {
            "text/plain": [
              "0.703125"
            ]
          },
          "metadata": {
            "tags": []
          },
          "execution_count": 55
        }
      ]
    },
    {
      "cell_type": "code",
      "metadata": {
        "id": "uOJfC-TQCRKS",
        "colab_type": "code",
        "outputId": "44a66f08-2522-4dec-a94b-696ae924b09e",
        "colab": {
          "base_uri": "https://localhost:8080/",
          "height": 35
        }
      },
      "source": [
        "f1_score(y_test,predictions)"
      ],
      "execution_count": 0,
      "outputs": [
        {
          "output_type": "execute_result",
          "data": {
            "text/plain": [
              "0.5798969072164948"
            ]
          },
          "metadata": {
            "tags": []
          },
          "execution_count": 56
        }
      ]
    },
    {
      "cell_type": "markdown",
      "metadata": {
        "id": "nGzaxQ4ccyc3",
        "colab_type": "text"
      },
      "source": [
        "# 05 : Model Selection"
      ]
    },
    {
      "cell_type": "code",
      "metadata": {
        "id": "C2HWZTTjcyc5",
        "colab_type": "code",
        "outputId": "7953e9be-1bc0-4e63-f7c0-70d7b3746f08",
        "colab": {
          "base_uri": "https://localhost:8080/",
          "height": 69
        }
      },
      "source": [
        "#different classification modesls being used\n",
        "from sklearn.svm import LinearSVC\n",
        "\n",
        "model_svc = LinearSVC(C=2.0,max_iter=500,tol=0.0001,loss ='hinge')\n",
        "model_svc.fit(x_train_counts,y_train)"
      ],
      "execution_count": 0,
      "outputs": [
        {
          "output_type": "execute_result",
          "data": {
            "text/plain": [
              "LinearSVC(C=2.0, class_weight=None, dual=True, fit_intercept=True,\n",
              "     intercept_scaling=1, loss='hinge', max_iter=500, multi_class='ovr',\n",
              "     penalty='l2', random_state=None, tol=0.0001, verbose=0)"
            ]
          },
          "metadata": {
            "tags": []
          },
          "execution_count": 57
        }
      ]
    },
    {
      "cell_type": "code",
      "metadata": {
        "id": "b_LTy4q4cyc_",
        "colab_type": "code",
        "colab": {}
      },
      "source": [
        "predict_svc = model_svc.predict(x_test_counts)"
      ],
      "execution_count": 0,
      "outputs": []
    },
    {
      "cell_type": "code",
      "metadata": {
        "id": "qnYwAU5DcydC",
        "colab_type": "code",
        "outputId": "abeaf37c-0260-4270-dab2-90f6067c90ca",
        "colab": {
          "base_uri": "https://localhost:8080/",
          "height": 35
        }
      },
      "source": [
        "f1_score(y_test,predict_svc)"
      ],
      "execution_count": 0,
      "outputs": [
        {
          "output_type": "execute_result",
          "data": {
            "text/plain": [
              "0.6745718050065876"
            ]
          },
          "metadata": {
            "tags": []
          },
          "execution_count": 59
        }
      ]
    },
    {
      "cell_type": "code",
      "metadata": {
        "id": "L4DupaqjChEM",
        "colab_type": "code",
        "outputId": "c16f15c0-3670-4826-e14b-15fbf2a191c9",
        "colab": {
          "base_uri": "https://localhost:8080/",
          "height": 35
        }
      },
      "source": [
        "recall_score(y_test,predict_svc)"
      ],
      "execution_count": 0,
      "outputs": [
        {
          "output_type": "execute_result",
          "data": {
            "text/plain": [
              "0.5614035087719298"
            ]
          },
          "metadata": {
            "tags": []
          },
          "execution_count": 60
        }
      ]
    },
    {
      "cell_type": "markdown",
      "metadata": {
        "id": "PTMPadzBcydM",
        "colab_type": "text"
      },
      "source": [
        "# 06 : Tune the Model"
      ]
    },
    {
      "cell_type": "code",
      "metadata": {
        "id": "GrYMEX1rcydN",
        "colab_type": "code",
        "outputId": "af10b149-345f-4961-f2d1-30c816f65347",
        "colab": {
          "base_uri": "https://localhost:8080/",
          "height": 263
        }
      },
      "source": [
        "\n",
        "#optimizing parameters\n",
        "from sklearn.model_selection import GridSearchCV\n",
        "\n",
        "\n",
        "params = {\"tfidf__ngram_range\": [(1, 2), (1,3), (1,4)],\n",
        "          \"svc__C\": [.01, .1, 1, 10, 100]}\n",
        "\n",
        "clf = Pipeline([(\"tfidf\", TfidfVectorizer(sublinear_tf=True)),\n",
        "                (\"svc\", LinearSVC(loss='hinge'))])\n",
        "\n",
        "gs = GridSearchCV(clf, params, verbose=4, n_jobs=-1)\n",
        "gs.fit(x_train,y_train)\n",
        "print(\"Best Estimator = \", gs.best_estimator_)\n",
        "print(\"Best Score = \",gs.best_score_)"
      ],
      "execution_count": 0,
      "outputs": [
        {
          "output_type": "stream",
          "text": [
            "Fitting 3 folds for each of 15 candidates, totalling 45 fits\n"
          ],
          "name": "stdout"
        },
        {
          "output_type": "stream",
          "text": [
            "/usr/local/lib/python3.6/dist-packages/sklearn/model_selection/_split.py:2053: FutureWarning: You should specify a value for 'cv' instead of relying on the default value. The default value will change from 3 to 5 in version 0.22.\n",
            "  warnings.warn(CV_WARNING, FutureWarning)\n",
            "[Parallel(n_jobs=-1)]: Using backend LokyBackend with 2 concurrent workers.\n",
            "[Parallel(n_jobs=-1)]: Done  21 tasks      | elapsed:   45.2s\n",
            "[Parallel(n_jobs=-1)]: Done  45 out of  45 | elapsed:  2.0min finished\n"
          ],
          "name": "stderr"
        },
        {
          "output_type": "stream",
          "text": [
            "Best Estimator =  Pipeline(memory=None,\n",
            "     steps=[('tfidf', TfidfVectorizer(analyzer='word', binary=False, decode_error='strict',\n",
            "        dtype=<class 'numpy.float64'>, encoding='utf-8', input='content',\n",
            "        lowercase=True, max_df=1.0, max_features=None, min_df=1,\n",
            "        ngram_range=(1, 2), norm='l2', preprocessor=None, smooth_idf=True,...e', max_iter=1000, multi_class='ovr',\n",
            "     penalty='l2', random_state=None, tol=0.0001, verbose=0))])\n",
            "Best Score =  0.9630411826821542\n"
          ],
          "name": "stdout"
        }
      ]
    },
    {
      "cell_type": "code",
      "metadata": {
        "id": "dwYFNF0ccydQ",
        "colab_type": "code",
        "colab": {}
      },
      "source": [
        "predicted = gs.predict(x_test)\n"
      ],
      "execution_count": 0,
      "outputs": []
    },
    {
      "cell_type": "code",
      "metadata": {
        "id": "RcIFAblxcydU",
        "colab_type": "code",
        "outputId": "b59c53cd-19f3-49f2-c21c-4bb5d9f7c2cc",
        "colab": {
          "base_uri": "https://localhost:8080/",
          "height": 35
        }
      },
      "source": [
        "predicted"
      ],
      "execution_count": 0,
      "outputs": [
        {
          "output_type": "execute_result",
          "data": {
            "text/plain": [
              "array([0, 0, 0, ..., 0, 0, 1])"
            ]
          },
          "metadata": {
            "tags": []
          },
          "execution_count": 63
        }
      ]
    },
    {
      "cell_type": "code",
      "metadata": {
        "id": "JD6u-vtNcydY",
        "colab_type": "code",
        "outputId": "b2e76c92-8f31-4d6d-ca0d-d1eb746ab0c0",
        "colab": {
          "base_uri": "https://localhost:8080/",
          "height": 35
        }
      },
      "source": [
        "f1_score(y_test,predicted)"
      ],
      "execution_count": 0,
      "outputs": [
        {
          "output_type": "execute_result",
          "data": {
            "text/plain": [
              "0.7245657568238213"
            ]
          },
          "metadata": {
            "tags": []
          },
          "execution_count": 64
        }
      ]
    },
    {
      "cell_type": "code",
      "metadata": {
        "id": "lDzYhR4LGC1O",
        "colab_type": "code",
        "outputId": "3a1e5d07-c3a2-4a4c-8062-b0bede791be7",
        "colab": {
          "base_uri": "https://localhost:8080/",
          "height": 35
        }
      },
      "source": [
        "recall_score(y_test,predicted)"
      ],
      "execution_count": 0,
      "outputs": [
        {
          "output_type": "execute_result",
          "data": {
            "text/plain": [
              "0.6403508771929824"
            ]
          },
          "metadata": {
            "tags": []
          },
          "execution_count": 65
        }
      ]
    },
    {
      "cell_type": "code",
      "metadata": {
        "id": "Rmlfhm1CGCsm",
        "colab_type": "code",
        "outputId": "8da9c748-d81c-4f5d-b396-f4330b4edbd9",
        "colab": {
          "base_uri": "https://localhost:8080/",
          "height": 35
        }
      },
      "source": [
        "precision_score(y_test,predicted)"
      ],
      "execution_count": 0,
      "outputs": [
        {
          "output_type": "execute_result",
          "data": {
            "text/plain": [
              "0.8342857142857143"
            ]
          },
          "metadata": {
            "tags": []
          },
          "execution_count": 66
        }
      ]
    },
    {
      "cell_type": "markdown",
      "metadata": {
        "id": "DEspfC2rcydf",
        "colab_type": "text"
      },
      "source": [
        "# 07 : Predict on new cases"
      ]
    },
    {
      "cell_type": "code",
      "metadata": {
        "id": "U7vEEfaAfPUR",
        "colab_type": "code",
        "outputId": "36066fba-3b77-47b8-8177-31b5990a3e72",
        "colab": {
          "base_uri": "https://localhost:8080/",
          "height": 384
        }
      },
      "source": [
        "!wget https://www.dropbox.com/s/as2y6lpjsh6284l/test.csv"
      ],
      "execution_count": 0,
      "outputs": [
        {
          "output_type": "stream",
          "text": [
            "--2019-05-05 23:01:25--  https://www.dropbox.com/s/as2y6lpjsh6284l/test.csv\n",
            "Resolving www.dropbox.com (www.dropbox.com)... 162.125.8.1, 2620:100:6016:1::a27d:101\n",
            "Connecting to www.dropbox.com (www.dropbox.com)|162.125.8.1|:443... connected.\n",
            "HTTP request sent, awaiting response... 301 Moved Permanently\n",
            "Location: /s/raw/as2y6lpjsh6284l/test.csv [following]\n",
            "--2019-05-05 23:01:25--  https://www.dropbox.com/s/raw/as2y6lpjsh6284l/test.csv\n",
            "Reusing existing connection to www.dropbox.com:443.\n",
            "HTTP request sent, awaiting response... 302 Found\n",
            "Location: https://uc1dc07496e570faa0cb00b8ba2a.dl.dropboxusercontent.com/cd/0/inline/AgXb5h4CursuR8t5GncccysfB6yecmKrXKqqAOx3rfsC2wtSxrQ8eeOyoBOJhK9txG9RVVrpnwtNbndr_bHb7geF4Gk28dd8xJ7rW8kOr6hunQ/file# [following]\n",
            "--2019-05-05 23:01:25--  https://uc1dc07496e570faa0cb00b8ba2a.dl.dropboxusercontent.com/cd/0/inline/AgXb5h4CursuR8t5GncccysfB6yecmKrXKqqAOx3rfsC2wtSxrQ8eeOyoBOJhK9txG9RVVrpnwtNbndr_bHb7geF4Gk28dd8xJ7rW8kOr6hunQ/file\n",
            "Resolving uc1dc07496e570faa0cb00b8ba2a.dl.dropboxusercontent.com (uc1dc07496e570faa0cb00b8ba2a.dl.dropboxusercontent.com)... 162.125.1.6, 2620:100:601b:6::a27d:806\n",
            "Connecting to uc1dc07496e570faa0cb00b8ba2a.dl.dropboxusercontent.com (uc1dc07496e570faa0cb00b8ba2a.dl.dropboxusercontent.com)|162.125.1.6|:443... connected.\n",
            "HTTP request sent, awaiting response... 200 OK\n",
            "Length: 1635543 (1.6M) [text/plain]\n",
            "Saving to: ‘test.csv’\n",
            "\n",
            "test.csv            100%[===================>]   1.56M  --.-KB/s    in 0.09s   \n",
            "\n",
            "2019-05-05 23:01:26 (16.5 MB/s) - ‘test.csv’ saved [1635543/1635543]\n",
            "\n"
          ],
          "name": "stdout"
        }
      ]
    },
    {
      "cell_type": "code",
      "metadata": {
        "id": "5-gLZQBUcydg",
        "colab_type": "code",
        "colab": {}
      },
      "source": [
        "submission = pd.read_csv('test.csv')\n",
        "submission.info()"
      ],
      "execution_count": 0,
      "outputs": []
    },
    {
      "cell_type": "code",
      "metadata": {
        "id": "MR_4JhdGcydj",
        "colab_type": "code",
        "colab": {}
      },
      "source": [
        "submission['processed_tweet'] = submission['tweet'].apply(process_tweet)"
      ],
      "execution_count": 0,
      "outputs": []
    },
    {
      "cell_type": "code",
      "metadata": {
        "id": "87TJQBwBcydp",
        "colab_type": "code",
        "colab": {}
      },
      "source": [
        "submission.head()"
      ],
      "execution_count": 0,
      "outputs": []
    },
    {
      "cell_type": "code",
      "metadata": {
        "id": "uZIrcv-Vcyds",
        "colab_type": "code",
        "colab": {}
      },
      "source": [
        "drop_features(['tweet'],submission)"
      ],
      "execution_count": 0,
      "outputs": []
    },
    {
      "cell_type": "code",
      "metadata": {
        "id": "xrBlYyEXcydw",
        "colab_type": "code",
        "colab": {}
      },
      "source": [
        "submission.head()"
      ],
      "execution_count": 0,
      "outputs": []
    },
    {
      "cell_type": "code",
      "metadata": {
        "id": "wNdl88jMcyd2",
        "colab_type": "code",
        "colab": {}
      },
      "source": [
        "predicted = gs.predict(submission['processed_tweet'])"
      ],
      "execution_count": 0,
      "outputs": []
    },
    {
      "cell_type": "code",
      "metadata": {
        "id": "rtvZBhVacyd8",
        "colab_type": "code",
        "colab": {}
      },
      "source": [
        "predicted"
      ],
      "execution_count": 0,
      "outputs": []
    },
    {
      "cell_type": "code",
      "metadata": {
        "id": "Ooq33e_zcyeA",
        "colab_type": "code",
        "colab": {}
      },
      "source": [
        "final_predict = pd.DataFrame(predicted,columns=['label'])\n",
        "result = pd.DataFrame(submission['id'],columns=['id'])\n",
        "result = pd.concat([result,final_predict],axis=1)\n",
        "result.to_csv('final_predictions.csv',index=False)"
      ],
      "execution_count": 0,
      "outputs": []
    },
    {
      "cell_type": "code",
      "metadata": {
        "id": "5EOBhV-gcyeD",
        "colab_type": "code",
        "colab": {}
      },
      "source": [
        "result['label'].value_counts()"
      ],
      "execution_count": 0,
      "outputs": []
    },
    {
      "cell_type": "code",
      "metadata": {
        "id": "HQrRoUiTRg5T",
        "colab_type": "code",
        "colab": {}
      },
      "source": [
        ""
      ],
      "execution_count": 0,
      "outputs": []
    }
  ]
}